{
 "cells": [
  {
   "cell_type": "code",
   "execution_count": 1,
   "metadata": {},
   "outputs": [
    {
     "data": {
      "image/png": "[encoded data removed]",
      "text/plain": [
       "<Figure size 432x288 with 1 Axes>"
      ]
     },
     "metadata": {
      "needs_background": "light"
     },
     "output_type": "display_data"
    }
   ],
   "source": [
    "size = [5 , 6, 10, 15, 20 ,50 ]\n",
    "inf = 60\n",
    "time = [86 , 106 ,  inf*4, inf*6 , inf*8 , inf*20 ]\n",
    "import matplotlib.pyplot as plt\n",
    "plt.plot(size,time, '-*')\n",
    "plt.title('Time measurment of solving maze-dash RL based')\n",
    "plt.xlabel('Size of Grid')\n",
    "plt.ylabel('Time(s)')\n",
    "plt.show()\n"
   ]
  },
  {
   "cell_type": "code",
   "execution_count": 2,
   "metadata": {},
   "outputs": [
    {
     "data": {
      "text/html": [
       "<div>\n",
       "<style scoped>\n",
       "    .dataframe tbody tr th:only-of-type {\n",
       "        vertical-align: middle;\n",
       "    }\n",
       "\n",
       "    .dataframe tbody tr th {\n",
       "        vertical-align: top;\n",
       "    }\n",
       "\n",
       "    .dataframe thead th {\n",
       "        text-align: right;\n",
       "    }\n",
       "</style>\n",
       "<table border=\"1\" class=\"dataframe\">\n",
       "  <thead>\n",
       "    <tr style=\"text-align: right;\">\n",
       "      <th></th>\n",
       "      <th>GRID_SIZE</th>\n",
       "      <th>SAT</th>\n",
       "      <th>DFS</th>\n",
       "      <th>MCTS</th>\n",
       "      <th>RL</th>\n",
       "    </tr>\n",
       "  </thead>\n",
       "  <tbody>\n",
       "    <tr>\n",
       "      <th>0</th>\n",
       "      <td>5*5</td>\n",
       "      <td>0.45</td>\n",
       "      <td>0.010</td>\n",
       "      <td>0.011</td>\n",
       "      <td>86</td>\n",
       "    </tr>\n",
       "    <tr>\n",
       "      <th>1</th>\n",
       "      <td>6*6</td>\n",
       "      <td>0.65</td>\n",
       "      <td>0.012</td>\n",
       "      <td>0.013</td>\n",
       "      <td>106</td>\n",
       "    </tr>\n",
       "    <tr>\n",
       "      <th>2</th>\n",
       "      <td>10*10</td>\n",
       "      <td>1.79</td>\n",
       "      <td>0.450</td>\n",
       "      <td>0.070</td>\n",
       "      <td>0</td>\n",
       "    </tr>\n",
       "    <tr>\n",
       "      <th>3</th>\n",
       "      <td>15*15</td>\n",
       "      <td>4.18</td>\n",
       "      <td>5.240</td>\n",
       "      <td>0.090</td>\n",
       "      <td>0</td>\n",
       "    </tr>\n",
       "    <tr>\n",
       "      <th>4</th>\n",
       "      <td>20*20</td>\n",
       "      <td>11.28</td>\n",
       "      <td>9.620</td>\n",
       "      <td>1.160</td>\n",
       "      <td>0</td>\n",
       "    </tr>\n",
       "    <tr>\n",
       "      <th>5</th>\n",
       "      <td>30*30</td>\n",
       "      <td>17.94</td>\n",
       "      <td>43.700</td>\n",
       "      <td>5.420</td>\n",
       "      <td>0</td>\n",
       "    </tr>\n",
       "    <tr>\n",
       "      <th>6</th>\n",
       "      <td>50*50</td>\n",
       "      <td>126.60</td>\n",
       "      <td>0.000</td>\n",
       "      <td>0.000</td>\n",
       "      <td>0</td>\n",
       "    </tr>\n",
       "  </tbody>\n",
       "</table>\n",
       "</div>"
      ],
      "text/plain": [
       "  GRID_SIZE     SAT     DFS   MCTS   RL\n",
       "0       5*5    0.45   0.010  0.011   86\n",
       "1       6*6    0.65   0.012  0.013  106\n",
       "2     10*10    1.79   0.450  0.070    0\n",
       "3     15*15    4.18   5.240  0.090    0\n",
       "4     20*20   11.28   9.620  1.160    0\n",
       "5     30*30   17.94  43.700  5.420    0\n",
       "6     50*50  126.60   0.000  0.000    0"
      ]
     },
     "execution_count": 2,
     "metadata": {},
     "output_type": "execute_result"
    }
   ],
   "source": [
    "import numpy as np\n",
    "import matplotlib.pyplot as plt\n",
    "import pandas as pd\n",
    "\n",
    "\n",
    "labels = ['SAT', 'DFS' , 'MCTS' ,'RL' ]\n",
    "SAT = [0.45,0.65,1.79, 4.18, 11.28, 17.94,126.6  ]\n",
    "DFS = [0.01,0.012, 0.45, 5.24, 9.62, 43.7  , 0 ]\n",
    "MCTS = [0.011 , 0.013, 0.07, 0.09, 1.16 , 5.42 , 0]\n",
    "RL = [86 , 106 , 0,0,0,0,0]\n",
    "\n",
    "raw_data = {'GRID_SIZE': ['5*5', '6*6', '10*10', '15*15', '20*20' , '30*30' , '50*50'],\n",
    "        'SAT': SAT,\n",
    "        'DFS': DFS,\n",
    "        'MCTS': MCTS,\n",
    "        'RL' : RL}\n",
    "df = pd.DataFrame(raw_data, columns = ['GRID_SIZE','SAT' , 'DFS' , 'MCTS', 'RL'])\n",
    "df\n"
   ]
  },
  {
   "cell_type": "code",
   "execution_count": 49,
   "metadata": {},
   "outputs": [],
   "source": [
    "pos = list(range(len(df['SAT']))) \n",
    "width = 0.2\n",
    " \n",
    "alpha = 0.5    \n",
    "from matplotlib.backends.backend_pdf import PdfPages\n",
    "\n",
    "fig, ax = plt.subplots(figsize=(16,10))\n",
    "\n",
    "with PdfPages(r'C:\\Users\\Asus\\Desktop\\Article\\Chart.pdf') as export_pdf:\n",
    "    plt.bar(pos,  df['SAT'], width, alpha=0.5, color='blue', label=df['GRID_SIZE'][0] , hatch = \"*\") \n",
    "\n",
    "    plt.bar([p + width for p in pos], df['DFS'],width, alpha=0.5, color='green', label=df['GRID_SIZE'][1], hatch = \"O\") \n",
    "\n",
    "    plt.bar([p + width*2 for p in pos], df['MCTS'],width, alpha=0.5, color='#FFC222', label=df['GRID_SIZE'][2] , hatch = \"//\") \n",
    "\n",
    "#     plt.bar([p + width*3 for p in pos], df['RL'],width, alpha=0.5, color='red', label=df['GRID_SIZE'][3] , hatch = \".\") \n",
    "\n",
    "\n",
    "    ax.set_ylabel('Time')\n",
    "    ax.set_xlabel('Test cases')\n",
    "\n",
    "    ax.set_xticks([p +  width for p in pos])\n",
    "\n",
    "    ax.set_xticklabels(df['GRID_SIZE'])\n",
    "\n",
    "    # Setting the x-axis and y-axis limits\n",
    "    plt.xlim(min(pos)-width, max(pos)+width*4)\n",
    "    plt.ylim([0, max(df['SAT'] + df['DFS'] + df['MCTS'] + 900)] )\n",
    "\n",
    "    plt.legend(['SAT', 'Backtracking', 'MCTS' ], loc='best')\n",
    "#     plt.yscale(\"symlog\")\n",
    "    plt.yscale(\"symlog\" ,linthreshy=0.001)\n",
    "\n",
    "    \n",
    "    \n",
    "    plt.title(\"Time evaluation of solving each test case by the methods\")\n",
    "    export_pdf.savefig()\n",
    "    \n",
    "    plt.close()\n",
    "# plt.show()"
   ]
  },
  {
   "cell_type": "code",
   "execution_count": 55,
   "metadata": {},
   "outputs": [
    {
     "name": "stderr",
     "output_type": "stream",
     "text": [
      "C:\\Users\\Asus\\anaconda3\\lib\\site-packages\\pandas\\core\\series.py:679: RuntimeWarning: divide by zero encountered in log2\n",
      "  result = getattr(ufunc, method)(*inputs, **kwargs)\n"
     ]
    }
   ],
   "source": []
  },
  {
   "cell_type": "code",
   "execution_count": 34,
   "metadata": {},
   "outputs": [
    {
     "data": {
      "text/plain": [
       "0      5*5\n",
       "1      6*6\n",
       "2    10*10\n",
       "3    15*15\n",
       "4    20*20\n",
       "5    30*30\n",
       "6    50*50\n",
       "Name: GRID_SIZE, dtype: object"
      ]
     },
     "execution_count": 34,
     "metadata": {},
     "output_type": "execute_result"
    }
   ],
   "source": [
    "df['GRID_SIZE']"
   ]
  },
  {
   "cell_type": "code",
   "execution_count": 25,
   "metadata": {},
   "outputs": [],
   "source": [
    "# fig, ax = plt.subplots(figsize=(10,7))\n",
    "\n",
    "# plt.bar(pos, df['sat_logarithm_base2'], width, alpha=0.5, color='blue', label=df['GRID_SIZE'][4] , hatch = \"*\") \n",
    "\n",
    "# plt.bar([p + width for p in pos], df['DFS_logarithm_base2'],width, alpha=0.5, color='green', label=df['GRID_SIZE'][5], hatch = \"O\") \n",
    "\n",
    "# plt.bar([p + width*2 for p in pos], df['MCTS_logarithm_base2'],width, alpha=0.5, color='#FFC222', label=df['GRID_SIZE'][6] , hatch = \"//\") \n",
    "\n",
    "# plt.bar([p + width*3 for p in pos], df['RL_logarithm_base2'],width, alpha=0.5, color='red', label=df['GRID_SIZE'][7] , hatch = \".\") \n"
   ]
  }
 ],
 "metadata": {
  "kernelspec": {
   "display_name": "Python 3",
   "language": "python",
   "name": "python3"
  },
  "language_info": {
   "codemirror_mode": {
    "name": "ipython",
    "version": 3
   },
   "file_extension": ".py",
   "mimetype": "text/x-python",
   "name": "python",
   "nbconvert_exporter": "python",
   "pygments_lexer": "ipython3",
   "version": "3.8.3"
  }
 },
 "nbformat": 4,
 "nbformat_minor": 4
}
