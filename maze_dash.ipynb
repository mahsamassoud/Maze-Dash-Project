{
  "nbformat": 4,
  "nbformat_minor": 0,
  "metadata": {
    "colab": {
      "name": "maze-dash.ipynb",
      "provenance": [],
      "collapsed_sections": []
    },
    "kernelspec": {
      "name": "python3",
      "display_name": "Python 3"
    }
  },
  "cells": [
    {
      "cell_type": "code",
      "metadata": {
        "id": "pX4iECjsGoIE"
      },
      "source": [
        "from __future__ import print_function\n",
        "import os, sys, time, datetime, json, random\n",
        "import numpy as np\n",
        "from keras.models import Sequential\n",
        "from keras.layers.core import Dense, Activation\n",
        "from keras.optimizers import SGD , Adam, RMSprop\n",
        "from keras.layers.advanced_activations import PReLU\n",
        "import matplotlib.pyplot as plt\n",
        "%matplotlib inline"
      ],
      "execution_count": null,
      "outputs": []
    },
    {
      "cell_type": "code",
      "metadata": {
        "id": "xMFT1qOoG_qJ"
      },
      "source": [
        "maze = np.array([\n",
        "    [ 3.,  1.,  1.,  1.],\n",
        "    [ 1.,  1.,  1.,  1.],\n",
        "    [ 1.,  0.,  0.,  1.],\n",
        "    [ 1.,  1.,  1.,  1.]\n",
        "])\n",
        "cnt = 0\n",
        "for i in maze:\n",
        "  for j in i:\n",
        "    if j  > 0 :\n",
        "      cnt +=1\n",
        "maze.size\n",
        "maze_len = len(maze)\n",
        "# maze_len\n",
        "# cnt"
      ],
      "execution_count": null,
      "outputs": []
    },
    {
      "cell_type": "code",
      "metadata": {
        "id": "Mk76l_XjIZv1"
      },
      "source": [
        "visited_mark = 0.8  # Cells visited by the rat will be painted by gray 0.8\n",
        "rat_mark = 0.5      # The current rat cell will be painteg by gray 0.5\n",
        "LEFT = 0\n",
        "UP = 1\n",
        "RIGHT = 2\n",
        "DOWN = 3\n",
        "\n",
        "# Actions dictionary\n",
        "actions_dict = {\n",
        "    LEFT: 'left',\n",
        "    UP: 'up',\n",
        "    RIGHT: 'right',\n",
        "    DOWN: 'down',\n",
        "}\n",
        "\n",
        "num_actions = len(actions_dict)\n",
        "\n",
        "# Exploration factor\n",
        "epsilon = 0.15\n",
        "# cnt"
      ],
      "execution_count": null,
      "outputs": []
    },
    {
      "cell_type": "code",
      "metadata": {
        "id": "HJhp4naKIlOb"
      },
      "source": [
        "class Qmaze(object):\n",
        "    def __init__(self, maze, rat=(0,0)):\n",
        "\n",
        "        self._maze = np.array(maze)\n",
        "        nrows, ncols = self._maze.shape\n",
        "        self.cnt_calc()\n",
        "        self.target =  self._cnt # (nrows-1, ncols-1)   # target cell where the \"cheese\" is\n",
        "        self.free_cells = [(r,c) for r in range(nrows) for c in range(ncols) if self._maze[r,c] == 1.0]\n",
        "  \n",
        "        # if not rat in self.free_cells:\n",
        "        #     raise Exception(\"Invalid Rat Location: must sit on a free cell\")\n",
        "        self.reset(rat)\n",
        "        \n",
        "\n",
        "    def cnt_calc (self):\n",
        "      cnt = 0\n",
        "      for i in self._maze:\n",
        "        for j in i:\n",
        "          if j  > 0 :\n",
        "            cnt +=1\n",
        "      self._cnt = cnt\n",
        "    \n",
        "    def reset(self, rat):\n",
        "        self.rat = rat\n",
        "        self.maze = np.copy(self._maze)\n",
        "        nrows, ncols = self.maze.shape\n",
        "        row, col = rat\n",
        "        self.maze[row, col] = rat_mark\n",
        "        self.state = (row, col, 'start')\n",
        "        self.min_reward =  -3 * self.maze.size #0.02 * cnt\n",
        "        self.total_reward = 0\n",
        "        self.visited = set()\n",
        "\n",
        "    def update_state(self, action):\n",
        "        nrows, ncols = self.maze.shape\n",
        "        nrow, ncol, nmode = rat_row, rat_col, mode = self.state\n",
        "\n",
        "        if self.maze[rat_row, rat_col] > 0.0:\n",
        "            self.visited.add((rat_row, rat_col))\n",
        "            # self.maze[rat_row, rat_col] = 2  # mark visited cell\n",
        "\n",
        "        valid_actions = self.valid_actions()\n",
        "                \n",
        "        if not valid_actions:\n",
        "            nmode = 'blocked'\n",
        "        elif action in valid_actions:\n",
        "            nmode = 'valid'\n",
        "            if action == LEFT:\n",
        "                 while (not (self._maze[nrow,ncol] == 0)) and (ncol>0) and ((nrow,ncol-1) not in self.visited) and (not (self._maze[nrow,ncol-1] == 0)):\n",
        "                    ncol -= 1\n",
        "                    self.visited.add((nrow, ncol))\n",
        "                    self.maze[nrow, ncol] = 0\n",
        "            elif action == UP:\n",
        "              while (not (self._maze[nrow,ncol] == 0)) and (nrow>0) and ((nrow-1,ncol) not in self.visited)and (not (self._maze[nrow-1,ncol] == 0)):\n",
        "                nrow -= 1\n",
        "                self.visited.add((nrow, ncol))\n",
        "                self.maze[nrow, ncol] = 0\n",
        "            if action == RIGHT:\n",
        "              while (not (self._maze[nrow,ncol] == 0)) and (ncol<ncols-1) and ((nrow,ncol+1) not in self.visited) and (not (self._maze[nrow,ncol+1] == 0)):\n",
        "                ncol += 1\n",
        "                self.visited.add((nrow, ncol))\n",
        "                self.maze[nrow, ncol] = 0\n",
        "            elif action == DOWN:\n",
        "              while (not (self._maze[nrow,ncol] == 0)) and (nrow<nrows-1) and ((nrow+1,ncol) not in self.visited) and (not (self._maze[nrow+1,ncol] == 0)):\n",
        "                nrow += 1\n",
        "                self.visited.add((nrow, ncol))\n",
        "                self.maze[nrow, ncol] = 0\n",
        "        else:                  # invalid action, no change in rat position\n",
        "            mode = 'invalid'\n",
        "\n",
        "        # new state\n",
        "        self.state = (nrow, ncol, nmode)\n",
        "\n",
        "    def get_reward(self):\n",
        "        rat_row, rat_col, mode = self.state\n",
        "        nrows, ncols = self.maze.shape\n",
        "        # if rat_row == nrows-1 and rat_col == ncols-1:\n",
        "        if len(self.visited) == self._cnt:\n",
        "            return 100\n",
        "        if mode == 'blocked':\n",
        "            return self.min_reward - 1\n",
        "        if (rat_row, rat_col) in self.visited:\n",
        "             return -0.75\n",
        "        if mode == 'invalid':\n",
        "            return -0.75\n",
        "        if mode == 'valid':\n",
        "            return  0.08 # 0.04\n",
        "\n",
        "    def act(self, action):\n",
        "        self.update_state(action)\n",
        "        reward = self.get_reward()\n",
        "        self.total_reward += reward\n",
        "        status = self.game_status()\n",
        "        envstate = self.observe()\n",
        "        return envstate, reward, status\n",
        "\n",
        "    def observe(self):\n",
        "        canvas = self.draw_env()\n",
        "        envstate = canvas.reshape((1, -1))\n",
        "        return envstate\n",
        "\n",
        "    def draw_env(self):\n",
        "        canvas = np.copy(self.maze)\n",
        "        nrows, ncols = self.maze.shape\n",
        "        # clear all visual marks\n",
        "        for r in range(nrows):\n",
        "            for c in range(ncols):\n",
        "                if canvas[r,c] > 0.0:\n",
        "                    canvas[r,c] = 1.0\n",
        "        # draw the rat\n",
        "        row, col, valid = self.state\n",
        "        canvas[row, col] = rat_mark\n",
        "        return canvas\n",
        "\n",
        "    def game_status(self):\n",
        "        if self.total_reward < self.min_reward:\n",
        "            return 'lose'\n",
        "        rat_row, rat_col, mode = self.state\n",
        "        nrows, ncols = self.maze.shape\n",
        "        if len(self.visited) == self._cnt:\n",
        "            return 'win'\n",
        "\n",
        "        return 'not_over'\n",
        "\n",
        "    def valid_actions(self, cell=None):\n",
        "        if cell is None:\n",
        "            row, col, mode = self.state\n",
        "        else:\n",
        "            row, col = cell\n",
        "        actions = [0, 1, 2, 3]\n",
        "        nrows, ncols = self.maze.shape\n",
        "        if row == 0:\n",
        "            actions.remove(1)\n",
        "        elif row == nrows-1:\n",
        "            actions.remove(3)\n",
        "\n",
        "        if col == 0:\n",
        "            actions.remove(0)\n",
        "        elif col == ncols-1:\n",
        "            actions.remove(2)\n",
        "\n",
        "        if (row>0 and self.maze[row-1,col] == 0.0):\n",
        "            actions.remove(1)\n",
        "        if (row<nrows-1 and self.maze[row+1,col] == 0.0) :\n",
        "            actions.remove(3)\n",
        "\n",
        "        if (col>0 and self.maze[row,col-1] == 0.0):\n",
        "            actions.remove(0)\n",
        "        if (col<ncols-1 and self.maze[row,col+1] == 0.0) :\n",
        "            actions.remove(2)\n",
        "\n",
        "        return actions"
      ],
      "execution_count": null,
      "outputs": []
    },
    {
      "cell_type": "code",
      "metadata": {
        "id": "HTWklUXJcIVD"
      },
      "source": [
        "def show(qmaze):\n",
        "    plt.grid('on')\n",
        "    nrows, ncols = qmaze.maze.shape\n",
        "    ax = plt.gca()\n",
        "    ax.set_xticks(np.arange(0.5, nrows, 1))\n",
        "    ax.set_yticks(np.arange(0.5, ncols, 1))\n",
        "    ax.set_xticklabels([])\n",
        "    ax.set_yticklabels([])\n",
        "    canvas = np.copy(qmaze.maze)\n",
        "    for row,col in qmaze.visited:\n",
        "        canvas[row,col] = 0.6\n",
        "    rat_row, rat_col, _ = qmaze.state\n",
        "    canvas[rat_row, rat_col] = 0.3   # rat cell\n",
        "    img = plt.imshow(canvas, interpolation='none', cmap='gray')\n",
        "    return img"
      ],
      "execution_count": null,
      "outputs": []
    },
    {
      "cell_type": "code",
      "metadata": {
        "id": "8yDMms_TcSrB",
        "colab": {
          "base_uri": "https://localhost:8080/",
          "height": 35
        },
        "outputId": "6877bb7f-880c-4b5a-e50e-e60bf7294741"
      },
      "source": [
        "maze = [\n",
        "    [ 1.,  3.,  1.,  1.],\n",
        "    [ 1.,  1.,  1.,  1.],\n",
        "    [ 1.,  0.,  0.,  1.],\n",
        "    [ 1.,  1.,  1.,  1.]\n",
        "]\n",
        "len(maze[0])"
      ],
      "execution_count": null,
      "outputs": [
        {
          "output_type": "execute_result",
          "data": {
            "text/plain": [
              "4"
            ]
          },
          "metadata": {
            "tags": []
          },
          "execution_count": 7
        }
      ]
    },
    {
      "cell_type": "code",
      "metadata": {
        "id": "_Jydx7Cx9G0R",
        "colab": {
          "base_uri": "https://localhost:8080/",
          "height": 35
        },
        "outputId": "1b053b0e-1c25-4b2c-e194-fe2491fa39f9"
      },
      "source": [
        "def rat_loc(maze):\n",
        "  row_counter = 0\n",
        "  for i in maze:\n",
        "    row_counter= row_counter+ 1\n",
        "    col_counter = 0\n",
        "    for j in i:\n",
        "      col_counter = col_counter + 1\n",
        "      if j == 3 :\n",
        "        return row_counter-1 ,col_counter-1\n",
        "  return None     \n",
        "print(rat_loc(maze))"
      ],
      "execution_count": null,
      "outputs": [
        {
          "output_type": "stream",
          "text": [
            "(0, 1)\n"
          ],
          "name": "stdout"
        }
      ]
    },
    {
      "cell_type": "code",
      "metadata": {
        "id": "TM_i6j5WcfpJ",
        "colab": {
          "base_uri": "https://localhost:8080/",
          "height": 287
        },
        "outputId": "bb6ff6de-7f13-4a32-b235-619468fc8dba"
      },
      "source": [
        "qmaze = Qmaze(maze, rat_loc(maze))\n",
        "canvas, reward, game_over = qmaze.act(DOWN)\n",
        "print(\"reward=\", reward)\n",
        "show(qmaze)\n",
        "print(qmaze.visited)\n"
      ],
      "execution_count": null,
      "outputs": [
        {
          "output_type": "stream",
          "text": [
            "reward= -0.75\n",
            "{(0, 1), (1, 1)}\n"
          ],
          "name": "stdout"
        },
        {
          "output_type": "display_data",
          "data": {
            "image/png": "[encoded data removed]",
            "text/plain": [
              "<Figure size 432x288 with 1 Axes>"
            ]
          },
          "metadata": {
            "tags": [],
            "needs_background": "light"
          }
        }
      ]
    },
    {
      "cell_type": "code",
      "metadata": {
        "id": "hcVv7JdqnTxs",
        "colab": {
          "base_uri": "https://localhost:8080/",
          "height": 321
        },
        "outputId": "5a286257-7c8f-4e08-eecb-c859e819aa47"
      },
      "source": [
        "qmaze.act(RIGHT)  # move right\n",
        "\n",
        "print(qmaze.visited)\n",
        "qmaze.act(UP)  # move up\n",
        "\n",
        "\n",
        "\n",
        "print(qmaze.visited)\n",
        "qmaze.act(LEFT)\n",
        "qmaze.act(DOWN)\n",
        "# qmaze.act(RIGHT)\n",
        "# print(qmaze.visited)\n",
        "print(qmaze.game_status())\n",
        "show(qmaze)"
      ],
      "execution_count": null,
      "outputs": [
        {
          "output_type": "stream",
          "text": [
            "{(0, 1), (1, 2), (1, 3), (0, 3), (1, 1)}\n",
            "{(0, 1), (1, 2), (1, 3), (0, 2), (0, 3), (1, 1)}\n",
            "not_over\n"
          ],
          "name": "stdout"
        },
        {
          "output_type": "execute_result",
          "data": {
            "text/plain": [
              "<matplotlib.image.AxesImage at 0x7fda3c7a2a58>"
            ]
          },
          "metadata": {
            "tags": []
          },
          "execution_count": 10
        },
        {
          "output_type": "display_data",
          "data": {
            "image/png": "[encoded data removed]",
            "text/plain": [
              "<Figure size 432x288 with 1 Axes>"
            ]
          },
          "metadata": {
            "tags": [],
            "needs_background": "light"
          }
        }
      ]
    },
    {
      "cell_type": "code",
      "metadata": {
        "id": "HTljTEzLsRqV"
      },
      "source": [
        "def play_game(model, qmaze, rat_cell):\n",
        "    qmaze.reset(rat_cell)\n",
        "    envstate = qmaze.observe()\n",
        "    while True:\n",
        "        prev_envstate = envstate\n",
        "        # get next action\n",
        "        q = model.predict(prev_envstate)\n",
        "        action = np.argmax(q[0])\n",
        "\n",
        "        # apply action, get rewards and new state\n",
        "        envstate, reward, game_status = qmaze.act(action)\n",
        "        if game_status == 'win':\n",
        "            return True\n",
        "        elif game_status == 'lose':\n",
        "            return False"
      ],
      "execution_count": null,
      "outputs": []
    },
    {
      "cell_type": "code",
      "metadata": {
        "id": "RLgSnaeMsVaO"
      },
      "source": [
        "def completion_check(model, qmaze):\n",
        "    for cell in qmaze.free_cells:\n",
        "        if not qmaze.valid_actions(cell):\n",
        "            return False\n",
        "        if not play_game(model, qmaze, cell):\n",
        "            return False\n",
        "    return True"
      ],
      "execution_count": null,
      "outputs": []
    },
    {
      "cell_type": "code",
      "metadata": {
        "id": "8nvKomnHsgQq"
      },
      "source": [
        "class Experience(object):\n",
        "    def __init__(self, model, max_memory=100, discount=0.95):\n",
        "        self.model = model\n",
        "        self.max_memory = max_memory\n",
        "        self.discount = discount\n",
        "        self.memory = list()\n",
        "        self.num_actions = model.output_shape[-1]\n",
        "\n",
        "    def remember(self, episode):\n",
        "        # episode = [envstate, action, reward, envstate_next, game_over]\n",
        "        # memory[i] = episode\n",
        "        # envstate == flattened 1d maze cells info, including rat cell (see method: observe)\n",
        "        self.memory.append(episode)\n",
        "        if len(self.memory) > self.max_memory:\n",
        "            del self.memory[0]\n",
        "\n",
        "    def predict(self, envstate):\n",
        "        return self.model.predict(envstate)[0]\n",
        "\n",
        "    def get_data(self, data_size=10):\n",
        "        env_size = self.memory[0][0].shape[1]   # envstate 1d size (1st element of episode)\n",
        "        mem_size = len(self.memory)\n",
        "        data_size = min(mem_size, data_size)\n",
        "        inputs = np.zeros((data_size, env_size))\n",
        "        targets = np.zeros((data_size, self.num_actions))\n",
        "        for i, j in enumerate(np.random.choice(range(mem_size), data_size, replace=False)):\n",
        "            envstate, action, reward, envstate_next, game_over = self.memory[j]\n",
        "            inputs[i] = envstate\n",
        "            # There should be no target values for actions not taken.\n",
        "            targets[i] = self.predict(envstate)\n",
        "            # Q_sa = derived policy = max quality env/action = max_a' Q(s', a')\n",
        "            Q_sa = np.max(self.predict(envstate_next))\n",
        "            if game_over:\n",
        "                targets[i, action] = reward\n",
        "            else:\n",
        "                # reward + gamma * max_a' Q(s', a')\n",
        "                targets[i, action] = reward + self.discount * Q_sa\n",
        "        return inputs, targets"
      ],
      "execution_count": null,
      "outputs": []
    },
    {
      "cell_type": "code",
      "metadata": {
        "id": "suyC6EklsiBZ"
      },
      "source": [
        "def qtrain(model, maze ,loc ,   **opt):\n",
        "    global epsilon\n",
        "    n_epoch = opt.get('n_epoch', 50)\n",
        "    max_memory = opt.get('max_memory', 1000)\n",
        "    data_size = opt.get('data_size', 50)\n",
        "    weights_file = opt.get('weights_file', \"\")\n",
        "    name = opt.get('name', 'model')\n",
        "    start_time = datetime.datetime.now()\n",
        "\n",
        "    # If you want to continue training from a previous model,\n",
        "    # just supply the h5 file name to weights_file option\n",
        "    if weights_file:\n",
        "        print(\"loading weights from file: %s\" % (weights_file,))\n",
        "        model.load_weights(weights_file)\n",
        "\n",
        "    # Construct environment/game from numpy array: maze (see above)\n",
        "    qmaze = Qmaze(maze,loc)\n",
        "\n",
        "    # Initialize experience replay object\n",
        "    experience = Experience(model, max_memory=max_memory)\n",
        "\n",
        "    win_history = []   # history of win/lose game\n",
        "    n_free_cells = len(qmaze.free_cells)\n",
        "    hsize = qmaze.maze.size//2   # history window size\n",
        "    win_rate = 0.0\n",
        "    imctr = 1\n",
        "\n",
        "    for epoch in range(n_epoch):\n",
        "        loss = 0.0\n",
        "        rat_cell = random.choice(qmaze.free_cells)\n",
        "        qmaze.reset(rat_cell)\n",
        "        game_over = False\n",
        "\n",
        "        # get initial envstate (1d flattened canvas)\n",
        "        envstate = qmaze.observe()\n",
        "\n",
        "        n_episodes = 0\n",
        "        while not game_over:\n",
        "            valid_actions = qmaze.valid_actions()\n",
        "            if not valid_actions: break\n",
        "            prev_envstate = envstate\n",
        "            # Get next action\n",
        "            if np.random.rand() < epsilon:\n",
        "                action = random.choice(valid_actions)\n",
        "            else:\n",
        "                action = np.argmax(experience.predict(prev_envstate))\n",
        "\n",
        "            # Apply action, get reward and new envstate\n",
        "            envstate, reward, game_status = qmaze.act(action)\n",
        "            if game_status == 'win':\n",
        "                win_history.append(1)\n",
        "                game_over = True\n",
        "            elif game_status == 'lose':\n",
        "                win_history.append(0)\n",
        "                game_over = True\n",
        "            else:\n",
        "                game_over = False\n",
        "\n",
        "            # Store episode (experience)\n",
        "            episode = [prev_envstate, action, reward, envstate, game_over]\n",
        "            experience.remember(episode)\n",
        "            n_episodes += 1\n",
        "\n",
        "            # Train neural network model\n",
        "            inputs, targets = experience.get_data(data_size=data_size)\n",
        "            h = model.fit(\n",
        "                inputs,\n",
        "                targets,\n",
        "                epochs=8,\n",
        "                batch_size=16,\n",
        "                verbose=0,\n",
        "            )\n",
        "            loss = model.evaluate(inputs, targets, verbose=0)\n",
        "\n",
        "        if len(win_history) > hsize:\n",
        "            win_rate = sum(win_history[-hsize:]) / hsize\n",
        "    \n",
        "        dt = datetime.datetime.now() - start_time\n",
        "        t = format_time(dt.total_seconds())\n",
        "        template = \"Epoch: {:03d}/{:d} | Loss: {:.4f} | Episodes: {:d} | Win count: {:d} | Win rate: {:.3f} | time: {}\"\n",
        "        print(template.format(epoch, n_epoch-1, loss, n_episodes, sum(win_history), win_rate, t))\n",
        "        # we simply check if training has exhausted all free cells and if in all\n",
        "        # cases the agent won\n",
        "        if win_rate > 0.9 : epsilon = 0.05\n",
        "        if sum(win_history[-hsize:]) == hsize and completion_check(model, qmaze):\n",
        "            print(\"Reached 100%% win rate at epoch: %d\" % (epoch,))\n",
        "            break\n",
        "\n",
        "    # Save trained model weights and architecture, this will be used by the visualization code\n",
        "    h5file = name + \".h5\"\n",
        "    json_file = name + \".json\"\n",
        "    model.save_weights(h5file, overwrite=True)\n",
        "    with open(json_file, \"w\") as outfile:\n",
        "        json.dump(model.to_json(), outfile)\n",
        "    end_time = datetime.datetime.now()\n",
        "    dt = datetime.datetime.now() - start_time\n",
        "    seconds = dt.total_seconds()\n",
        "    t = format_time(seconds)\n",
        "    print('files: %s, %s' % (h5file, json_file))\n",
        "    print(\"n_epoch: %d, max_mem: %d, data: %d, time: %s\" % (epoch, max_memory, data_size, t))\n",
        "    return seconds\n",
        "\n",
        "# This is a small utility for printing readable time strings:\n",
        "def format_time(seconds):\n",
        "    if seconds < 400:\n",
        "        s = float(seconds)\n",
        "        return \"%.1f seconds\" % (s,)\n",
        "    elif seconds < 4000:\n",
        "        m = seconds / 60.0\n",
        "        return \"%.2f minutes\" % (m,)\n",
        "    else:\n",
        "        h = seconds / 3600.0\n",
        "        return \"%.2f hours\" % (h,)"
      ],
      "execution_count": null,
      "outputs": []
    },
    {
      "cell_type": "code",
      "metadata": {
        "id": "befmS3pLstnl"
      },
      "source": [
        "def build_model(maze, lr=0.001):\n",
        "    model = Sequential()\n",
        "    model.add(Dense(maze.size, input_shape=(maze.size,)))\n",
        "    model.add(PReLU())\n",
        "    model.add(Dense(maze.size))\n",
        "    model.add(PReLU())\n",
        "    model.add(Dense(num_actions))\n",
        "    model.compile(optimizer='adam', loss='mse')\n",
        "    return model"
      ],
      "execution_count": null,
      "outputs": []
    },
    {
      "cell_type": "code",
      "metadata": {
        "id": "fC2qSqOwsy7V",
        "colab": {
          "base_uri": "https://localhost:8080/",
          "height": 321
        },
        "outputId": "07a3b296-f539-4069-feb9-07d773d6a88f"
      },
      "source": [
        "\n",
        "maze =  np.array([\n",
        "  [ 1.,  1.,  1.,  1.],\n",
        "    [ 0.,  0.,  0.,  1.],\n",
        "    [ 0.,  0.,  0.,  1.],\n",
        "    [ 0.,  3.,  1.,  1.]\n",
        "])\n",
        "print(maze.shape)\n",
        "start_loc = rat_loc(maze)\n",
        "qmaze = Qmaze(maze, start_loc)\n",
        "\n",
        "qmaze.act(RIGHT)  # move right\n",
        "qmaze.act(UP)  # move up\n",
        "print(qmaze.game_status())\n",
        "qmaze.act(LEFT)\n",
        "print(qmaze.game_status())\n",
        "show(qmaze)\n"
      ],
      "execution_count": null,
      "outputs": [
        {
          "output_type": "stream",
          "text": [
            "(4, 4)\n",
            "not_over\n",
            "win\n"
          ],
          "name": "stdout"
        },
        {
          "output_type": "execute_result",
          "data": {
            "text/plain": [
              "<matplotlib.image.AxesImage at 0x7fda32051eb8>"
            ]
          },
          "metadata": {
            "tags": []
          },
          "execution_count": 18
        },
        {
          "output_type": "display_data",
          "data": {
            "image/png": "[encoded data removed]",
            "text/plain": [
              "<Figure size 432x288 with 1 Axes>"
            ]
          },
          "metadata": {
            "tags": [],
            "needs_background": "light"
          }
        }
      ]
    },
    {
      "cell_type": "code",
      "metadata": {
        "id": "ZDKGUz0Os7Ln",
        "colab": {
          "base_uri": "https://localhost:8080/",
          "height": 936
        },
        "outputId": "9f921e8c-a2b8-4283-b110-7b2e90253bdb"
      },
      "source": [
        "model = build_model(maze)\n",
        "qtrain(model, maze,start_loc ,  epochs=1000, max_memory=8*maze.size, data_size=32)"
      ],
      "execution_count": null,
      "outputs": [
        {
          "output_type": "stream",
          "text": [
            "Epoch: 000/49 | Loss: 831.8987 | Episodes: 3 | Win count: 1 | Win rate: 0.000 | time: 1.2 seconds\n",
            "Epoch: 001/49 | Loss: 349.9643 | Episodes: 4 | Win count: 1 | Win rate: 0.000 | time: 3.0 seconds\n",
            "Epoch: 002/49 | Loss: 304.2567 | Episodes: 1 | Win count: 1 | Win rate: 0.000 | time: 3.6 seconds\n",
            "Epoch: 003/49 | Loss: 268.6237 | Episodes: 1 | Win count: 1 | Win rate: 0.000 | time: 4.4 seconds\n",
            "Epoch: 004/49 | Loss: 43.1679 | Episodes: 65 | Win count: 1 | Win rate: 0.000 | time: 129.4 seconds\n",
            "Epoch: 005/49 | Loss: 3.9268 | Episodes: 10 | Win count: 1 | Win rate: 0.000 | time: 151.2 seconds\n",
            "Epoch: 006/49 | Loss: 0.5377 | Episodes: 16 | Win count: 1 | Win rate: 0.000 | time: 188.4 seconds\n",
            "Epoch: 007/49 | Loss: 11.4822 | Episodes: 65 | Win count: 1 | Win rate: 0.000 | time: 333.4 seconds\n",
            "Epoch: 008/49 | Loss: 13.3179 | Episodes: 1 | Win count: 1 | Win rate: 0.000 | time: 335.5 seconds\n",
            "Epoch: 009/49 | Loss: 10.2689 | Episodes: 2 | Win count: 1 | Win rate: 0.000 | time: 339.9 seconds\n",
            "Epoch: 010/49 | Loss: 4.1393 | Episodes: 1 | Win count: 1 | Win rate: 0.000 | time: 342.2 seconds\n",
            "Epoch: 011/49 | Loss: 13.7388 | Episodes: 2 | Win count: 1 | Win rate: 0.000 | time: 346.5 seconds\n",
            "Epoch: 012/49 | Loss: 2138.1809 | Episodes: 65 | Win count: 1 | Win rate: 0.000 | time: 8.16 minutes\n",
            "Epoch: 013/49 | Loss: 489.8428 | Episodes: 2 | Win count: 1 | Win rate: 0.000 | time: 8.23 minutes\n",
            "Epoch: 014/49 | Loss: 586.6295 | Episodes: 14 | Win count: 1 | Win rate: 0.000 | time: 8.74 minutes\n",
            "Epoch: 015/49 | Loss: 1073.8325 | Episodes: 65 | Win count: 1 | Win rate: 0.000 | time: 11.21 minutes\n",
            "Epoch: 016/49 | Loss: 58.6677 | Episodes: 15 | Win count: 1 | Win rate: 0.000 | time: 11.78 minutes\n",
            "Epoch: 017/49 | Loss: 23093.6465 | Episodes: 9 | Win count: 1 | Win rate: 0.000 | time: 12.11 minutes\n",
            "Epoch: 018/49 | Loss: 40398.6641 | Episodes: 2 | Win count: 1 | Win rate: 0.000 | time: 12.18 minutes\n",
            "Epoch: 019/49 | Loss: 31716.0859 | Episodes: 12 | Win count: 1 | Win rate: 0.000 | time: 12.62 minutes\n",
            "Epoch: 020/49 | Loss: 40703.5547 | Episodes: 2 | Win count: 1 | Win rate: 0.000 | time: 12.69 minutes\n",
            "Epoch: 021/49 | Loss: 44312.9766 | Episodes: 5 | Win count: 1 | Win rate: 0.000 | time: 12.87 minutes\n",
            "Epoch: 022/49 | Loss: 19447.5312 | Episodes: 3 | Win count: 2 | Win rate: 0.000 | time: 12.99 minutes\n",
            "Epoch: 023/49 | Loss: 34586.3281 | Episodes: 7 | Win count: 2 | Win rate: 0.000 | time: 13.29 minutes\n",
            "Epoch: 024/49 | Loss: 115339.1719 | Episodes: 4 | Win count: 3 | Win rate: 0.000 | time: 13.44 minutes\n",
            "Epoch: 025/49 | Loss: 65132.1133 | Episodes: 2 | Win count: 3 | Win rate: 0.000 | time: 13.51 minutes\n",
            "Epoch: 026/49 | Loss: 49115.6172 | Episodes: 7 | Win count: 3 | Win rate: 0.000 | time: 13.77 minutes\n",
            "Epoch: 027/49 | Loss: 6467.4272 | Episodes: 65 | Win count: 3 | Win rate: 0.000 | time: 16.16 minutes\n",
            "Epoch: 028/49 | Loss: 7392.7505 | Episodes: 14 | Win count: 4 | Win rate: 0.375 | time: 16.68 minutes\n",
            "Epoch: 029/49 | Loss: 14572.0820 | Episodes: 14 | Win count: 4 | Win rate: 0.375 | time: 17.20 minutes\n",
            "Epoch: 030/49 | Loss: 5502.8325 | Episodes: 65 | Win count: 4 | Win rate: 0.375 | time: 19.62 minutes\n",
            "Epoch: 031/49 | Loss: 968.3492 | Episodes: 65 | Win count: 4 | Win rate: 0.375 | time: 22.01 minutes\n",
            "Epoch: 032/49 | Loss: 790.0963 | Episodes: 13 | Win count: 4 | Win rate: 0.375 | time: 22.48 minutes\n",
            "Epoch: 033/49 | Loss: 1330.4341 | Episodes: 5 | Win count: 4 | Win rate: 0.375 | time: 22.67 minutes\n",
            "Epoch: 034/49 | Loss: 1450.5588 | Episodes: 7 | Win count: 4 | Win rate: 0.375 | time: 22.92 minutes\n",
            "Epoch: 035/49 | Loss: 94.2920 | Episodes: 7 | Win count: 5 | Win rate: 0.500 | time: 23.20 minutes\n",
            "Epoch: 036/49 | Loss: 271.1182 | Episodes: 30 | Win count: 5 | Win rate: 0.500 | time: 24.34 minutes\n",
            "Epoch: 037/49 | Loss: 182.3858 | Episodes: 35 | Win count: 5 | Win rate: 0.500 | time: 25.64 minutes\n",
            "Epoch: 038/49 | Loss: 718.3364 | Episodes: 5 | Win count: 5 | Win rate: 0.500 | time: 25.82 minutes\n",
            "Epoch: 039/49 | Loss: 36.6718 | Episodes: 29 | Win count: 5 | Win rate: 0.500 | time: 26.89 minutes\n",
            "Epoch: 040/49 | Loss: 202.5166 | Episodes: 2 | Win count: 5 | Win rate: 0.500 | time: 26.96 minutes\n",
            "Epoch: 041/49 | Loss: 35.5296 | Episodes: 25 | Win count: 5 | Win rate: 0.500 | time: 27.88 minutes\n",
            "Epoch: 042/49 | Loss: 45.2110 | Episodes: 52 | Win count: 5 | Win rate: 0.500 | time: 29.79 minutes\n",
            "Epoch: 043/49 | Loss: 39.8717 | Episodes: 2 | Win count: 5 | Win rate: 0.500 | time: 29.86 minutes\n",
            "Epoch: 044/49 | Loss: 23.6984 | Episodes: 4 | Win count: 5 | Win rate: 0.500 | time: 30.01 minutes\n",
            "Epoch: 045/49 | Loss: 24.1310 | Episodes: 13 | Win count: 6 | Win rate: 0.625 | time: 30.49 minutes\n",
            "Epoch: 046/49 | Loss: 69.5818 | Episodes: 65 | Win count: 6 | Win rate: 0.500 | time: 32.89 minutes\n",
            "Epoch: 047/49 | Loss: 12.7416 | Episodes: 6 | Win count: 7 | Win rate: 0.500 | time: 33.11 minutes\n",
            "Epoch: 048/49 | Loss: 25.6809 | Episodes: 8 | Win count: 7 | Win rate: 0.500 | time: 33.40 minutes\n",
            "Epoch: 049/49 | Loss: 7.7814 | Episodes: 16 | Win count: 8 | Win rate: 0.625 | time: 33.97 minutes\n",
            "files: model.h5, model.json\n",
            "n_epoch: 49, max_mem: 128, data: 32, time: 33.97 minutes\n"
          ],
          "name": "stdout"
        },
        {
          "output_type": "execute_result",
          "data": {
            "text/plain": [
              "2038.427225"
            ]
          },
          "metadata": {
            "tags": []
          },
          "execution_count": 19
        }
      ]
    },
    {
      "cell_type": "code",
      "metadata": {
        "id": "_q4SWmVhNmoL",
        "colab": {
          "base_uri": "https://localhost:8080/",
          "height": 633
        },
        "outputId": "f8246592-095c-48f5-ee44-92bad6528ad7"
      },
      "source": [
        "\n",
        "test1 =  np.array([\n",
        "  [ 1.,  0.,  1.,  1. , 1.],\n",
        "    [ 1.,  0.,  1., 0.,  1.],\n",
        "    [ 1.,  1., 1.,  0.,  1.],\n",
        "    [ 0.,  3.,  1.,  1., 1.],\n",
        "    [0., 0. , 0. ,0. , 0.]\n",
        "])\n",
        "print(test1.shape)\n",
        "start_loc = rat_loc(test1)\n",
        "qmaze = Qmaze(test1, start_loc)\n",
        "show(qmaze)\n",
        "model = build_model(test1)\n",
        "qtrain(model, test1,start_loc, epochs=1000, max_memory=8*maze.size, data_size=32)"
      ],
      "execution_count": null,
      "outputs": [
        {
          "output_type": "stream",
          "text": [
            "(5, 5)\n",
            "Epoch: 000/49 | Loss: 0.0447 | Episodes: 26 | Win count: 0 | Win rate: 0.000 | time: 28.1 seconds\n",
            "Epoch: 001/49 | Loss: 0.0132 | Episodes: 101 | Win count: 0 | Win rate: 0.000 | time: 268.6 seconds\n"
          ],
          "name": "stdout"
        },
        {
          "output_type": "error",
          "ename": "KeyboardInterrupt",
          "evalue": "ignored",
          "traceback": [
            "\u001b[0;31m---------------------------------------------------------------------------\u001b[0m",
            "\u001b[0;31mKeyboardInterrupt\u001b[0m                         Traceback (most recent call last)",
            "\u001b[0;32m<ipython-input-21-c8ad5da43f9d>\u001b[0m in \u001b[0;36m<module>\u001b[0;34m()\u001b[0m\n\u001b[1;32m     13\u001b[0m \u001b[0mshow\u001b[0m\u001b[0;34m(\u001b[0m\u001b[0mqmaze\u001b[0m\u001b[0;34m)\u001b[0m\u001b[0;34m\u001b[0m\u001b[0;34m\u001b[0m\u001b[0m\n\u001b[1;32m     14\u001b[0m \u001b[0mmodel\u001b[0m \u001b[0;34m=\u001b[0m \u001b[0mbuild_model\u001b[0m\u001b[0;34m(\u001b[0m\u001b[0mtest1\u001b[0m\u001b[0;34m)\u001b[0m\u001b[0;34m\u001b[0m\u001b[0;34m\u001b[0m\u001b[0m\n\u001b[0;32m---> 15\u001b[0;31m \u001b[0mqtrain\u001b[0m\u001b[0;34m(\u001b[0m\u001b[0mmodel\u001b[0m\u001b[0;34m,\u001b[0m \u001b[0mtest1\u001b[0m\u001b[0;34m,\u001b[0m\u001b[0mstart_loc\u001b[0m\u001b[0;34m,\u001b[0m \u001b[0mepochs\u001b[0m\u001b[0;34m=\u001b[0m\u001b[0;36m1000\u001b[0m\u001b[0;34m,\u001b[0m \u001b[0mmax_memory\u001b[0m\u001b[0;34m=\u001b[0m\u001b[0;36m8\u001b[0m\u001b[0;34m*\u001b[0m\u001b[0mmaze\u001b[0m\u001b[0;34m.\u001b[0m\u001b[0msize\u001b[0m\u001b[0;34m,\u001b[0m \u001b[0mdata_size\u001b[0m\u001b[0;34m=\u001b[0m\u001b[0;36m32\u001b[0m\u001b[0;34m)\u001b[0m\u001b[0;34m\u001b[0m\u001b[0;34m\u001b[0m\u001b[0m\n\u001b[0m",
            "\u001b[0;32m<ipython-input-12-ca58f50805b9>\u001b[0m in \u001b[0;36mqtrain\u001b[0;34m(model, maze, loc, **opt)\u001b[0m\n\u001b[1;32m     63\u001b[0m \u001b[0;34m\u001b[0m\u001b[0m\n\u001b[1;32m     64\u001b[0m             \u001b[0;31m# Train neural network model\u001b[0m\u001b[0;34m\u001b[0m\u001b[0;34m\u001b[0m\u001b[0;34m\u001b[0m\u001b[0m\n\u001b[0;32m---> 65\u001b[0;31m             \u001b[0minputs\u001b[0m\u001b[0;34m,\u001b[0m \u001b[0mtargets\u001b[0m \u001b[0;34m=\u001b[0m \u001b[0mexperience\u001b[0m\u001b[0;34m.\u001b[0m\u001b[0mget_data\u001b[0m\u001b[0;34m(\u001b[0m\u001b[0mdata_size\u001b[0m\u001b[0;34m=\u001b[0m\u001b[0mdata_size\u001b[0m\u001b[0;34m)\u001b[0m\u001b[0;34m\u001b[0m\u001b[0;34m\u001b[0m\u001b[0m\n\u001b[0m\u001b[1;32m     66\u001b[0m             h = model.fit(\n\u001b[1;32m     67\u001b[0m                 \u001b[0minputs\u001b[0m\u001b[0;34m,\u001b[0m\u001b[0;34m\u001b[0m\u001b[0;34m\u001b[0m\u001b[0m\n",
            "\u001b[0;32m<ipython-input-11-3de0a29cbe6a>\u001b[0m in \u001b[0;36mget_data\u001b[0;34m(self, data_size)\u001b[0m\n\u001b[1;32m     28\u001b[0m             \u001b[0minputs\u001b[0m\u001b[0;34m[\u001b[0m\u001b[0mi\u001b[0m\u001b[0;34m]\u001b[0m \u001b[0;34m=\u001b[0m \u001b[0menvstate\u001b[0m\u001b[0;34m\u001b[0m\u001b[0;34m\u001b[0m\u001b[0m\n\u001b[1;32m     29\u001b[0m             \u001b[0;31m# There should be no target values for actions not taken.\u001b[0m\u001b[0;34m\u001b[0m\u001b[0;34m\u001b[0m\u001b[0;34m\u001b[0m\u001b[0m\n\u001b[0;32m---> 30\u001b[0;31m             \u001b[0mtargets\u001b[0m\u001b[0;34m[\u001b[0m\u001b[0mi\u001b[0m\u001b[0;34m]\u001b[0m \u001b[0;34m=\u001b[0m \u001b[0mself\u001b[0m\u001b[0;34m.\u001b[0m\u001b[0mpredict\u001b[0m\u001b[0;34m(\u001b[0m\u001b[0menvstate\u001b[0m\u001b[0;34m)\u001b[0m\u001b[0;34m\u001b[0m\u001b[0;34m\u001b[0m\u001b[0m\n\u001b[0m\u001b[1;32m     31\u001b[0m             \u001b[0;31m# Q_sa = derived policy = max quality env/action = max_a' Q(s', a')\u001b[0m\u001b[0;34m\u001b[0m\u001b[0;34m\u001b[0m\u001b[0;34m\u001b[0m\u001b[0m\n\u001b[1;32m     32\u001b[0m             \u001b[0mQ_sa\u001b[0m \u001b[0;34m=\u001b[0m \u001b[0mnp\u001b[0m\u001b[0;34m.\u001b[0m\u001b[0mmax\u001b[0m\u001b[0;34m(\u001b[0m\u001b[0mself\u001b[0m\u001b[0;34m.\u001b[0m\u001b[0mpredict\u001b[0m\u001b[0;34m(\u001b[0m\u001b[0menvstate_next\u001b[0m\u001b[0;34m)\u001b[0m\u001b[0;34m)\u001b[0m\u001b[0;34m\u001b[0m\u001b[0;34m\u001b[0m\u001b[0m\n",
            "\u001b[0;32m<ipython-input-11-3de0a29cbe6a>\u001b[0m in \u001b[0;36mpredict\u001b[0;34m(self, envstate)\u001b[0m\n\u001b[1;32m     16\u001b[0m \u001b[0;34m\u001b[0m\u001b[0m\n\u001b[1;32m     17\u001b[0m     \u001b[0;32mdef\u001b[0m \u001b[0mpredict\u001b[0m\u001b[0;34m(\u001b[0m\u001b[0mself\u001b[0m\u001b[0;34m,\u001b[0m \u001b[0menvstate\u001b[0m\u001b[0;34m)\u001b[0m\u001b[0;34m:\u001b[0m\u001b[0;34m\u001b[0m\u001b[0;34m\u001b[0m\u001b[0m\n\u001b[0;32m---> 18\u001b[0;31m         \u001b[0;32mreturn\u001b[0m \u001b[0mself\u001b[0m\u001b[0;34m.\u001b[0m\u001b[0mmodel\u001b[0m\u001b[0;34m.\u001b[0m\u001b[0mpredict\u001b[0m\u001b[0;34m(\u001b[0m\u001b[0menvstate\u001b[0m\u001b[0;34m)\u001b[0m\u001b[0;34m[\u001b[0m\u001b[0;36m0\u001b[0m\u001b[0;34m]\u001b[0m\u001b[0;34m\u001b[0m\u001b[0;34m\u001b[0m\u001b[0m\n\u001b[0m\u001b[1;32m     19\u001b[0m \u001b[0;34m\u001b[0m\u001b[0m\n\u001b[1;32m     20\u001b[0m     \u001b[0;32mdef\u001b[0m \u001b[0mget_data\u001b[0m\u001b[0;34m(\u001b[0m\u001b[0mself\u001b[0m\u001b[0;34m,\u001b[0m \u001b[0mdata_size\u001b[0m\u001b[0;34m=\u001b[0m\u001b[0;36m10\u001b[0m\u001b[0;34m)\u001b[0m\u001b[0;34m:\u001b[0m\u001b[0;34m\u001b[0m\u001b[0;34m\u001b[0m\u001b[0m\n",
            "\u001b[0;32m/usr/local/lib/python3.6/dist-packages/tensorflow/python/keras/engine/training.py\u001b[0m in \u001b[0;36m_method_wrapper\u001b[0;34m(self, *args, **kwargs)\u001b[0m\n\u001b[1;32m    128\u001b[0m       raise ValueError('{} is not supported in multi-worker mode.'.format(\n\u001b[1;32m    129\u001b[0m           method.__name__))\n\u001b[0;32m--> 130\u001b[0;31m     \u001b[0;32mreturn\u001b[0m \u001b[0mmethod\u001b[0m\u001b[0;34m(\u001b[0m\u001b[0mself\u001b[0m\u001b[0;34m,\u001b[0m \u001b[0;34m*\u001b[0m\u001b[0margs\u001b[0m\u001b[0;34m,\u001b[0m \u001b[0;34m**\u001b[0m\u001b[0mkwargs\u001b[0m\u001b[0;34m)\u001b[0m\u001b[0;34m\u001b[0m\u001b[0;34m\u001b[0m\u001b[0m\n\u001b[0m\u001b[1;32m    131\u001b[0m \u001b[0;34m\u001b[0m\u001b[0m\n\u001b[1;32m    132\u001b[0m   return tf_decorator.make_decorator(\n",
            "\u001b[0;32m/usr/local/lib/python3.6/dist-packages/tensorflow/python/keras/engine/training.py\u001b[0m in \u001b[0;36mpredict\u001b[0;34m(self, x, batch_size, verbose, steps, callbacks, max_queue_size, workers, use_multiprocessing)\u001b[0m\n\u001b[1;32m   1577\u001b[0m           \u001b[0muse_multiprocessing\u001b[0m\u001b[0;34m=\u001b[0m\u001b[0muse_multiprocessing\u001b[0m\u001b[0;34m,\u001b[0m\u001b[0;34m\u001b[0m\u001b[0;34m\u001b[0m\u001b[0m\n\u001b[1;32m   1578\u001b[0m           \u001b[0mmodel\u001b[0m\u001b[0;34m=\u001b[0m\u001b[0mself\u001b[0m\u001b[0;34m,\u001b[0m\u001b[0;34m\u001b[0m\u001b[0;34m\u001b[0m\u001b[0m\n\u001b[0;32m-> 1579\u001b[0;31m           steps_per_execution=self._steps_per_execution)\n\u001b[0m\u001b[1;32m   1580\u001b[0m \u001b[0;34m\u001b[0m\u001b[0m\n\u001b[1;32m   1581\u001b[0m       \u001b[0;31m# Container that configures and calls `tf.keras.Callback`s.\u001b[0m\u001b[0;34m\u001b[0m\u001b[0;34m\u001b[0m\u001b[0;34m\u001b[0m\u001b[0m\n",
            "\u001b[0;32m/usr/local/lib/python3.6/dist-packages/tensorflow/python/keras/engine/data_adapter.py\u001b[0m in \u001b[0;36m__init__\u001b[0;34m(self, x, y, sample_weight, batch_size, steps_per_epoch, initial_epoch, epochs, shuffle, class_weight, max_queue_size, workers, use_multiprocessing, model, steps_per_execution)\u001b[0m\n\u001b[1;32m   1115\u001b[0m         \u001b[0muse_multiprocessing\u001b[0m\u001b[0;34m=\u001b[0m\u001b[0muse_multiprocessing\u001b[0m\u001b[0;34m,\u001b[0m\u001b[0;34m\u001b[0m\u001b[0;34m\u001b[0m\u001b[0m\n\u001b[1;32m   1116\u001b[0m         \u001b[0mdistribution_strategy\u001b[0m\u001b[0;34m=\u001b[0m\u001b[0mds_context\u001b[0m\u001b[0;34m.\u001b[0m\u001b[0mget_strategy\u001b[0m\u001b[0;34m(\u001b[0m\u001b[0;34m)\u001b[0m\u001b[0;34m,\u001b[0m\u001b[0;34m\u001b[0m\u001b[0;34m\u001b[0m\u001b[0m\n\u001b[0;32m-> 1117\u001b[0;31m         model=model)\n\u001b[0m\u001b[1;32m   1118\u001b[0m \u001b[0;34m\u001b[0m\u001b[0m\n\u001b[1;32m   1119\u001b[0m     \u001b[0mstrategy\u001b[0m \u001b[0;34m=\u001b[0m \u001b[0mds_context\u001b[0m\u001b[0;34m.\u001b[0m\u001b[0mget_strategy\u001b[0m\u001b[0;34m(\u001b[0m\u001b[0;34m)\u001b[0m\u001b[0;34m\u001b[0m\u001b[0;34m\u001b[0m\u001b[0m\n",
            "\u001b[0;32m/usr/local/lib/python3.6/dist-packages/tensorflow/python/keras/engine/data_adapter.py\u001b[0m in \u001b[0;36m__init__\u001b[0;34m(self, x, y, sample_weights, sample_weight_modes, batch_size, epochs, steps, shuffle, **kwargs)\u001b[0m\n\u001b[1;32m    360\u001b[0m       \u001b[0;32mreturn\u001b[0m \u001b[0mflat_dataset\u001b[0m\u001b[0;34m\u001b[0m\u001b[0;34m\u001b[0m\u001b[0m\n\u001b[1;32m    361\u001b[0m \u001b[0;34m\u001b[0m\u001b[0m\n\u001b[0;32m--> 362\u001b[0;31m     \u001b[0mindices_dataset\u001b[0m \u001b[0;34m=\u001b[0m \u001b[0mindices_dataset\u001b[0m\u001b[0;34m.\u001b[0m\u001b[0mflat_map\u001b[0m\u001b[0;34m(\u001b[0m\u001b[0mslice_batch_indices\u001b[0m\u001b[0;34m)\u001b[0m\u001b[0;34m\u001b[0m\u001b[0;34m\u001b[0m\u001b[0m\n\u001b[0m\u001b[1;32m    363\u001b[0m \u001b[0;34m\u001b[0m\u001b[0m\n\u001b[1;32m    364\u001b[0m     \u001b[0mdataset\u001b[0m \u001b[0;34m=\u001b[0m \u001b[0mself\u001b[0m\u001b[0;34m.\u001b[0m\u001b[0mslice_inputs\u001b[0m\u001b[0;34m(\u001b[0m\u001b[0mindices_dataset\u001b[0m\u001b[0;34m,\u001b[0m \u001b[0minputs\u001b[0m\u001b[0;34m)\u001b[0m\u001b[0;34m\u001b[0m\u001b[0;34m\u001b[0m\u001b[0m\n",
            "\u001b[0;32m/usr/local/lib/python3.6/dist-packages/tensorflow/python/data/ops/dataset_ops.py\u001b[0m in \u001b[0;36mflat_map\u001b[0;34m(self, map_func)\u001b[0m\n\u001b[1;32m   1725\u001b[0m       \u001b[0mDataset\u001b[0m\u001b[0;34m:\u001b[0m \u001b[0mA\u001b[0m\u001b[0;31m \u001b[0m\u001b[0;31m`\u001b[0m\u001b[0mDataset\u001b[0m\u001b[0;31m`\u001b[0m\u001b[0;34m.\u001b[0m\u001b[0;34m\u001b[0m\u001b[0;34m\u001b[0m\u001b[0m\n\u001b[1;32m   1726\u001b[0m     \"\"\"\n\u001b[0;32m-> 1727\u001b[0;31m     \u001b[0;32mreturn\u001b[0m \u001b[0mFlatMapDataset\u001b[0m\u001b[0;34m(\u001b[0m\u001b[0mself\u001b[0m\u001b[0;34m,\u001b[0m \u001b[0mmap_func\u001b[0m\u001b[0;34m)\u001b[0m\u001b[0;34m\u001b[0m\u001b[0;34m\u001b[0m\u001b[0m\n\u001b[0m\u001b[1;32m   1728\u001b[0m \u001b[0;34m\u001b[0m\u001b[0m\n\u001b[1;32m   1729\u001b[0m   def interleave(self,\n",
            "\u001b[0;32m/usr/local/lib/python3.6/dist-packages/tensorflow/python/data/ops/dataset_ops.py\u001b[0m in \u001b[0;36m__init__\u001b[0;34m(self, input_dataset, map_func)\u001b[0m\n\u001b[1;32m   4121\u001b[0m     \u001b[0mself\u001b[0m\u001b[0;34m.\u001b[0m\u001b[0m_input_dataset\u001b[0m \u001b[0;34m=\u001b[0m \u001b[0minput_dataset\u001b[0m\u001b[0;34m\u001b[0m\u001b[0;34m\u001b[0m\u001b[0m\n\u001b[1;32m   4122\u001b[0m     self._map_func = StructuredFunctionWrapper(\n\u001b[0;32m-> 4123\u001b[0;31m         map_func, self._transformation_name(), dataset=input_dataset)\n\u001b[0m\u001b[1;32m   4124\u001b[0m     \u001b[0;32mif\u001b[0m \u001b[0;32mnot\u001b[0m \u001b[0misinstance\u001b[0m\u001b[0;34m(\u001b[0m\u001b[0mself\u001b[0m\u001b[0;34m.\u001b[0m\u001b[0m_map_func\u001b[0m\u001b[0;34m.\u001b[0m\u001b[0moutput_structure\u001b[0m\u001b[0;34m,\u001b[0m \u001b[0mDatasetSpec\u001b[0m\u001b[0;34m)\u001b[0m\u001b[0;34m:\u001b[0m\u001b[0;34m\u001b[0m\u001b[0;34m\u001b[0m\u001b[0m\n\u001b[1;32m   4125\u001b[0m       raise TypeError(\n",
            "\u001b[0;32m/usr/local/lib/python3.6/dist-packages/tensorflow/python/data/ops/dataset_ops.py\u001b[0m in \u001b[0;36m__init__\u001b[0;34m(self, func, transformation_name, dataset, input_classes, input_shapes, input_types, input_structure, add_to_graph, use_legacy_function, defun_kwargs)\u001b[0m\n\u001b[1;32m   3369\u001b[0m       \u001b[0;32mwith\u001b[0m \u001b[0mtracking\u001b[0m\u001b[0;34m.\u001b[0m\u001b[0mresource_tracker_scope\u001b[0m\u001b[0;34m(\u001b[0m\u001b[0mresource_tracker\u001b[0m\u001b[0;34m)\u001b[0m\u001b[0;34m:\u001b[0m\u001b[0;34m\u001b[0m\u001b[0;34m\u001b[0m\u001b[0m\n\u001b[1;32m   3370\u001b[0m         \u001b[0;31m# TODO(b/141462134): Switch to using garbage collection.\u001b[0m\u001b[0;34m\u001b[0m\u001b[0;34m\u001b[0m\u001b[0;34m\u001b[0m\u001b[0m\n\u001b[0;32m-> 3371\u001b[0;31m         \u001b[0mself\u001b[0m\u001b[0;34m.\u001b[0m\u001b[0m_function\u001b[0m \u001b[0;34m=\u001b[0m \u001b[0mwrapper_fn\u001b[0m\u001b[0;34m.\u001b[0m\u001b[0mget_concrete_function\u001b[0m\u001b[0;34m(\u001b[0m\u001b[0;34m)\u001b[0m\u001b[0;34m\u001b[0m\u001b[0;34m\u001b[0m\u001b[0m\n\u001b[0m\u001b[1;32m   3372\u001b[0m         \u001b[0;32mif\u001b[0m \u001b[0madd_to_graph\u001b[0m\u001b[0;34m:\u001b[0m\u001b[0;34m\u001b[0m\u001b[0;34m\u001b[0m\u001b[0m\n\u001b[1;32m   3373\u001b[0m           \u001b[0mself\u001b[0m\u001b[0;34m.\u001b[0m\u001b[0m_function\u001b[0m\u001b[0;34m.\u001b[0m\u001b[0madd_to_graph\u001b[0m\u001b[0;34m(\u001b[0m\u001b[0mops\u001b[0m\u001b[0;34m.\u001b[0m\u001b[0mget_default_graph\u001b[0m\u001b[0;34m(\u001b[0m\u001b[0;34m)\u001b[0m\u001b[0;34m)\u001b[0m\u001b[0;34m\u001b[0m\u001b[0;34m\u001b[0m\u001b[0m\n",
            "\u001b[0;32m/usr/local/lib/python3.6/dist-packages/tensorflow/python/eager/function.py\u001b[0m in \u001b[0;36mget_concrete_function\u001b[0;34m(self, *args, **kwargs)\u001b[0m\n\u001b[1;32m   2937\u001b[0m     \"\"\"\n\u001b[1;32m   2938\u001b[0m     graph_function = self._get_concrete_function_garbage_collected(\n\u001b[0;32m-> 2939\u001b[0;31m         *args, **kwargs)\n\u001b[0m\u001b[1;32m   2940\u001b[0m     \u001b[0mgraph_function\u001b[0m\u001b[0;34m.\u001b[0m\u001b[0m_garbage_collector\u001b[0m\u001b[0;34m.\u001b[0m\u001b[0mrelease\u001b[0m\u001b[0;34m(\u001b[0m\u001b[0;34m)\u001b[0m  \u001b[0;31m# pylint: disable=protected-access\u001b[0m\u001b[0;34m\u001b[0m\u001b[0;34m\u001b[0m\u001b[0m\n\u001b[1;32m   2941\u001b[0m     \u001b[0;32mreturn\u001b[0m \u001b[0mgraph_function\u001b[0m\u001b[0;34m\u001b[0m\u001b[0;34m\u001b[0m\u001b[0m\n",
            "\u001b[0;32m/usr/local/lib/python3.6/dist-packages/tensorflow/python/eager/function.py\u001b[0m in \u001b[0;36m_get_concrete_function_garbage_collected\u001b[0;34m(self, *args, **kwargs)\u001b[0m\n\u001b[1;32m   2904\u001b[0m       \u001b[0margs\u001b[0m\u001b[0;34m,\u001b[0m \u001b[0mkwargs\u001b[0m \u001b[0;34m=\u001b[0m \u001b[0;32mNone\u001b[0m\u001b[0;34m,\u001b[0m \u001b[0;32mNone\u001b[0m\u001b[0;34m\u001b[0m\u001b[0;34m\u001b[0m\u001b[0m\n\u001b[1;32m   2905\u001b[0m     \u001b[0;32mwith\u001b[0m \u001b[0mself\u001b[0m\u001b[0;34m.\u001b[0m\u001b[0m_lock\u001b[0m\u001b[0;34m:\u001b[0m\u001b[0;34m\u001b[0m\u001b[0;34m\u001b[0m\u001b[0m\n\u001b[0;32m-> 2906\u001b[0;31m       \u001b[0mgraph_function\u001b[0m\u001b[0;34m,\u001b[0m \u001b[0margs\u001b[0m\u001b[0;34m,\u001b[0m \u001b[0mkwargs\u001b[0m \u001b[0;34m=\u001b[0m \u001b[0mself\u001b[0m\u001b[0;34m.\u001b[0m\u001b[0m_maybe_define_function\u001b[0m\u001b[0;34m(\u001b[0m\u001b[0margs\u001b[0m\u001b[0;34m,\u001b[0m \u001b[0mkwargs\u001b[0m\u001b[0;34m)\u001b[0m\u001b[0;34m\u001b[0m\u001b[0;34m\u001b[0m\u001b[0m\n\u001b[0m\u001b[1;32m   2907\u001b[0m       \u001b[0mseen_names\u001b[0m \u001b[0;34m=\u001b[0m \u001b[0mset\u001b[0m\u001b[0;34m(\u001b[0m\u001b[0;34m)\u001b[0m\u001b[0;34m\u001b[0m\u001b[0;34m\u001b[0m\u001b[0m\n\u001b[1;32m   2908\u001b[0m       captured = object_identity.ObjectIdentitySet(\n",
            "\u001b[0;32m/usr/local/lib/python3.6/dist-packages/tensorflow/python/eager/function.py\u001b[0m in \u001b[0;36m_maybe_define_function\u001b[0;34m(self, args, kwargs)\u001b[0m\n\u001b[1;32m   3211\u001b[0m \u001b[0;34m\u001b[0m\u001b[0m\n\u001b[1;32m   3212\u001b[0m       \u001b[0mself\u001b[0m\u001b[0;34m.\u001b[0m\u001b[0m_function_cache\u001b[0m\u001b[0;34m.\u001b[0m\u001b[0mmissed\u001b[0m\u001b[0;34m.\u001b[0m\u001b[0madd\u001b[0m\u001b[0;34m(\u001b[0m\u001b[0mcall_context_key\u001b[0m\u001b[0;34m)\u001b[0m\u001b[0;34m\u001b[0m\u001b[0;34m\u001b[0m\u001b[0m\n\u001b[0;32m-> 3213\u001b[0;31m       \u001b[0mgraph_function\u001b[0m \u001b[0;34m=\u001b[0m \u001b[0mself\u001b[0m\u001b[0;34m.\u001b[0m\u001b[0m_create_graph_function\u001b[0m\u001b[0;34m(\u001b[0m\u001b[0margs\u001b[0m\u001b[0;34m,\u001b[0m \u001b[0mkwargs\u001b[0m\u001b[0;34m)\u001b[0m\u001b[0;34m\u001b[0m\u001b[0;34m\u001b[0m\u001b[0m\n\u001b[0m\u001b[1;32m   3214\u001b[0m       \u001b[0mself\u001b[0m\u001b[0;34m.\u001b[0m\u001b[0m_function_cache\u001b[0m\u001b[0;34m.\u001b[0m\u001b[0mprimary\u001b[0m\u001b[0;34m[\u001b[0m\u001b[0mcache_key\u001b[0m\u001b[0;34m]\u001b[0m \u001b[0;34m=\u001b[0m \u001b[0mgraph_function\u001b[0m\u001b[0;34m\u001b[0m\u001b[0;34m\u001b[0m\u001b[0m\n\u001b[1;32m   3215\u001b[0m       \u001b[0;32mreturn\u001b[0m \u001b[0mgraph_function\u001b[0m\u001b[0;34m,\u001b[0m \u001b[0margs\u001b[0m\u001b[0;34m,\u001b[0m \u001b[0mkwargs\u001b[0m\u001b[0;34m\u001b[0m\u001b[0;34m\u001b[0m\u001b[0m\n",
            "\u001b[0;32m/usr/local/lib/python3.6/dist-packages/tensorflow/python/eager/function.py\u001b[0m in \u001b[0;36m_create_graph_function\u001b[0;34m(self, args, kwargs, override_flat_arg_shapes)\u001b[0m\n\u001b[1;32m   3073\u001b[0m             \u001b[0marg_names\u001b[0m\u001b[0;34m=\u001b[0m\u001b[0marg_names\u001b[0m\u001b[0;34m,\u001b[0m\u001b[0;34m\u001b[0m\u001b[0;34m\u001b[0m\u001b[0m\n\u001b[1;32m   3074\u001b[0m             \u001b[0moverride_flat_arg_shapes\u001b[0m\u001b[0;34m=\u001b[0m\u001b[0moverride_flat_arg_shapes\u001b[0m\u001b[0;34m,\u001b[0m\u001b[0;34m\u001b[0m\u001b[0;34m\u001b[0m\u001b[0m\n\u001b[0;32m-> 3075\u001b[0;31m             capture_by_value=self._capture_by_value),\n\u001b[0m\u001b[1;32m   3076\u001b[0m         \u001b[0mself\u001b[0m\u001b[0;34m.\u001b[0m\u001b[0m_function_attributes\u001b[0m\u001b[0;34m,\u001b[0m\u001b[0;34m\u001b[0m\u001b[0;34m\u001b[0m\u001b[0m\n\u001b[1;32m   3077\u001b[0m         \u001b[0mfunction_spec\u001b[0m\u001b[0;34m=\u001b[0m\u001b[0mself\u001b[0m\u001b[0;34m.\u001b[0m\u001b[0mfunction_spec\u001b[0m\u001b[0;34m,\u001b[0m\u001b[0;34m\u001b[0m\u001b[0;34m\u001b[0m\u001b[0m\n",
            "\u001b[0;32m/usr/local/lib/python3.6/dist-packages/tensorflow/python/framework/func_graph.py\u001b[0m in \u001b[0;36mfunc_graph_from_py_func\u001b[0;34m(name, python_func, args, kwargs, signature, func_graph, autograph, autograph_options, add_control_dependencies, arg_names, op_return_value, collections, capture_by_value, override_flat_arg_shapes)\u001b[0m\n\u001b[1;32m   1025\u001b[0m         if x is not None)\n\u001b[1;32m   1026\u001b[0m \u001b[0;34m\u001b[0m\u001b[0m\n\u001b[0;32m-> 1027\u001b[0;31m     \u001b[0mfunc_graph\u001b[0m\u001b[0;34m.\u001b[0m\u001b[0mvariables\u001b[0m \u001b[0;34m=\u001b[0m \u001b[0mvariables\u001b[0m\u001b[0;34m\u001b[0m\u001b[0;34m\u001b[0m\u001b[0m\n\u001b[0m\u001b[1;32m   1028\u001b[0m \u001b[0;34m\u001b[0m\u001b[0m\n\u001b[1;32m   1029\u001b[0m   \u001b[0;32mif\u001b[0m \u001b[0madd_control_dependencies\u001b[0m\u001b[0;34m:\u001b[0m\u001b[0;34m\u001b[0m\u001b[0;34m\u001b[0m\u001b[0m\n",
            "\u001b[0;32m/usr/local/lib/python3.6/dist-packages/tensorflow/python/framework/auto_control_deps.py\u001b[0m in \u001b[0;36m__exit__\u001b[0;34m(self, unused_type, unused_value, unused_traceback)\u001b[0m\n\u001b[1;32m    467\u001b[0m               \u001b[0;32mif\u001b[0m \u001b[0mo\u001b[0m\u001b[0;34m.\u001b[0m\u001b[0m_control_flow_context\u001b[0m \u001b[0;32mis\u001b[0m \u001b[0mr\u001b[0m\u001b[0;34m.\u001b[0m\u001b[0mop\u001b[0m\u001b[0;34m.\u001b[0m\u001b[0m_control_flow_context\u001b[0m\u001b[0;34m\u001b[0m\u001b[0;34m\u001b[0m\u001b[0m\n\u001b[1;32m    468\u001b[0m           ]\n\u001b[0;32m--> 469\u001b[0;31m         \u001b[0mr\u001b[0m\u001b[0;34m.\u001b[0m\u001b[0mop\u001b[0m\u001b[0;34m.\u001b[0m\u001b[0m_add_control_inputs\u001b[0m\u001b[0;34m(\u001b[0m\u001b[0mupdated_ops_which_must_run\u001b[0m\u001b[0;34m)\u001b[0m\u001b[0;34m\u001b[0m\u001b[0;34m\u001b[0m\u001b[0m\n\u001b[0m\u001b[1;32m    470\u001b[0m \u001b[0;34m\u001b[0m\u001b[0m\n\u001b[1;32m    471\u001b[0m     \u001b[0mself\u001b[0m\u001b[0;34m.\u001b[0m\u001b[0mcollective_manager_ids_used\u001b[0m \u001b[0;34m=\u001b[0m \u001b[0mcollective_manager_scopes_used\u001b[0m\u001b[0;34m\u001b[0m\u001b[0;34m\u001b[0m\u001b[0m\n",
            "\u001b[0;32m/usr/local/lib/python3.6/dist-packages/tensorflow/python/framework/ops.py\u001b[0m in \u001b[0;36m_add_control_inputs\u001b[0;34m(self, ops)\u001b[0m\n\u001b[1;32m   2259\u001b[0m           \u001b[0mself\u001b[0m\u001b[0;34m.\u001b[0m\u001b[0m_graph\u001b[0m\u001b[0;34m.\u001b[0m\u001b[0m_c_graph\u001b[0m\u001b[0;34m,\u001b[0m  \u001b[0;31m# pylint: disable=protected-access\u001b[0m\u001b[0;34m\u001b[0m\u001b[0;34m\u001b[0m\u001b[0m\n\u001b[1;32m   2260\u001b[0m           \u001b[0mself\u001b[0m\u001b[0;34m.\u001b[0m\u001b[0m_c_op\u001b[0m\u001b[0;34m,\u001b[0m  \u001b[0;31m# pylint: disable=protected-access\u001b[0m\u001b[0;34m\u001b[0m\u001b[0;34m\u001b[0m\u001b[0m\n\u001b[0;32m-> 2261\u001b[0;31m           op._c_op)  # pylint: disable=protected-access\n\u001b[0m\u001b[1;32m   2262\u001b[0m \u001b[0;34m\u001b[0m\u001b[0m\n\u001b[1;32m   2263\u001b[0m   \u001b[0;32mdef\u001b[0m \u001b[0m_add_control_input\u001b[0m\u001b[0;34m(\u001b[0m\u001b[0mself\u001b[0m\u001b[0;34m,\u001b[0m \u001b[0mop\u001b[0m\u001b[0;34m)\u001b[0m\u001b[0;34m:\u001b[0m\u001b[0;34m\u001b[0m\u001b[0;34m\u001b[0m\u001b[0m\n",
            "\u001b[0;31mKeyboardInterrupt\u001b[0m: "
          ]
        },
        {
          "output_type": "display_data",
          "data": {
            "image/png": "[encoded data removed]",
            "text/plain": [
              "<Figure size 432x288 with 1 Axes>"
            ]
          },
          "metadata": {
            "tags": [],
            "needs_background": "light"
          }
        }
      ]
    },
    {
      "cell_type": "code",
      "metadata": {
        "id": "vFNV90A7QwdE",
        "colab": {
          "base_uri": "https://localhost:8080/",
          "height": 1000
        },
        "outputId": "7d54aef5-80a6-4663-95e4-925a14d86063"
      },
      "source": [
        "test2 =  np.array([\n",
        "  [ 1.,  1.,  0.,  0.],\n",
        "    [ 1.,  1., 1.,  1.],\n",
        "    [ 1.,  1., 0.,  1.],\n",
        "    [ 1.,  3., 1., 1.],\n",
        "    [1., 1. , 1., 0.]\n",
        "])\n",
        "print(test2.shape)\n",
        "start_loc = rat_loc(test2)\n",
        "qmaze = Qmaze(test2, start_loc)\n",
        "show(qmaze)\n",
        "model = build_model(test2)\n",
        "qtrain(model, test2,start_loc, epochs=1000, max_memory=8*maze.size, data_size=32)"
      ],
      "execution_count": null,
      "outputs": [
        {
          "output_type": "stream",
          "text": [
            "(5, 4)\n",
            "Epoch: 000/49 | Loss: 0.0260 | Episodes: 24 | Win count: 0 | Win rate: 0.000 | time: 1.2 seconds\n",
            "Epoch: 001/49 | Loss: 0.0238 | Episodes: 23 | Win count: 0 | Win rate: 0.000 | time: 2.4 seconds\n",
            "Epoch: 002/49 | Loss: 0.5385 | Episodes: 81 | Win count: 0 | Win rate: 0.000 | time: 6.6 seconds\n",
            "Epoch: 003/49 | Loss: 0.0113 | Episodes: 39 | Win count: 0 | Win rate: 0.000 | time: 8.8 seconds\n",
            "Epoch: 004/49 | Loss: 0.0107 | Episodes: 11 | Win count: 0 | Win rate: 0.000 | time: 9.4 seconds\n",
            "Epoch: 005/49 | Loss: 0.0313 | Episodes: 7 | Win count: 0 | Win rate: 0.000 | time: 9.7 seconds\n",
            "Epoch: 006/49 | Loss: 0.0052 | Episodes: 81 | Win count: 0 | Win rate: 0.000 | time: 14.0 seconds\n",
            "Epoch: 007/49 | Loss: 0.3781 | Episodes: 26 | Win count: 0 | Win rate: 0.000 | time: 15.4 seconds\n",
            "Epoch: 008/49 | Loss: 0.0088 | Episodes: 9 | Win count: 0 | Win rate: 0.000 | time: 15.8 seconds\n",
            "Epoch: 009/49 | Loss: 0.0170 | Episodes: 8 | Win count: 0 | Win rate: 0.000 | time: 16.3 seconds\n",
            "Epoch: 010/49 | Loss: 0.5419 | Episodes: 81 | Win count: 0 | Win rate: 0.000 | time: 20.5 seconds\n",
            "Epoch: 011/49 | Loss: 0.0228 | Episodes: 38 | Win count: 1 | Win rate: 0.000 | time: 22.5 seconds\n",
            "Epoch: 012/49 | Loss: 0.8847 | Episodes: 25 | Win count: 1 | Win rate: 0.000 | time: 23.8 seconds\n",
            "Epoch: 013/49 | Loss: 15.2337 | Episodes: 28 | Win count: 1 | Win rate: 0.000 | time: 25.3 seconds\n",
            "Epoch: 014/49 | Loss: 8.7502 | Episodes: 25 | Win count: 1 | Win rate: 0.000 | time: 26.6 seconds\n",
            "Epoch: 015/49 | Loss: 0.8373 | Episodes: 81 | Win count: 1 | Win rate: 0.000 | time: 30.9 seconds\n",
            "Epoch: 016/49 | Loss: 4.4199 | Episodes: 18 | Win count: 1 | Win rate: 0.000 | time: 31.8 seconds\n",
            "Epoch: 017/49 | Loss: 0.3132 | Episodes: 81 | Win count: 1 | Win rate: 0.000 | time: 36.1 seconds\n",
            "Epoch: 018/49 | Loss: 0.1769 | Episodes: 81 | Win count: 1 | Win rate: 0.000 | time: 40.3 seconds\n",
            "Epoch: 019/49 | Loss: 0.1268 | Episodes: 61 | Win count: 2 | Win rate: 0.000 | time: 43.5 seconds\n",
            "Epoch: 020/49 | Loss: 21.2252 | Episodes: 28 | Win count: 3 | Win rate: 0.000 | time: 45.0 seconds\n",
            "Epoch: 021/49 | Loss: 57.7114 | Episodes: 24 | Win count: 4 | Win rate: 0.000 | time: 46.3 seconds\n",
            "Epoch: 022/49 | Loss: 19.5060 | Episodes: 10 | Win count: 4 | Win rate: 0.000 | time: 46.8 seconds\n",
            "Epoch: 023/49 | Loss: 16.9103 | Episodes: 81 | Win count: 4 | Win rate: 0.400 | time: 51.1 seconds\n",
            "Epoch: 024/49 | Loss: 0.2467 | Episodes: 81 | Win count: 4 | Win rate: 0.400 | time: 55.3 seconds\n",
            "Epoch: 025/49 | Loss: 2.8658 | Episodes: 27 | Win count: 5 | Win rate: 0.500 | time: 56.7 seconds\n",
            "Epoch: 026/49 | Loss: 1.3692 | Episodes: 7 | Win count: 5 | Win rate: 0.500 | time: 57.1 seconds\n",
            "Epoch: 027/49 | Loss: 2.9363 | Episodes: 24 | Win count: 5 | Win rate: 0.500 | time: 58.4 seconds\n",
            "Epoch: 028/49 | Loss: 3.1784 | Episodes: 15 | Win count: 5 | Win rate: 0.500 | time: 59.1 seconds\n",
            "Epoch: 029/49 | Loss: 3.6119 | Episodes: 26 | Win count: 5 | Win rate: 0.500 | time: 60.5 seconds\n",
            "Epoch: 030/49 | Loss: 4.1671 | Episodes: 16 | Win count: 5 | Win rate: 0.500 | time: 61.4 seconds\n",
            "Epoch: 031/49 | Loss: 0.3783 | Episodes: 81 | Win count: 5 | Win rate: 0.400 | time: 65.6 seconds\n",
            "Epoch: 032/49 | Loss: 1.6051 | Episodes: 40 | Win count: 5 | Win rate: 0.400 | time: 67.7 seconds\n",
            "Epoch: 033/49 | Loss: 1.3389 | Episodes: 6 | Win count: 5 | Win rate: 0.400 | time: 68.0 seconds\n",
            "Epoch: 034/49 | Loss: 0.1150 | Episodes: 81 | Win count: 5 | Win rate: 0.400 | time: 72.3 seconds\n",
            "Epoch: 035/49 | Loss: 0.0160 | Episodes: 81 | Win count: 5 | Win rate: 0.400 | time: 76.6 seconds\n",
            "Epoch: 036/49 | Loss: 22.1967 | Episodes: 21 | Win count: 6 | Win rate: 0.500 | time: 77.7 seconds\n",
            "Epoch: 037/49 | Loss: 5.0449 | Episodes: 81 | Win count: 6 | Win rate: 0.400 | time: 81.9 seconds\n",
            "Epoch: 038/49 | Loss: 0.1051 | Episodes: 81 | Win count: 6 | Win rate: 0.300 | time: 86.2 seconds\n",
            "Epoch: 039/49 | Loss: 0.2717 | Episodes: 16 | Win count: 6 | Win rate: 0.300 | time: 87.1 seconds\n",
            "Epoch: 040/49 | Loss: 1.7457 | Episodes: 34 | Win count: 6 | Win rate: 0.300 | time: 88.8 seconds\n",
            "Epoch: 041/49 | Loss: 0.4272 | Episodes: 81 | Win count: 6 | Win rate: 0.200 | time: 93.1 seconds\n",
            "Epoch: 042/49 | Loss: 0.6967 | Episodes: 41 | Win count: 7 | Win rate: 0.300 | time: 95.2 seconds\n",
            "Epoch: 043/49 | Loss: 6.3446 | Episodes: 20 | Win count: 7 | Win rate: 0.300 | time: 96.3 seconds\n",
            "Epoch: 044/49 | Loss: 1.3092 | Episodes: 10 | Win count: 7 | Win rate: 0.300 | time: 96.8 seconds\n",
            "Epoch: 045/49 | Loss: 1.9436 | Episodes: 26 | Win count: 7 | Win rate: 0.300 | time: 98.2 seconds\n",
            "Epoch: 046/49 | Loss: 8.5149 | Episodes: 11 | Win count: 7 | Win rate: 0.300 | time: 98.8 seconds\n",
            "Epoch: 047/49 | Loss: 0.7266 | Episodes: 81 | Win count: 7 | Win rate: 0.300 | time: 103.1 seconds\n",
            "Epoch: 048/49 | Loss: 3.8862 | Episodes: 25 | Win count: 7 | Win rate: 0.300 | time: 104.4 seconds\n",
            "Epoch: 049/49 | Loss: 1.3469 | Episodes: 81 | Win count: 7 | Win rate: 0.200 | time: 108.7 seconds\n",
            "files: model.h5, model.json\n",
            "n_epoch: 49, max_mem: 128, data: 32, time: 108.7 seconds\n"
          ],
          "name": "stdout"
        },
        {
          "output_type": "execute_result",
          "data": {
            "text/plain": [
              "108.683385"
            ]
          },
          "metadata": {
            "tags": []
          },
          "execution_count": 23
        },
        {
          "output_type": "display_data",
          "data": {
            "image/png": "[encoded data removed]",
            "text/plain": [
              "<Figure size 432x288 with 1 Axes>"
            ]
          },
          "metadata": {
            "tags": [],
            "needs_background": "light"
          }
        }
      ]
    },
    {
      "cell_type": "code",
      "metadata": {
        "id": "RYySSuKkSiBI",
        "colab": {
          "base_uri": "https://localhost:8080/",
          "height": 1000
        },
        "outputId": "847d1a01-86dd-45b2-f4b9-d61efc25883d"
      },
      "source": [
        "test3 =  np.array([\n",
        "  [ 1.,  1.,  1.,  0.],\n",
        "    [ 1.,  0.,  1., 1.],\n",
        "    [ 1.,  1., 3., 1.],\n",
        "    [ 0., 1.,  1., 0.],\n",
        "    [0., 0. , 1. , 1.]\n",
        "])\n",
        "print(test3.shape)\n",
        "start_loc = rat_loc(test3)\n",
        "qmaze = Qmaze(test3, start_loc)\n",
        "show(qmaze)\n",
        "model = build_model(test3)\n",
        "qtrain(model, test3,start_loc, epochs=1000, max_memory=8*maze.size, data_size=32)"
      ],
      "execution_count": null,
      "outputs": [
        {
          "output_type": "stream",
          "text": [
            "(5, 4)\n",
            "Epoch: 000/49 | Loss: 0.0373 | Episodes: 14 | Win count: 0 | Win rate: 0.000 | time: 0.9 seconds\n",
            "Epoch: 001/49 | Loss: 0.0389 | Episodes: 6 | Win count: 0 | Win rate: 0.000 | time: 1.1 seconds\n",
            "Epoch: 002/49 | Loss: 0.0105 | Episodes: 81 | Win count: 0 | Win rate: 0.000 | time: 5.3 seconds\n",
            "Epoch: 003/49 | Loss: 0.0128 | Episodes: 27 | Win count: 0 | Win rate: 0.000 | time: 6.8 seconds\n",
            "Epoch: 004/49 | Loss: 0.0768 | Episodes: 13 | Win count: 0 | Win rate: 0.000 | time: 7.5 seconds\n",
            "Epoch: 005/49 | Loss: 0.2974 | Episodes: 81 | Win count: 0 | Win rate: 0.000 | time: 11.8 seconds\n",
            "Epoch: 006/49 | Loss: 0.3667 | Episodes: 32 | Win count: 0 | Win rate: 0.000 | time: 13.5 seconds\n",
            "Epoch: 007/49 | Loss: 0.1950 | Episodes: 81 | Win count: 0 | Win rate: 0.000 | time: 17.8 seconds\n",
            "Epoch: 008/49 | Loss: 0.0800 | Episodes: 81 | Win count: 0 | Win rate: 0.000 | time: 22.1 seconds\n",
            "Epoch: 009/49 | Loss: 0.4857 | Episodes: 50 | Win count: 0 | Win rate: 0.000 | time: 24.7 seconds\n",
            "Epoch: 010/49 | Loss: 0.2291 | Episodes: 22 | Win count: 0 | Win rate: 0.000 | time: 25.9 seconds\n",
            "Epoch: 011/49 | Loss: 0.3508 | Episodes: 12 | Win count: 0 | Win rate: 0.000 | time: 26.5 seconds\n",
            "Epoch: 012/49 | Loss: 0.4076 | Episodes: 20 | Win count: 0 | Win rate: 0.000 | time: 27.6 seconds\n",
            "Epoch: 013/49 | Loss: 0.0226 | Episodes: 81 | Win count: 0 | Win rate: 0.000 | time: 31.9 seconds\n",
            "Epoch: 014/49 | Loss: 0.0090 | Episodes: 81 | Win count: 0 | Win rate: 0.000 | time: 36.2 seconds\n",
            "Epoch: 015/49 | Loss: 0.1844 | Episodes: 36 | Win count: 0 | Win rate: 0.000 | time: 38.0 seconds\n",
            "Epoch: 016/49 | Loss: 0.2515 | Episodes: 12 | Win count: 0 | Win rate: 0.000 | time: 38.7 seconds\n",
            "Epoch: 017/49 | Loss: 0.2917 | Episodes: 27 | Win count: 0 | Win rate: 0.000 | time: 40.1 seconds\n",
            "Epoch: 018/49 | Loss: 0.6621 | Episodes: 20 | Win count: 0 | Win rate: 0.000 | time: 41.2 seconds\n",
            "Epoch: 019/49 | Loss: 0.0280 | Episodes: 81 | Win count: 0 | Win rate: 0.000 | time: 45.5 seconds\n",
            "Epoch: 020/49 | Loss: 0.0165 | Episodes: 81 | Win count: 0 | Win rate: 0.000 | time: 49.8 seconds\n",
            "Epoch: 021/49 | Loss: 0.0507 | Episodes: 10 | Win count: 0 | Win rate: 0.000 | time: 50.3 seconds\n",
            "Epoch: 022/49 | Loss: 0.4570 | Episodes: 6 | Win count: 0 | Win rate: 0.000 | time: 50.7 seconds\n",
            "Epoch: 023/49 | Loss: 0.2396 | Episodes: 8 | Win count: 0 | Win rate: 0.000 | time: 51.1 seconds\n",
            "Epoch: 024/49 | Loss: 0.9664 | Episodes: 2 | Win count: 0 | Win rate: 0.000 | time: 51.2 seconds\n",
            "Epoch: 025/49 | Loss: 0.9453 | Episodes: 5 | Win count: 0 | Win rate: 0.000 | time: 51.5 seconds\n",
            "Epoch: 026/49 | Loss: 1034.0372 | Episodes: 81 | Win count: 0 | Win rate: 0.000 | time: 55.8 seconds\n",
            "Epoch: 027/49 | Loss: 146.7540 | Episodes: 57 | Win count: 0 | Win rate: 0.000 | time: 58.8 seconds\n",
            "Epoch: 028/49 | Loss: 126.5555 | Episodes: 11 | Win count: 0 | Win rate: 0.000 | time: 59.3 seconds\n",
            "Epoch: 029/49 | Loss: 392.1842 | Episodes: 81 | Win count: 0 | Win rate: 0.000 | time: 63.6 seconds\n",
            "Epoch: 030/49 | Loss: 44.5102 | Episodes: 9 | Win count: 0 | Win rate: 0.000 | time: 64.1 seconds\n",
            "Epoch: 031/49 | Loss: 157.0943 | Episodes: 57 | Win count: 0 | Win rate: 0.000 | time: 67.2 seconds\n",
            "Epoch: 032/49 | Loss: 78.1932 | Episodes: 39 | Win count: 0 | Win rate: 0.000 | time: 69.3 seconds\n",
            "Epoch: 033/49 | Loss: 98.7245 | Episodes: 81 | Win count: 0 | Win rate: 0.000 | time: 73.5 seconds\n",
            "Epoch: 034/49 | Loss: 0.6137 | Episodes: 81 | Win count: 0 | Win rate: 0.000 | time: 77.8 seconds\n",
            "Epoch: 035/49 | Loss: 29.8017 | Episodes: 81 | Win count: 0 | Win rate: 0.000 | time: 82.1 seconds\n",
            "Epoch: 036/49 | Loss: 1.6903 | Episodes: 81 | Win count: 0 | Win rate: 0.000 | time: 86.4 seconds\n",
            "Epoch: 037/49 | Loss: 0.0773 | Episodes: 81 | Win count: 0 | Win rate: 0.000 | time: 90.7 seconds\n",
            "Epoch: 038/49 | Loss: 0.1085 | Episodes: 81 | Win count: 0 | Win rate: 0.000 | time: 95.0 seconds\n",
            "Epoch: 039/49 | Loss: 82.4482 | Episodes: 10 | Win count: 0 | Win rate: 0.000 | time: 95.6 seconds\n",
            "Epoch: 040/49 | Loss: 293.9593 | Episodes: 13 | Win count: 0 | Win rate: 0.000 | time: 96.4 seconds\n",
            "Epoch: 041/49 | Loss: 632.5181 | Episodes: 81 | Win count: 0 | Win rate: 0.000 | time: 101.2 seconds\n",
            "Epoch: 042/49 | Loss: 357.4724 | Episodes: 2 | Win count: 0 | Win rate: 0.000 | time: 101.3 seconds\n",
            "Epoch: 043/49 | Loss: 350.1119 | Episodes: 81 | Win count: 0 | Win rate: 0.000 | time: 106.1 seconds\n",
            "Epoch: 044/49 | Loss: 6788.0088 | Episodes: 15 | Win count: 0 | Win rate: 0.000 | time: 106.9 seconds\n",
            "Epoch: 045/49 | Loss: 28560.7090 | Episodes: 17 | Win count: 0 | Win rate: 0.000 | time: 107.8 seconds\n",
            "Epoch: 046/49 | Loss: 24538.0254 | Episodes: 2 | Win count: 0 | Win rate: 0.000 | time: 107.9 seconds\n",
            "Epoch: 047/49 | Loss: 66309.6562 | Episodes: 5 | Win count: 0 | Win rate: 0.000 | time: 108.2 seconds\n",
            "Epoch: 048/49 | Loss: 58851.3750 | Episodes: 81 | Win count: 0 | Win rate: 0.000 | time: 112.5 seconds\n",
            "Epoch: 049/49 | Loss: 550766.8750 | Episodes: 3 | Win count: 0 | Win rate: 0.000 | time: 112.7 seconds\n",
            "files: model.h5, model.json\n",
            "n_epoch: 49, max_mem: 128, data: 32, time: 112.7 seconds\n"
          ],
          "name": "stdout"
        },
        {
          "output_type": "execute_result",
          "data": {
            "text/plain": [
              "112.679277"
            ]
          },
          "metadata": {
            "tags": []
          },
          "execution_count": 24
        },
        {
          "output_type": "display_data",
          "data": {
            "image/png": "[encoded data removed]",
            "text/plain": [
              "<Figure size 432x288 with 1 Axes>"
            ]
          },
          "metadata": {
            "tags": [],
            "needs_background": "light"
          }
        }
      ]
    },
    {
      "cell_type": "code",
      "metadata": {
        "id": "YRtmJMddT5YS",
        "colab": {
          "base_uri": "https://localhost:8080/",
          "height": 1000
        },
        "outputId": "76da55cd-2a11-4415-a69a-9d66ac3024a8"
      },
      "source": [
        "\n",
        "test4 = np.array([\n",
        "    [ 3.,  1.,  1.,  1.],\n",
        "    [ 1.,  1.,  1.,  1.],\n",
        "    [ 1.,  0.,  0.,  1.],\n",
        "    [ 1.,  1.,  1.,  1.]\n",
        "])\n",
        "print(test4.shape)\n",
        "start_loc = rat_loc(test4)\n",
        "qmaze = Qmaze(test4, start_loc)\n",
        "show(qmaze)\n",
        "model = build_model(test4)\n",
        "qtrain(model, test4,start_loc, epochs=1000, max_memory=8*maze.size, data_size=32)"
      ],
      "execution_count": null,
      "outputs": [
        {
          "output_type": "stream",
          "text": [
            "(4, 4)\n",
            "Epoch: 000/49 | Loss: 0.0308 | Episodes: 65 | Win count: 0 | Win rate: 0.000 | time: 3.4 seconds\n",
            "Epoch: 001/49 | Loss: 0.1318 | Episodes: 65 | Win count: 0 | Win rate: 0.000 | time: 6.9 seconds\n",
            "Epoch: 002/49 | Loss: 0.3979 | Episodes: 65 | Win count: 0 | Win rate: 0.000 | time: 10.2 seconds\n",
            "Epoch: 003/49 | Loss: 0.4421 | Episodes: 65 | Win count: 0 | Win rate: 0.000 | time: 13.7 seconds\n",
            "Epoch: 004/49 | Loss: 0.0081 | Episodes: 65 | Win count: 0 | Win rate: 0.000 | time: 17.1 seconds\n",
            "Epoch: 005/49 | Loss: 0.0109 | Episodes: 22 | Win count: 1 | Win rate: 0.000 | time: 18.3 seconds\n",
            "Epoch: 006/49 | Loss: 0.5320 | Episodes: 35 | Win count: 2 | Win rate: 0.000 | time: 20.2 seconds\n",
            "Epoch: 007/49 | Loss: 112.7016 | Episodes: 55 | Win count: 3 | Win rate: 0.000 | time: 23.9 seconds\n",
            "Epoch: 008/49 | Loss: 4.0333 | Episodes: 34 | Win count: 3 | Win rate: 0.000 | time: 26.3 seconds\n",
            "Epoch: 009/49 | Loss: 1.4400 | Episodes: 65 | Win count: 3 | Win rate: 0.375 | time: 30.7 seconds\n",
            "Epoch: 010/49 | Loss: 0.4061 | Episodes: 65 | Win count: 3 | Win rate: 0.375 | time: 34.1 seconds\n",
            "Epoch: 011/49 | Loss: 12.5901 | Episodes: 65 | Win count: 3 | Win rate: 0.375 | time: 37.6 seconds\n",
            "Epoch: 012/49 | Loss: 2.0130 | Episodes: 22 | Win count: 4 | Win rate: 0.500 | time: 38.8 seconds\n",
            "Epoch: 013/49 | Loss: 0.4506 | Episodes: 65 | Win count: 4 | Win rate: 0.500 | time: 42.2 seconds\n",
            "Epoch: 014/49 | Loss: 1.7649 | Episodes: 65 | Win count: 4 | Win rate: 0.375 | time: 45.7 seconds\n",
            "Epoch: 015/49 | Loss: 0.3294 | Episodes: 65 | Win count: 4 | Win rate: 0.250 | time: 49.1 seconds\n",
            "Epoch: 016/49 | Loss: 0.1083 | Episodes: 65 | Win count: 4 | Win rate: 0.125 | time: 52.6 seconds\n",
            "Epoch: 017/49 | Loss: 0.1000 | Episodes: 8 | Win count: 4 | Win rate: 0.125 | time: 53.0 seconds\n",
            "Epoch: 018/49 | Loss: 1.1960 | Episodes: 19 | Win count: 4 | Win rate: 0.125 | time: 54.1 seconds\n",
            "Epoch: 019/49 | Loss: 1.3454 | Episodes: 65 | Win count: 4 | Win rate: 0.125 | time: 57.5 seconds\n",
            "Epoch: 020/49 | Loss: 0.7297 | Episodes: 19 | Win count: 4 | Win rate: 0.125 | time: 58.5 seconds\n",
            "Epoch: 021/49 | Loss: 0.5781 | Episodes: 16 | Win count: 5 | Win rate: 0.250 | time: 59.4 seconds\n",
            "Epoch: 022/49 | Loss: 3.5954 | Episodes: 22 | Win count: 5 | Win rate: 0.250 | time: 60.6 seconds\n",
            "Epoch: 023/49 | Loss: 3.2481 | Episodes: 65 | Win count: 5 | Win rate: 0.250 | time: 64.1 seconds\n",
            "Epoch: 024/49 | Loss: 69.6466 | Episodes: 31 | Win count: 6 | Win rate: 0.250 | time: 65.7 seconds\n",
            "Epoch: 025/49 | Loss: 33.5252 | Episodes: 22 | Win count: 7 | Win rate: 0.375 | time: 66.9 seconds\n",
            "Epoch: 026/49 | Loss: 4.5373 | Episodes: 65 | Win count: 7 | Win rate: 0.375 | time: 70.4 seconds\n",
            "Epoch: 027/49 | Loss: 1.0295 | Episodes: 65 | Win count: 7 | Win rate: 0.375 | time: 73.8 seconds\n",
            "Epoch: 028/49 | Loss: 0.1006 | Episodes: 65 | Win count: 7 | Win rate: 0.375 | time: 77.3 seconds\n",
            "Epoch: 029/49 | Loss: 0.8909 | Episodes: 65 | Win count: 7 | Win rate: 0.375 | time: 80.7 seconds\n",
            "Epoch: 030/49 | Loss: 0.0220 | Episodes: 65 | Win count: 7 | Win rate: 0.250 | time: 84.2 seconds\n",
            "Epoch: 031/49 | Loss: 0.0045 | Episodes: 65 | Win count: 7 | Win rate: 0.250 | time: 87.7 seconds\n",
            "Epoch: 032/49 | Loss: 0.0094 | Episodes: 65 | Win count: 7 | Win rate: 0.125 | time: 91.1 seconds\n",
            "Epoch: 033/49 | Loss: 6.2648 | Episodes: 44 | Win count: 7 | Win rate: 0.125 | time: 93.4 seconds\n",
            "Epoch: 034/49 | Loss: 3.0138 | Episodes: 65 | Win count: 7 | Win rate: 0.000 | time: 96.9 seconds\n",
            "Epoch: 035/49 | Loss: 1.3257 | Episodes: 65 | Win count: 7 | Win rate: 0.000 | time: 100.3 seconds\n",
            "Epoch: 036/49 | Loss: 0.4578 | Episodes: 65 | Win count: 7 | Win rate: 0.000 | time: 103.8 seconds\n",
            "Epoch: 037/49 | Loss: 0.0587 | Episodes: 65 | Win count: 7 | Win rate: 0.000 | time: 107.3 seconds\n",
            "Epoch: 038/49 | Loss: 0.1213 | Episodes: 18 | Win count: 8 | Win rate: 0.125 | time: 108.2 seconds\n",
            "Epoch: 039/49 | Loss: 3.7321 | Episodes: 18 | Win count: 9 | Win rate: 0.250 | time: 109.2 seconds\n",
            "Epoch: 040/49 | Loss: 10.7377 | Episodes: 65 | Win count: 9 | Win rate: 0.250 | time: 112.7 seconds\n",
            "Epoch: 041/49 | Loss: 3.1814 | Episodes: 49 | Win count: 10 | Win rate: 0.375 | time: 115.2 seconds\n",
            "Epoch: 042/49 | Loss: 0.3430 | Episodes: 10 | Win count: 11 | Win rate: 0.500 | time: 115.8 seconds\n",
            "Epoch: 043/49 | Loss: 81.7707 | Episodes: 65 | Win count: 11 | Win rate: 0.500 | time: 119.3 seconds\n",
            "Epoch: 044/49 | Loss: 4.5564 | Episodes: 30 | Win count: 11 | Win rate: 0.500 | time: 120.9 seconds\n",
            "Epoch: 045/49 | Loss: 0.2841 | Episodes: 65 | Win count: 11 | Win rate: 0.500 | time: 124.3 seconds\n",
            "Epoch: 046/49 | Loss: 5.4536 | Episodes: 25 | Win count: 12 | Win rate: 0.625 | time: 125.6 seconds\n",
            "Epoch: 047/49 | Loss: 10.1741 | Episodes: 65 | Win count: 12 | Win rate: 0.500 | time: 129.1 seconds\n",
            "Epoch: 048/49 | Loss: 4.6600 | Episodes: 28 | Win count: 13 | Win rate: 0.500 | time: 130.6 seconds\n",
            "Epoch: 049/49 | Loss: 26.3363 | Episodes: 27 | Win count: 13 | Win rate: 0.500 | time: 132.0 seconds\n",
            "files: model.h5, model.json\n",
            "n_epoch: 49, max_mem: 128, data: 32, time: 132.0 seconds\n"
          ],
          "name": "stdout"
        },
        {
          "output_type": "execute_result",
          "data": {
            "text/plain": [
              "132.042128"
            ]
          },
          "metadata": {
            "tags": []
          },
          "execution_count": 28
        },
        {
          "output_type": "display_data",
          "data": {
            "image/png": "[encoded data removed]",
            "text/plain": [
              "<Figure size 432x288 with 1 Axes>"
            ]
          },
          "metadata": {
            "tags": [],
            "needs_background": "light"
          }
        }
      ]
    },
    {
      "cell_type": "code",
      "metadata": {
        "id": "-9SsbOUJUuem",
        "colab": {
          "base_uri": "https://localhost:8080/",
          "height": 1000
        },
        "outputId": "6aa18b6f-1755-489f-ab28-9234c500e890"
      },
      "source": [
        "test5 = np.array([\n",
        "    [ 1.,  1.,  1., 1. , 1.],\n",
        "    [ 1.,  1.,  1., 0. ,  1.],\n",
        "    [ 1.,  3., 1. ,  0.,  1.],\n",
        "    [ 0., 0. ,  1.,  1.,  1.]\n",
        "])\n",
        "print(test5.shape)\n",
        "start_loc = rat_loc(test5)\n",
        "qmaze = Qmaze(test5, start_loc)\n",
        "show(qmaze)\n",
        "model = build_model(test5)\n",
        "qtrain(model, test5,start_loc, epochs=1000, max_memory=8*maze.size, data_size=32)"
      ],
      "execution_count": null,
      "outputs": [
        {
          "output_type": "stream",
          "text": [
            "(4, 5)\n",
            "Epoch: 000/49 | Loss: 120.3579 | Episodes: 21 | Win count: 1 | Win rate: 0.000 | time: 1.1 seconds\n",
            "Epoch: 001/49 | Loss: 15.3604 | Episodes: 81 | Win count: 1 | Win rate: 0.000 | time: 5.4 seconds\n",
            "Epoch: 002/49 | Loss: 0.5233 | Episodes: 81 | Win count: 1 | Win rate: 0.000 | time: 9.7 seconds\n",
            "Epoch: 003/49 | Loss: 1.7225 | Episodes: 27 | Win count: 1 | Win rate: 0.000 | time: 11.2 seconds\n",
            "Epoch: 004/49 | Loss: 3.3920 | Episodes: 11 | Win count: 1 | Win rate: 0.000 | time: 11.8 seconds\n",
            "Epoch: 005/49 | Loss: 3.2398 | Episodes: 13 | Win count: 2 | Win rate: 0.000 | time: 12.5 seconds\n",
            "Epoch: 006/49 | Loss: 11.1532 | Episodes: 42 | Win count: 2 | Win rate: 0.000 | time: 14.8 seconds\n",
            "Epoch: 007/49 | Loss: 7.2847 | Episodes: 24 | Win count: 3 | Win rate: 0.000 | time: 16.0 seconds\n",
            "Epoch: 008/49 | Loss: 0.7914 | Episodes: 81 | Win count: 3 | Win rate: 0.000 | time: 20.4 seconds\n",
            "Epoch: 009/49 | Loss: 1.3850 | Episodes: 45 | Win count: 3 | Win rate: 0.000 | time: 22.8 seconds\n",
            "Epoch: 010/49 | Loss: 0.4228 | Episodes: 27 | Win count: 3 | Win rate: 0.000 | time: 24.2 seconds\n",
            "Epoch: 011/49 | Loss: 2.3731 | Episodes: 34 | Win count: 3 | Win rate: 0.000 | time: 26.0 seconds\n",
            "Epoch: 012/49 | Loss: 2.3857 | Episodes: 27 | Win count: 4 | Win rate: 0.000 | time: 27.6 seconds\n",
            "Epoch: 013/49 | Loss: 21.0191 | Episodes: 17 | Win count: 5 | Win rate: 0.000 | time: 28.5 seconds\n",
            "Epoch: 014/49 | Loss: 31.2708 | Episodes: 25 | Win count: 6 | Win rate: 0.000 | time: 29.9 seconds\n",
            "Epoch: 015/49 | Loss: 5.1220 | Episodes: 81 | Win count: 6 | Win rate: 0.000 | time: 34.2 seconds\n",
            "Epoch: 016/49 | Loss: 7.3637 | Episodes: 20 | Win count: 7 | Win rate: 0.600 | time: 35.3 seconds\n",
            "Epoch: 017/49 | Loss: 0.5939 | Episodes: 81 | Win count: 7 | Win rate: 0.600 | time: 39.6 seconds\n",
            "Epoch: 018/49 | Loss: 5.4067 | Episodes: 26 | Win count: 8 | Win rate: 0.700 | time: 41.0 seconds\n",
            "Epoch: 019/49 | Loss: 3.3414 | Episodes: 23 | Win count: 9 | Win rate: 0.700 | time: 42.3 seconds\n",
            "Epoch: 020/49 | Loss: 31.3740 | Episodes: 20 | Win count: 10 | Win rate: 0.700 | time: 43.3 seconds\n",
            "Epoch: 021/49 | Loss: 5.5364 | Episodes: 24 | Win count: 11 | Win rate: 0.800 | time: 44.6 seconds\n",
            "Epoch: 022/49 | Loss: 6.3146 | Episodes: 42 | Win count: 12 | Win rate: 0.800 | time: 46.9 seconds\n",
            "Epoch: 023/49 | Loss: 7.7907 | Episodes: 19 | Win count: 13 | Win rate: 0.800 | time: 47.9 seconds\n",
            "Epoch: 024/49 | Loss: 8.9231 | Episodes: 34 | Win count: 14 | Win rate: 0.800 | time: 49.7 seconds\n",
            "Epoch: 025/49 | Loss: 4.0935 | Episodes: 12 | Win count: 14 | Win rate: 0.800 | time: 50.3 seconds\n",
            "Epoch: 026/49 | Loss: 2.0696 | Episodes: 81 | Win count: 14 | Win rate: 0.800 | time: 54.7 seconds\n",
            "Epoch: 027/49 | Loss: 4.5900 | Episodes: 20 | Win count: 14 | Win rate: 0.800 | time: 55.8 seconds\n",
            "Epoch: 028/49 | Loss: 0.7953 | Episodes: 81 | Win count: 14 | Win rate: 0.700 | time: 60.0 seconds\n",
            "Epoch: 029/49 | Loss: 0.0893 | Episodes: 81 | Win count: 14 | Win rate: 0.700 | time: 64.4 seconds\n",
            "Epoch: 030/49 | Loss: 0.9109 | Episodes: 27 | Win count: 15 | Win rate: 0.700 | time: 65.8 seconds\n",
            "Epoch: 031/49 | Loss: 3.8271 | Episodes: 81 | Win count: 15 | Win rate: 0.600 | time: 70.2 seconds\n",
            "Epoch: 032/49 | Loss: 0.3407 | Episodes: 81 | Win count: 15 | Win rate: 0.500 | time: 74.5 seconds\n",
            "Epoch: 033/49 | Loss: 0.0719 | Episodes: 81 | Win count: 15 | Win rate: 0.400 | time: 78.9 seconds\n",
            "Epoch: 034/49 | Loss: 22.8761 | Episodes: 27 | Win count: 16 | Win rate: 0.400 | time: 80.3 seconds\n",
            "Epoch: 035/49 | Loss: 2.9357 | Episodes: 21 | Win count: 16 | Win rate: 0.400 | time: 81.5 seconds\n",
            "Epoch: 036/49 | Loss: 43.7597 | Episodes: 81 | Win count: 16 | Win rate: 0.300 | time: 85.8 seconds\n",
            "Epoch: 037/49 | Loss: 23.6766 | Episodes: 28 | Win count: 17 | Win rate: 0.300 | time: 87.3 seconds\n",
            "Epoch: 038/49 | Loss: 2.7996 | Episodes: 81 | Win count: 17 | Win rate: 0.300 | time: 91.6 seconds\n",
            "Epoch: 039/49 | Loss: 9.6596 | Episodes: 16 | Win count: 18 | Win rate: 0.400 | time: 92.5 seconds\n",
            "Epoch: 040/49 | Loss: 1.2871 | Episodes: 26 | Win count: 18 | Win rate: 0.400 | time: 94.1 seconds\n",
            "Epoch: 041/49 | Loss: 6.7393 | Episodes: 35 | Win count: 19 | Win rate: 0.500 | time: 96.2 seconds\n",
            "Epoch: 042/49 | Loss: 12.6859 | Episodes: 20 | Win count: 20 | Win rate: 0.500 | time: 97.4 seconds\n",
            "Epoch: 043/49 | Loss: 6.7887 | Episodes: 26 | Win count: 21 | Win rate: 0.600 | time: 99.0 seconds\n",
            "Epoch: 044/49 | Loss: 2.8671 | Episodes: 21 | Win count: 21 | Win rate: 0.600 | time: 100.2 seconds\n",
            "Epoch: 045/49 | Loss: 3.3487 | Episodes: 10 | Win count: 21 | Win rate: 0.600 | time: 100.9 seconds\n",
            "Epoch: 046/49 | Loss: 20.8814 | Episodes: 50 | Win count: 22 | Win rate: 0.700 | time: 103.8 seconds\n",
            "Epoch: 047/49 | Loss: 4.7009 | Episodes: 24 | Win count: 23 | Win rate: 0.800 | time: 105.1 seconds\n",
            "Epoch: 048/49 | Loss: 9.1569 | Episodes: 7 | Win count: 24 | Win rate: 0.800 | time: 105.4 seconds\n",
            "Epoch: 049/49 | Loss: 6.6757 | Episodes: 45 | Win count: 25 | Win rate: 0.900 | time: 107.9 seconds\n",
            "files: model.h5, model.json\n",
            "n_epoch: 49, max_mem: 128, data: 32, time: 107.9 seconds\n"
          ],
          "name": "stdout"
        },
        {
          "output_type": "execute_result",
          "data": {
            "text/plain": [
              "107.872266"
            ]
          },
          "metadata": {
            "tags": []
          },
          "execution_count": 29
        },
        {
          "output_type": "display_data",
          "data": {
            "image/png": "[encoded data removed]",
            "text/plain": [
              "<Figure size 432x288 with 1 Axes>"
            ]
          },
          "metadata": {
            "tags": [],
            "needs_background": "light"
          }
        }
      ]
    },
    {
      "cell_type": "code",
      "metadata": {
        "id": "zJZSPp-eVkbQ",
        "colab": {
          "base_uri": "https://localhost:8080/",
          "height": 1000
        },
        "outputId": "6896d77c-ea31-4919-fbbe-56d23cef4c3f"
      },
      "source": [
        "test6 = np.array([\n",
        "    [ 0., 0. ,  0.,  1.,  1.],\n",
        "    [ 1.,  1.,  1.,  1. , 1.],\n",
        "    [ 1.,  0.,  0., 0. , 1.],\n",
        "    [ 3. , 1.,  1.,  1.,  1.],\n",
        "    [1. , 1. , 0. , 0. , 0.]\n",
        "])\n",
        "print(test6.shape)\n",
        "start_loc = rat_loc(test6)\n",
        "qmaze = Qmaze(test6, start_loc)\n",
        "show(qmaze)\n",
        "model = build_model(test6)\n",
        "qtrain(model, test6,start_loc, epochs=1000, max_memory=8*maze.size, data_size=32)"
      ],
      "execution_count": null,
      "outputs": [
        {
          "output_type": "stream",
          "text": [
            "(5, 5)\n",
            "Epoch: 000/49 | Loss: 132.8667 | Episodes: 19 | Win count: 1 | Win rate: 0.000 | time: 1.1 seconds\n",
            "Epoch: 001/49 | Loss: 12.2027 | Episodes: 32 | Win count: 1 | Win rate: 0.000 | time: 2.7 seconds\n",
            "Epoch: 002/49 | Loss: 8.4069 | Episodes: 21 | Win count: 2 | Win rate: 0.000 | time: 3.8 seconds\n",
            "Epoch: 003/49 | Loss: 14.6740 | Episodes: 16 | Win count: 2 | Win rate: 0.000 | time: 4.7 seconds\n",
            "Epoch: 004/49 | Loss: 17.0105 | Episodes: 38 | Win count: 3 | Win rate: 0.000 | time: 6.7 seconds\n",
            "Epoch: 005/49 | Loss: 2.9797 | Episodes: 38 | Win count: 4 | Win rate: 0.000 | time: 8.8 seconds\n",
            "Epoch: 006/49 | Loss: 2.8748 | Episodes: 28 | Win count: 4 | Win rate: 0.000 | time: 10.3 seconds\n",
            "Epoch: 007/49 | Loss: 0.6197 | Episodes: 101 | Win count: 4 | Win rate: 0.000 | time: 15.7 seconds\n",
            "Epoch: 008/49 | Loss: 5.6479 | Episodes: 25 | Win count: 5 | Win rate: 0.000 | time: 17.0 seconds\n",
            "Epoch: 009/49 | Loss: 6.9374 | Episodes: 5 | Win count: 5 | Win rate: 0.000 | time: 17.3 seconds\n",
            "Epoch: 010/49 | Loss: 7.6053 | Episodes: 101 | Win count: 5 | Win rate: 0.000 | time: 22.7 seconds\n",
            "Epoch: 011/49 | Loss: 11.3801 | Episodes: 24 | Win count: 6 | Win rate: 0.000 | time: 24.0 seconds\n",
            "Epoch: 012/49 | Loss: 29.2742 | Episodes: 12 | Win count: 6 | Win rate: 0.000 | time: 24.6 seconds\n",
            "Epoch: 013/49 | Loss: 1.2698 | Episodes: 101 | Win count: 6 | Win rate: 0.000 | time: 30.0 seconds\n",
            "Epoch: 014/49 | Loss: 2.5354 | Episodes: 13 | Win count: 6 | Win rate: 0.000 | time: 30.7 seconds\n",
            "Epoch: 015/49 | Loss: 0.4234 | Episodes: 10 | Win count: 6 | Win rate: 0.000 | time: 31.3 seconds\n",
            "Epoch: 016/49 | Loss: 1.4914 | Episodes: 101 | Win count: 6 | Win rate: 0.000 | time: 36.7 seconds\n",
            "Epoch: 017/49 | Loss: 0.6070 | Episodes: 48 | Win count: 7 | Win rate: 0.000 | time: 39.3 seconds\n",
            "Epoch: 018/49 | Loss: 1.8678 | Episodes: 21 | Win count: 7 | Win rate: 0.000 | time: 40.4 seconds\n",
            "Epoch: 019/49 | Loss: 3.9066 | Episodes: 101 | Win count: 7 | Win rate: 0.000 | time: 45.8 seconds\n",
            "Epoch: 020/49 | Loss: 0.0739 | Episodes: 101 | Win count: 7 | Win rate: 0.500 | time: 51.2 seconds\n",
            "Epoch: 021/49 | Loss: 0.1160 | Episodes: 101 | Win count: 7 | Win rate: 0.417 | time: 56.6 seconds\n",
            "Epoch: 022/49 | Loss: 8.2005 | Episodes: 4 | Win count: 7 | Win rate: 0.417 | time: 56.8 seconds\n",
            "Epoch: 023/49 | Loss: 0.6908 | Episodes: 14 | Win count: 7 | Win rate: 0.417 | time: 57.6 seconds\n",
            "Epoch: 024/49 | Loss: 190.6347 | Episodes: 101 | Win count: 7 | Win rate: 0.333 | time: 63.0 seconds\n",
            "Epoch: 025/49 | Loss: 1250.5010 | Episodes: 101 | Win count: 7 | Win rate: 0.250 | time: 68.4 seconds\n",
            "Epoch: 026/49 | Loss: 1182.5636 | Episodes: 14 | Win count: 7 | Win rate: 0.250 | time: 69.1 seconds\n",
            "Epoch: 027/49 | Loss: 1975.3015 | Episodes: 39 | Win count: 8 | Win rate: 0.333 | time: 71.2 seconds\n",
            "Epoch: 028/49 | Loss: 14181.4414 | Episodes: 19 | Win count: 9 | Win rate: 0.333 | time: 72.3 seconds\n",
            "Epoch: 029/49 | Loss: 2932.9897 | Episodes: 15 | Win count: 9 | Win rate: 0.333 | time: 73.1 seconds\n",
            "Epoch: 030/49 | Loss: 2116.5938 | Episodes: 36 | Win count: 10 | Win rate: 0.417 | time: 75.0 seconds\n",
            "Epoch: 031/49 | Loss: 846.9886 | Episodes: 20 | Win count: 10 | Win rate: 0.417 | time: 76.1 seconds\n",
            "Epoch: 032/49 | Loss: 279.6356 | Episodes: 101 | Win count: 10 | Win rate: 0.333 | time: 81.5 seconds\n",
            "Epoch: 033/49 | Loss: 1314.5393 | Episodes: 4 | Win count: 10 | Win rate: 0.333 | time: 81.7 seconds\n",
            "Epoch: 034/49 | Loss: 980.2667 | Episodes: 39 | Win count: 11 | Win rate: 0.417 | time: 83.8 seconds\n",
            "Epoch: 035/49 | Loss: 266.4371 | Episodes: 30 | Win count: 12 | Win rate: 0.500 | time: 85.4 seconds\n",
            "Epoch: 036/49 | Loss: 144.4759 | Episodes: 101 | Win count: 12 | Win rate: 0.417 | time: 90.8 seconds\n",
            "Epoch: 037/49 | Loss: 365.1509 | Episodes: 7 | Win count: 12 | Win rate: 0.417 | time: 91.2 seconds\n",
            "Epoch: 038/49 | Loss: 365.5162 | Episodes: 54 | Win count: 12 | Win rate: 0.417 | time: 94.1 seconds\n",
            "Epoch: 039/49 | Loss: 126.2531 | Episodes: 32 | Win count: 13 | Win rate: 0.500 | time: 95.8 seconds\n",
            "Epoch: 040/49 | Loss: 194.0503 | Episodes: 48 | Win count: 14 | Win rate: 0.583 | time: 98.4 seconds\n",
            "Epoch: 041/49 | Loss: 90.5728 | Episodes: 26 | Win count: 14 | Win rate: 0.583 | time: 99.8 seconds\n",
            "Epoch: 042/49 | Loss: 257.7628 | Episodes: 4 | Win count: 14 | Win rate: 0.583 | time: 100.0 seconds\n",
            "Epoch: 043/49 | Loss: 558.1858 | Episodes: 5 | Win count: 14 | Win rate: 0.583 | time: 100.3 seconds\n",
            "Epoch: 044/49 | Loss: 473.2888 | Episodes: 38 | Win count: 15 | Win rate: 0.667 | time: 102.3 seconds\n",
            "Epoch: 045/49 | Loss: 4.0928 | Episodes: 101 | Win count: 15 | Win rate: 0.667 | time: 107.7 seconds\n",
            "Epoch: 046/49 | Loss: 76.7691 | Episodes: 13 | Win count: 15 | Win rate: 0.667 | time: 108.4 seconds\n",
            "Epoch: 047/49 | Loss: 136.2386 | Episodes: 101 | Win count: 15 | Win rate: 0.667 | time: 113.8 seconds\n",
            "Epoch: 048/49 | Loss: 79.3777 | Episodes: 101 | Win count: 15 | Win rate: 0.583 | time: 119.1 seconds\n",
            "Epoch: 049/49 | Loss: 21.7790 | Episodes: 18 | Win count: 16 | Win rate: 0.583 | time: 120.1 seconds\n",
            "files: model.h5, model.json\n",
            "n_epoch: 49, max_mem: 128, data: 32, time: 120.1 seconds\n"
          ],
          "name": "stdout"
        },
        {
          "output_type": "execute_result",
          "data": {
            "text/plain": [
              "120.119495"
            ]
          },
          "metadata": {
            "tags": []
          },
          "execution_count": 30
        },
        {
          "output_type": "display_data",
          "data": {
            "image/png": "[encoded data removed]",
            "text/plain": [
              "<Figure size 432x288 with 1 Axes>"
            ]
          },
          "metadata": {
            "tags": [],
            "needs_background": "light"
          }
        }
      ]
    },
    {
      "cell_type": "code",
      "metadata": {
        "id": "FbOAo9T6WI7r",
        "colab": {
          "base_uri": "https://localhost:8080/",
          "height": 1000
        },
        "outputId": "1613d13d-efc2-4f72-b7dc-2ccd7dd0d0fc"
      },
      "source": [
        "test7 = np.array([\n",
        "    [ 1.,  1.,  0.,  0.],\n",
        "    [ 1.,  1.,  1.,  1.],\n",
        "    [ 1.,  0.,  1.,  1.],\n",
        "    [ 1.,  0.,  1.,  3.] ,\n",
        "    [1. , 1. , 1. , 1.]\n",
        "])\n",
        "print(test7.shape)\n",
        "start_loc = rat_loc(test7)\n",
        "qmaze = Qmaze(test7, start_loc)\n",
        "show(qmaze)\n",
        "model = build_model(test7)\n",
        "qtrain(model, test7,start_loc, epochs=1000, max_memory=8*maze.size, data_size=32)"
      ],
      "execution_count": null,
      "outputs": [
        {
          "output_type": "stream",
          "text": [
            "(5, 4)\n",
            "Epoch: 000/49 | Loss: 0.0172 | Episodes: 81 | Win count: 0 | Win rate: 0.000 | time: 4.4 seconds\n",
            "Epoch: 001/49 | Loss: 0.0179 | Episodes: 56 | Win count: 1 | Win rate: 0.000 | time: 7.4 seconds\n",
            "Epoch: 002/49 | Loss: 0.8376 | Episodes: 81 | Win count: 1 | Win rate: 0.000 | time: 11.8 seconds\n",
            "Epoch: 003/49 | Loss: 0.9794 | Episodes: 81 | Win count: 1 | Win rate: 0.000 | time: 16.3 seconds\n",
            "Epoch: 004/49 | Loss: 1.5006 | Episodes: 46 | Win count: 2 | Win rate: 0.000 | time: 18.8 seconds\n",
            "Epoch: 005/49 | Loss: 0.1051 | Episodes: 81 | Win count: 2 | Win rate: 0.000 | time: 23.2 seconds\n",
            "Epoch: 006/49 | Loss: 0.7136 | Episodes: 19 | Win count: 2 | Win rate: 0.000 | time: 24.3 seconds\n",
            "Epoch: 007/49 | Loss: 0.0350 | Episodes: 81 | Win count: 2 | Win rate: 0.000 | time: 28.7 seconds\n",
            "Epoch: 008/49 | Loss: 0.0639 | Episodes: 5 | Win count: 2 | Win rate: 0.000 | time: 29.0 seconds\n",
            "Epoch: 009/49 | Loss: 0.7214 | Episodes: 81 | Win count: 2 | Win rate: 0.000 | time: 33.4 seconds\n",
            "Epoch: 010/49 | Loss: 0.0220 | Episodes: 81 | Win count: 2 | Win rate: 0.000 | time: 37.9 seconds\n",
            "Epoch: 011/49 | Loss: 0.0808 | Episodes: 19 | Win count: 2 | Win rate: 0.000 | time: 38.9 seconds\n",
            "Epoch: 012/49 | Loss: 0.0876 | Episodes: 81 | Win count: 2 | Win rate: 0.000 | time: 43.3 seconds\n",
            "Epoch: 013/49 | Loss: 0.0341 | Episodes: 81 | Win count: 2 | Win rate: 0.200 | time: 47.7 seconds\n",
            "Epoch: 014/49 | Loss: 67.1127 | Episodes: 52 | Win count: 3 | Win rate: 0.200 | time: 50.6 seconds\n",
            "Epoch: 015/49 | Loss: 1.2085 | Episodes: 16 | Win count: 4 | Win rate: 0.300 | time: 51.4 seconds\n",
            "Epoch: 016/49 | Loss: 6.8643 | Episodes: 81 | Win count: 4 | Win rate: 0.300 | time: 55.8 seconds\n",
            "Epoch: 017/49 | Loss: 4.1868 | Episodes: 16 | Win count: 4 | Win rate: 0.300 | time: 56.7 seconds\n",
            "Epoch: 018/49 | Loss: 0.9568 | Episodes: 81 | Win count: 4 | Win rate: 0.200 | time: 61.1 seconds\n",
            "Epoch: 019/49 | Loss: 0.8223 | Episodes: 81 | Win count: 4 | Win rate: 0.200 | time: 65.6 seconds\n",
            "Epoch: 020/49 | Loss: 18.2007 | Episodes: 32 | Win count: 4 | Win rate: 0.200 | time: 67.3 seconds\n",
            "Epoch: 021/49 | Loss: 2.5241 | Episodes: 81 | Win count: 4 | Win rate: 0.200 | time: 71.8 seconds\n",
            "Epoch: 022/49 | Loss: 0.3910 | Episodes: 81 | Win count: 4 | Win rate: 0.200 | time: 76.2 seconds\n",
            "Epoch: 023/49 | Loss: 0.2740 | Episodes: 35 | Win count: 5 | Win rate: 0.300 | time: 78.1 seconds\n",
            "Epoch: 024/49 | Loss: 0.4555 | Episodes: 81 | Win count: 5 | Win rate: 0.300 | time: 82.5 seconds\n",
            "Epoch: 025/49 | Loss: 0.1827 | Episodes: 81 | Win count: 5 | Win rate: 0.300 | time: 87.0 seconds\n",
            "Epoch: 026/49 | Loss: 0.3375 | Episodes: 4 | Win count: 5 | Win rate: 0.300 | time: 87.2 seconds\n",
            "Epoch: 027/49 | Loss: 1.3888 | Episodes: 18 | Win count: 5 | Win rate: 0.300 | time: 88.2 seconds\n",
            "Epoch: 028/49 | Loss: 65.3942 | Episodes: 39 | Win count: 6 | Win rate: 0.300 | time: 90.4 seconds\n",
            "Epoch: 029/49 | Loss: 3.2290 | Episodes: 24 | Win count: 7 | Win rate: 0.300 | time: 91.7 seconds\n",
            "Epoch: 030/49 | Loss: 1.0064 | Episodes: 81 | Win count: 7 | Win rate: 0.300 | time: 96.5 seconds\n",
            "Epoch: 031/49 | Loss: 4.1763 | Episodes: 24 | Win count: 8 | Win rate: 0.400 | time: 98.0 seconds\n",
            "Epoch: 032/49 | Loss: 0.9726 | Episodes: 24 | Win count: 9 | Win rate: 0.500 | time: 99.5 seconds\n",
            "Epoch: 033/49 | Loss: 3.0085 | Episodes: 17 | Win count: 9 | Win rate: 0.500 | time: 100.6 seconds\n",
            "Epoch: 034/49 | Loss: 0.3290 | Episodes: 81 | Win count: 9 | Win rate: 0.500 | time: 105.1 seconds\n",
            "Epoch: 035/49 | Loss: 0.4755 | Episodes: 13 | Win count: 9 | Win rate: 0.500 | time: 105.8 seconds\n",
            "Epoch: 036/49 | Loss: 1.6531 | Episodes: 81 | Win count: 9 | Win rate: 0.500 | time: 110.2 seconds\n",
            "Epoch: 037/49 | Loss: 1.2121 | Episodes: 49 | Win count: 10 | Win rate: 0.500 | time: 112.9 seconds\n",
            "Epoch: 038/49 | Loss: 4.6743 | Episodes: 44 | Win count: 10 | Win rate: 0.500 | time: 115.3 seconds\n",
            "Epoch: 039/49 | Loss: 0.5628 | Episodes: 81 | Win count: 10 | Win rate: 0.500 | time: 119.7 seconds\n",
            "Epoch: 040/49 | Loss: 9.6314 | Episodes: 29 | Win count: 11 | Win rate: 0.600 | time: 121.3 seconds\n",
            "Epoch: 041/49 | Loss: 10.2633 | Episodes: 24 | Win count: 12 | Win rate: 0.600 | time: 122.6 seconds\n",
            "Epoch: 042/49 | Loss: 5.7228 | Episodes: 37 | Win count: 12 | Win rate: 0.600 | time: 124.7 seconds\n",
            "Epoch: 043/49 | Loss: 3.7185 | Episodes: 81 | Win count: 12 | Win rate: 0.500 | time: 129.1 seconds\n",
            "Epoch: 044/49 | Loss: 32.7352 | Episodes: 81 | Win count: 12 | Win rate: 0.500 | time: 133.5 seconds\n",
            "Epoch: 045/49 | Loss: 1.0840 | Episodes: 22 | Win count: 12 | Win rate: 0.500 | time: 134.7 seconds\n",
            "Epoch: 046/49 | Loss: 0.8547 | Episodes: 81 | Win count: 12 | Win rate: 0.400 | time: 139.3 seconds\n",
            "Epoch: 047/49 | Loss: 1.4101 | Episodes: 20 | Win count: 13 | Win rate: 0.400 | time: 140.5 seconds\n",
            "Epoch: 048/49 | Loss: 0.3961 | Episodes: 8 | Win count: 13 | Win rate: 0.400 | time: 141.0 seconds\n",
            "Epoch: 049/49 | Loss: 2.2106 | Episodes: 41 | Win count: 13 | Win rate: 0.400 | time: 143.3 seconds\n",
            "files: model.h5, model.json\n",
            "n_epoch: 49, max_mem: 128, data: 32, time: 143.4 seconds\n"
          ],
          "name": "stdout"
        },
        {
          "output_type": "execute_result",
          "data": {
            "text/plain": [
              "143.355654"
            ]
          },
          "metadata": {
            "tags": []
          },
          "execution_count": 31
        },
        {
          "output_type": "display_data",
          "data": {
            "image/png": "[encoded data removed]",
            "text/plain": [
              "<Figure size 432x288 with 1 Axes>"
            ]
          },
          "metadata": {
            "tags": [],
            "needs_background": "light"
          }
        }
      ]
    },
    {
      "cell_type": "code",
      "metadata": {
        "id": "WAiwThI3XP7x",
        "colab": {
          "base_uri": "https://localhost:8080/",
          "height": 1000
        },
        "outputId": "1ee65bac-6da6-4c31-e0cd-cdf288f4c21c"
      },
      "source": [
        "test8 = np.array([\n",
        "    [ 1., 1. ,  1.,  1.,  1.],\n",
        "    [ 1.,  3. , 1.,  1.,  1.],\n",
        "    [ 1.,  1.,  1., 1. ,  1.],\n",
        "    [ 0.,  1.,  0.,  1. , 1.],\n",
        "    [0. , 1. , 1. , 1. , 0.]\n",
        "])\n",
        "print(test8.shape)\n",
        "start_loc = rat_loc(test8)\n",
        "qmaze = Qmaze(test8, start_loc)\n",
        "show(qmaze)\n",
        "model = build_model(test8)\n",
        "qtrain(model, test8,start_loc, epochs=1000, max_memory=8*maze.size, data_size=32)"
      ],
      "execution_count": null,
      "outputs": [
        {
          "output_type": "stream",
          "text": [
            "(5, 5)\n",
            "Epoch: 000/49 | Loss: 0.0098 | Episodes: 101 | Win count: 0 | Win rate: 0.000 | time: 5.4 seconds\n",
            "Epoch: 001/49 | Loss: 0.5184 | Episodes: 36 | Win count: 0 | Win rate: 0.000 | time: 7.3 seconds\n",
            "Epoch: 002/49 | Loss: 0.0124 | Episodes: 101 | Win count: 0 | Win rate: 0.000 | time: 12.8 seconds\n",
            "Epoch: 003/49 | Loss: 0.0132 | Episodes: 101 | Win count: 0 | Win rate: 0.000 | time: 18.2 seconds\n",
            "Epoch: 004/49 | Loss: 0.0391 | Episodes: 22 | Win count: 0 | Win rate: 0.000 | time: 19.4 seconds\n",
            "Epoch: 005/49 | Loss: 0.0062 | Episodes: 101 | Win count: 0 | Win rate: 0.000 | time: 24.9 seconds\n",
            "Epoch: 006/49 | Loss: 0.8607 | Episodes: 6 | Win count: 0 | Win rate: 0.000 | time: 25.2 seconds\n",
            "Epoch: 007/49 | Loss: 0.6427 | Episodes: 31 | Win count: 0 | Win rate: 0.000 | time: 26.9 seconds\n",
            "Epoch: 008/49 | Loss: 0.0099 | Episodes: 23 | Win count: 1 | Win rate: 0.000 | time: 28.2 seconds\n",
            "Epoch: 009/49 | Loss: 0.1534 | Episodes: 13 | Win count: 1 | Win rate: 0.000 | time: 28.9 seconds\n",
            "Epoch: 010/49 | Loss: 4.8619 | Episodes: 16 | Win count: 1 | Win rate: 0.000 | time: 29.7 seconds\n",
            "Epoch: 011/49 | Loss: 14.2101 | Episodes: 14 | Win count: 1 | Win rate: 0.000 | time: 30.5 seconds\n",
            "Epoch: 012/49 | Loss: 0.0752 | Episodes: 101 | Win count: 1 | Win rate: 0.000 | time: 36.0 seconds\n",
            "Epoch: 013/49 | Loss: 4.9660 | Episodes: 11 | Win count: 1 | Win rate: 0.000 | time: 36.6 seconds\n",
            "Epoch: 014/49 | Loss: 2.0155 | Episodes: 13 | Win count: 1 | Win rate: 0.000 | time: 37.3 seconds\n",
            "Epoch: 015/49 | Loss: 1.7460 | Episodes: 11 | Win count: 1 | Win rate: 0.000 | time: 37.9 seconds\n",
            "Epoch: 016/49 | Loss: 0.4904 | Episodes: 101 | Win count: 1 | Win rate: 0.000 | time: 43.3 seconds\n",
            "Epoch: 017/49 | Loss: 0.1133 | Episodes: 31 | Win count: 1 | Win rate: 0.000 | time: 45.0 seconds\n",
            "Epoch: 018/49 | Loss: 1.6954 | Episodes: 31 | Win count: 1 | Win rate: 0.000 | time: 46.7 seconds\n",
            "Epoch: 019/49 | Loss: 0.9329 | Episodes: 17 | Win count: 1 | Win rate: 0.000 | time: 47.6 seconds\n",
            "Epoch: 020/49 | Loss: 0.2231 | Episodes: 47 | Win count: 1 | Win rate: 0.000 | time: 50.1 seconds\n",
            "Epoch: 021/49 | Loss: 1.9843 | Episodes: 21 | Win count: 1 | Win rate: 0.000 | time: 51.3 seconds\n",
            "Epoch: 022/49 | Loss: 0.4574 | Episodes: 101 | Win count: 1 | Win rate: 0.000 | time: 56.7 seconds\n",
            "Epoch: 023/49 | Loss: 0.4691 | Episodes: 47 | Win count: 1 | Win rate: 0.000 | time: 59.2 seconds\n",
            "Epoch: 024/49 | Loss: 0.1308 | Episodes: 34 | Win count: 1 | Win rate: 0.000 | time: 61.1 seconds\n",
            "Epoch: 025/49 | Loss: 0.3225 | Episodes: 53 | Win count: 1 | Win rate: 0.000 | time: 64.0 seconds\n",
            "Epoch: 026/49 | Loss: 0.1549 | Episodes: 20 | Win count: 1 | Win rate: 0.000 | time: 65.0 seconds\n",
            "Epoch: 027/49 | Loss: 0.5516 | Episodes: 28 | Win count: 1 | Win rate: 0.000 | time: 66.6 seconds\n",
            "Epoch: 028/49 | Loss: 0.3757 | Episodes: 78 | Win count: 1 | Win rate: 0.000 | time: 70.8 seconds\n",
            "Epoch: 029/49 | Loss: 1.3375 | Episodes: 53 | Win count: 1 | Win rate: 0.000 | time: 73.6 seconds\n",
            "Epoch: 030/49 | Loss: 3.2500 | Episodes: 25 | Win count: 1 | Win rate: 0.000 | time: 75.0 seconds\n",
            "Epoch: 031/49 | Loss: 1.6349 | Episodes: 15 | Win count: 1 | Win rate: 0.000 | time: 75.8 seconds\n",
            "Epoch: 032/49 | Loss: 1.3400 | Episodes: 22 | Win count: 1 | Win rate: 0.000 | time: 77.0 seconds\n",
            "Epoch: 033/49 | Loss: 1.5186 | Episodes: 10 | Win count: 1 | Win rate: 0.000 | time: 77.5 seconds\n",
            "Epoch: 034/49 | Loss: 1.4091 | Episodes: 16 | Win count: 1 | Win rate: 0.000 | time: 78.4 seconds\n",
            "Epoch: 035/49 | Loss: 0.6698 | Episodes: 42 | Win count: 1 | Win rate: 0.000 | time: 80.7 seconds\n",
            "Epoch: 036/49 | Loss: 3.5017 | Episodes: 16 | Win count: 1 | Win rate: 0.000 | time: 81.5 seconds\n",
            "Epoch: 037/49 | Loss: 3.3391 | Episodes: 30 | Win count: 1 | Win rate: 0.000 | time: 83.1 seconds\n",
            "Epoch: 038/49 | Loss: 0.6751 | Episodes: 26 | Win count: 1 | Win rate: 0.000 | time: 84.5 seconds\n",
            "Epoch: 039/49 | Loss: 0.5555 | Episodes: 21 | Win count: 1 | Win rate: 0.000 | time: 85.7 seconds\n",
            "Epoch: 040/49 | Loss: 0.4446 | Episodes: 35 | Win count: 1 | Win rate: 0.000 | time: 87.6 seconds\n",
            "Epoch: 041/49 | Loss: 2.7167 | Episodes: 13 | Win count: 1 | Win rate: 0.000 | time: 88.3 seconds\n",
            "Epoch: 042/49 | Loss: 1.3255 | Episodes: 16 | Win count: 1 | Win rate: 0.000 | time: 89.1 seconds\n",
            "Epoch: 043/49 | Loss: 0.0576 | Episodes: 101 | Win count: 1 | Win rate: 0.000 | time: 94.6 seconds\n",
            "Epoch: 044/49 | Loss: 0.0348 | Episodes: 101 | Win count: 1 | Win rate: 0.000 | time: 100.0 seconds\n",
            "Epoch: 045/49 | Loss: 0.1194 | Episodes: 101 | Win count: 1 | Win rate: 0.000 | time: 105.4 seconds\n",
            "Epoch: 046/49 | Loss: 0.9225 | Episodes: 51 | Win count: 1 | Win rate: 0.000 | time: 108.2 seconds\n",
            "Epoch: 047/49 | Loss: 0.6938 | Episodes: 11 | Win count: 1 | Win rate: 0.000 | time: 108.8 seconds\n",
            "Epoch: 048/49 | Loss: 0.1637 | Episodes: 28 | Win count: 1 | Win rate: 0.000 | time: 110.3 seconds\n",
            "Epoch: 049/49 | Loss: 0.4628 | Episodes: 28 | Win count: 1 | Win rate: 0.000 | time: 111.8 seconds\n",
            "files: model.h5, model.json\n",
            "n_epoch: 49, max_mem: 128, data: 32, time: 111.8 seconds\n"
          ],
          "name": "stdout"
        },
        {
          "output_type": "execute_result",
          "data": {
            "text/plain": [
              "111.804546"
            ]
          },
          "metadata": {
            "tags": []
          },
          "execution_count": 32
        },
        {
          "output_type": "display_data",
          "data": {
            "image/png": "[encoded data removed]",
            "text/plain": [
              "<Figure size 432x288 with 1 Axes>"
            ]
          },
          "metadata": {
            "tags": [],
            "needs_background": "light"
          }
        }
      ]
    },
    {
      "cell_type": "code",
      "metadata": {
        "id": "6abPz2JyYcLo",
        "colab": {
          "base_uri": "https://localhost:8080/",
          "height": 1000
        },
        "outputId": "716813e9-f3e5-48cb-d6d0-466c8e8f1c30"
      },
      "source": [
        "test9 = np.array([\n",
        "    [ 1., 1.,  1.,  1.,  1. , 0.],\n",
        "    [ 1.,  0., 0.,  1.,  1. , 0.],\n",
        "    [ 1.,  1.,  1., 3. , 1. ,  1.],\n",
        "    [ 0. , 0. , 1.,  1.,  0.,  1.],\n",
        "    [0. ,0. , 0. , 1. , 1. , 1.]\n",
        "])\n",
        "print(test9.shape)\n",
        "start_loc = rat_loc(test9)\n",
        "qmaze = Qmaze(test9, start_loc)\n",
        "show(qmaze)\n",
        "model = build_model(test9)\n",
        "qtrain(model, test9,start_loc, epochs=1000, max_memory=8*maze.size, data_size=32)"
      ],
      "execution_count": null,
      "outputs": [
        {
          "output_type": "stream",
          "text": [
            "(5, 6)\n",
            "Epoch: 000/49 | Loss: 0.0330 | Episodes: 23 | Win count: 0 | Win rate: 0.000 | time: 1.4 seconds\n",
            "Epoch: 001/49 | Loss: 0.0259 | Episodes: 25 | Win count: 0 | Win rate: 0.000 | time: 2.7 seconds\n",
            "Epoch: 002/49 | Loss: 0.0147 | Episodes: 15 | Win count: 0 | Win rate: 0.000 | time: 3.5 seconds\n",
            "Epoch: 003/49 | Loss: 0.0131 | Episodes: 121 | Win count: 0 | Win rate: 0.000 | time: 9.9 seconds\n",
            "Epoch: 004/49 | Loss: 0.0082 | Episodes: 27 | Win count: 0 | Win rate: 0.000 | time: 11.4 seconds\n",
            "Epoch: 005/49 | Loss: 0.0158 | Episodes: 121 | Win count: 0 | Win rate: 0.000 | time: 17.9 seconds\n",
            "Epoch: 006/49 | Loss: 0.0058 | Episodes: 22 | Win count: 0 | Win rate: 0.000 | time: 19.0 seconds\n",
            "Epoch: 007/49 | Loss: 0.0434 | Episodes: 32 | Win count: 1 | Win rate: 0.000 | time: 20.7 seconds\n",
            "Epoch: 008/49 | Loss: 2.0038 | Episodes: 28 | Win count: 1 | Win rate: 0.000 | time: 22.2 seconds\n",
            "Epoch: 009/49 | Loss: 4.0313 | Episodes: 21 | Win count: 2 | Win rate: 0.000 | time: 23.3 seconds\n",
            "Epoch: 010/49 | Loss: 4.2589 | Episodes: 37 | Win count: 2 | Win rate: 0.000 | time: 25.3 seconds\n",
            "Epoch: 011/49 | Loss: 5.1165 | Episodes: 30 | Win count: 2 | Win rate: 0.000 | time: 26.9 seconds\n",
            "Epoch: 012/49 | Loss: 2.5918 | Episodes: 12 | Win count: 2 | Win rate: 0.000 | time: 27.6 seconds\n",
            "Epoch: 013/49 | Loss: 0.7497 | Episodes: 45 | Win count: 2 | Win rate: 0.000 | time: 30.0 seconds\n",
            "Epoch: 014/49 | Loss: 0.9025 | Episodes: 67 | Win count: 2 | Win rate: 0.000 | time: 33.9 seconds\n",
            "Epoch: 015/49 | Loss: 0.9164 | Episodes: 35 | Win count: 2 | Win rate: 0.000 | time: 36.0 seconds\n",
            "Epoch: 016/49 | Loss: 0.5442 | Episodes: 57 | Win count: 2 | Win rate: 0.000 | time: 39.0 seconds\n",
            "Epoch: 017/49 | Loss: 0.1257 | Episodes: 46 | Win count: 2 | Win rate: 0.000 | time: 41.4 seconds\n",
            "Epoch: 018/49 | Loss: 0.2623 | Episodes: 53 | Win count: 2 | Win rate: 0.000 | time: 44.2 seconds\n",
            "Epoch: 019/49 | Loss: 1.0403 | Episodes: 16 | Win count: 2 | Win rate: 0.000 | time: 45.1 seconds\n",
            "Epoch: 020/49 | Loss: 1.0655 | Episodes: 11 | Win count: 2 | Win rate: 0.000 | time: 45.7 seconds\n",
            "Epoch: 021/49 | Loss: 0.1311 | Episodes: 13 | Win count: 2 | Win rate: 0.000 | time: 46.4 seconds\n",
            "Epoch: 022/49 | Loss: 0.0759 | Episodes: 121 | Win count: 2 | Win rate: 0.000 | time: 52.9 seconds\n",
            "Epoch: 023/49 | Loss: 0.4029 | Episodes: 38 | Win count: 2 | Win rate: 0.000 | time: 54.9 seconds\n",
            "Epoch: 024/49 | Loss: 0.8725 | Episodes: 36 | Win count: 2 | Win rate: 0.000 | time: 56.8 seconds\n",
            "Epoch: 025/49 | Loss: 0.0810 | Episodes: 121 | Win count: 2 | Win rate: 0.000 | time: 63.2 seconds\n",
            "Epoch: 026/49 | Loss: 0.3659 | Episodes: 31 | Win count: 2 | Win rate: 0.000 | time: 64.9 seconds\n",
            "Epoch: 027/49 | Loss: 0.0158 | Episodes: 121 | Win count: 2 | Win rate: 0.000 | time: 71.3 seconds\n",
            "Epoch: 028/49 | Loss: 0.2212 | Episodes: 23 | Win count: 2 | Win rate: 0.000 | time: 72.6 seconds\n",
            "Epoch: 029/49 | Loss: 0.0928 | Episodes: 21 | Win count: 2 | Win rate: 0.000 | time: 73.7 seconds\n",
            "Epoch: 030/49 | Loss: 0.0208 | Episodes: 37 | Win count: 2 | Win rate: 0.000 | time: 75.7 seconds\n",
            "Epoch: 031/49 | Loss: 0.7442 | Episodes: 121 | Win count: 2 | Win rate: 0.000 | time: 82.1 seconds\n",
            "Epoch: 032/49 | Loss: 0.0035 | Episodes: 121 | Win count: 2 | Win rate: 0.000 | time: 88.5 seconds\n",
            "Epoch: 033/49 | Loss: 0.1200 | Episodes: 43 | Win count: 2 | Win rate: 0.000 | time: 90.8 seconds\n",
            "Epoch: 034/49 | Loss: 0.1564 | Episodes: 26 | Win count: 2 | Win rate: 0.000 | time: 92.2 seconds\n",
            "Epoch: 035/49 | Loss: 0.0348 | Episodes: 121 | Win count: 2 | Win rate: 0.000 | time: 98.7 seconds\n",
            "Epoch: 036/49 | Loss: 0.5447 | Episodes: 28 | Win count: 2 | Win rate: 0.000 | time: 100.2 seconds\n",
            "Epoch: 037/49 | Loss: 0.0052 | Episodes: 121 | Win count: 2 | Win rate: 0.000 | time: 106.6 seconds\n",
            "Epoch: 038/49 | Loss: 0.0065 | Episodes: 20 | Win count: 2 | Win rate: 0.000 | time: 107.7 seconds\n",
            "Epoch: 039/49 | Loss: 0.1791 | Episodes: 35 | Win count: 2 | Win rate: 0.000 | time: 109.5 seconds\n",
            "Epoch: 040/49 | Loss: 0.3622 | Episodes: 34 | Win count: 2 | Win rate: 0.000 | time: 111.3 seconds\n",
            "Epoch: 041/49 | Loss: 0.1219 | Episodes: 30 | Win count: 2 | Win rate: 0.000 | time: 113.0 seconds\n",
            "Epoch: 042/49 | Loss: 0.0170 | Episodes: 121 | Win count: 2 | Win rate: 0.000 | time: 119.4 seconds\n",
            "Epoch: 043/49 | Loss: 0.0080 | Episodes: 20 | Win count: 2 | Win rate: 0.000 | time: 120.4 seconds\n",
            "Epoch: 044/49 | Loss: 0.2872 | Episodes: 18 | Win count: 2 | Win rate: 0.000 | time: 121.4 seconds\n",
            "Epoch: 045/49 | Loss: 0.3534 | Episodes: 38 | Win count: 2 | Win rate: 0.000 | time: 123.4 seconds\n",
            "Epoch: 046/49 | Loss: 0.2101 | Episodes: 22 | Win count: 2 | Win rate: 0.000 | time: 124.6 seconds\n",
            "Epoch: 047/49 | Loss: 0.7928 | Episodes: 23 | Win count: 2 | Win rate: 0.000 | time: 125.9 seconds\n",
            "Epoch: 048/49 | Loss: 0.2152 | Episodes: 25 | Win count: 2 | Win rate: 0.000 | time: 127.2 seconds\n",
            "Epoch: 049/49 | Loss: 0.2512 | Episodes: 23 | Win count: 2 | Win rate: 0.000 | time: 128.4 seconds\n",
            "files: model.h5, model.json\n",
            "n_epoch: 49, max_mem: 128, data: 32, time: 128.4 seconds\n"
          ],
          "name": "stdout"
        },
        {
          "output_type": "execute_result",
          "data": {
            "text/plain": [
              "128.419019"
            ]
          },
          "metadata": {
            "tags": []
          },
          "execution_count": 33
        },
        {
          "output_type": "display_data",
          "data": {
            "image/png": "[encoded data removed]",
            "text/plain": [
              "<Figure size 432x288 with 1 Axes>"
            ]
          },
          "metadata": {
            "tags": [],
            "needs_background": "light"
          }
        }
      ]
    },
    {
      "cell_type": "code",
      "metadata": {
        "id": "V5MtKkTgZRYN",
        "colab": {
          "base_uri": "https://localhost:8080/",
          "height": 1000
        },
        "outputId": "2a02d5bc-29d5-4926-e024-608d16a8c4e9"
      },
      "source": [
        "test10 = np.array([\n",
        "    [ 0., 0.,  1.,  1.,  1. ],\n",
        "    [ 1.,  1., 1.,  0.,  1.],\n",
        "    [ 1.,  0.,  1., 1. ,  1.],\n",
        "    [ 1. , 0. , 1.,  3., 1.],\n",
        "    [1. ,1., 1. , 1. , 1.]\n",
        "])\n",
        "print(test10.shape)\n",
        "start_loc = rat_loc(test10)\n",
        "qmaze = Qmaze(test10, start_loc)\n",
        "show(qmaze)\n",
        "model = build_model(test10)\n",
        "qtrain(model, test10,start_loc, epochs=1000, max_memory=8*maze.size, data_size=32)"
      ],
      "execution_count": null,
      "outputs": [
        {
          "output_type": "stream",
          "text": [
            "(5, 5)\n",
            "Epoch: 000/49 | Loss: 0.0315 | Episodes: 14 | Win count: 0 | Win rate: 0.000 | time: 0.9 seconds\n",
            "Epoch: 001/49 | Loss: 79.1068 | Episodes: 29 | Win count: 1 | Win rate: 0.000 | time: 2.3 seconds\n",
            "Epoch: 002/49 | Loss: 9.4921 | Episodes: 35 | Win count: 2 | Win rate: 0.000 | time: 4.2 seconds\n",
            "Epoch: 003/49 | Loss: 0.9315 | Episodes: 101 | Win count: 2 | Win rate: 0.000 | time: 9.7 seconds\n",
            "Epoch: 004/49 | Loss: 2.5789 | Episodes: 26 | Win count: 2 | Win rate: 0.000 | time: 11.1 seconds\n",
            "Epoch: 005/49 | Loss: 18.3017 | Episodes: 42 | Win count: 3 | Win rate: 0.000 | time: 13.4 seconds\n",
            "Epoch: 006/49 | Loss: 1.6199 | Episodes: 101 | Win count: 3 | Win rate: 0.000 | time: 18.9 seconds\n",
            "Epoch: 007/49 | Loss: 0.6038 | Episodes: 23 | Win count: 3 | Win rate: 0.000 | time: 20.1 seconds\n",
            "Epoch: 008/49 | Loss: 1.5783 | Episodes: 36 | Win count: 4 | Win rate: 0.000 | time: 22.1 seconds\n",
            "Epoch: 009/49 | Loss: 52.5937 | Episodes: 37 | Win count: 5 | Win rate: 0.000 | time: 24.2 seconds\n",
            "Epoch: 010/49 | Loss: 4.7151 | Episodes: 40 | Win count: 5 | Win rate: 0.000 | time: 26.4 seconds\n",
            "Epoch: 011/49 | Loss: 1.1386 | Episodes: 101 | Win count: 5 | Win rate: 0.000 | time: 31.9 seconds\n",
            "Epoch: 012/49 | Loss: 7.2554 | Episodes: 101 | Win count: 5 | Win rate: 0.000 | time: 37.4 seconds\n",
            "Epoch: 013/49 | Loss: 1.5195 | Episodes: 37 | Win count: 5 | Win rate: 0.000 | time: 39.4 seconds\n",
            "Epoch: 014/49 | Loss: 0.4998 | Episodes: 20 | Win count: 5 | Win rate: 0.000 | time: 40.6 seconds\n",
            "Epoch: 015/49 | Loss: 0.8929 | Episodes: 18 | Win count: 5 | Win rate: 0.000 | time: 41.5 seconds\n",
            "Epoch: 016/49 | Loss: 1.3127 | Episodes: 10 | Win count: 5 | Win rate: 0.000 | time: 42.1 seconds\n",
            "Epoch: 017/49 | Loss: 3.7066 | Episodes: 101 | Win count: 5 | Win rate: 0.000 | time: 47.6 seconds\n",
            "Epoch: 018/49 | Loss: 6.4370 | Episodes: 17 | Win count: 5 | Win rate: 0.000 | time: 48.5 seconds\n",
            "Epoch: 019/49 | Loss: 0.8732 | Episodes: 11 | Win count: 5 | Win rate: 0.000 | time: 49.1 seconds\n",
            "Epoch: 020/49 | Loss: 0.0903 | Episodes: 101 | Win count: 5 | Win rate: 0.000 | time: 54.7 seconds\n",
            "Epoch: 021/49 | Loss: 0.0061 | Episodes: 101 | Win count: 5 | Win rate: 0.000 | time: 60.2 seconds\n",
            "Epoch: 022/49 | Loss: 0.0126 | Episodes: 101 | Win count: 5 | Win rate: 0.333 | time: 65.7 seconds\n",
            "Epoch: 023/49 | Loss: 0.4337 | Episodes: 31 | Win count: 6 | Win rate: 0.333 | time: 67.4 seconds\n",
            "Epoch: 024/49 | Loss: 38.2184 | Episodes: 21 | Win count: 7 | Win rate: 0.417 | time: 68.5 seconds\n",
            "Epoch: 025/49 | Loss: 1.7945 | Episodes: 25 | Win count: 7 | Win rate: 0.417 | time: 69.9 seconds\n",
            "Epoch: 026/49 | Loss: 5.0948 | Episodes: 30 | Win count: 8 | Win rate: 0.417 | time: 71.6 seconds\n",
            "Epoch: 027/49 | Loss: 3.0482 | Episodes: 21 | Win count: 8 | Win rate: 0.417 | time: 72.7 seconds\n",
            "Epoch: 028/49 | Loss: 3.5109 | Episodes: 11 | Win count: 8 | Win rate: 0.417 | time: 73.3 seconds\n",
            "Epoch: 029/49 | Loss: 1.3007 | Episodes: 30 | Win count: 8 | Win rate: 0.417 | time: 75.0 seconds\n",
            "Epoch: 030/49 | Loss: 1.7800 | Episodes: 14 | Win count: 8 | Win rate: 0.417 | time: 75.7 seconds\n",
            "Epoch: 031/49 | Loss: 3.4065 | Episodes: 37 | Win count: 8 | Win rate: 0.417 | time: 77.8 seconds\n",
            "Epoch: 032/49 | Loss: 3.7749 | Episodes: 6 | Win count: 8 | Win rate: 0.417 | time: 78.1 seconds\n",
            "Epoch: 033/49 | Loss: 4.2890 | Episodes: 13 | Win count: 9 | Win rate: 0.500 | time: 78.8 seconds\n",
            "Epoch: 034/49 | Loss: 1.6592 | Episodes: 30 | Win count: 10 | Win rate: 0.500 | time: 80.5 seconds\n",
            "Epoch: 035/49 | Loss: 10.9677 | Episodes: 18 | Win count: 10 | Win rate: 0.500 | time: 81.4 seconds\n",
            "Epoch: 036/49 | Loss: 7.8367 | Episodes: 101 | Win count: 10 | Win rate: 0.417 | time: 86.9 seconds\n",
            "Epoch: 037/49 | Loss: 1.0698 | Episodes: 101 | Win count: 10 | Win rate: 0.417 | time: 92.5 seconds\n",
            "Epoch: 038/49 | Loss: 0.6919 | Episodes: 29 | Win count: 11 | Win rate: 0.500 | time: 94.1 seconds\n",
            "Epoch: 039/49 | Loss: 0.7534 | Episodes: 17 | Win count: 11 | Win rate: 0.500 | time: 95.0 seconds\n",
            "Epoch: 040/49 | Loss: 2.2077 | Episodes: 47 | Win count: 11 | Win rate: 0.500 | time: 97.6 seconds\n",
            "Epoch: 041/49 | Loss: 5.1297 | Episodes: 10 | Win count: 11 | Win rate: 0.500 | time: 98.1 seconds\n",
            "Epoch: 042/49 | Loss: 2.5328 | Episodes: 17 | Win count: 11 | Win rate: 0.500 | time: 99.0 seconds\n",
            "Epoch: 043/49 | Loss: 0.3361 | Episodes: 101 | Win count: 11 | Win rate: 0.500 | time: 104.6 seconds\n",
            "Epoch: 044/49 | Loss: 0.4716 | Episodes: 22 | Win count: 11 | Win rate: 0.500 | time: 105.8 seconds\n",
            "Epoch: 045/49 | Loss: 0.5174 | Episodes: 24 | Win count: 11 | Win rate: 0.500 | time: 107.1 seconds\n",
            "Epoch: 046/49 | Loss: 1.0598 | Episodes: 14 | Win count: 11 | Win rate: 0.500 | time: 107.9 seconds\n",
            "Epoch: 047/49 | Loss: 0.7436 | Episodes: 32 | Win count: 11 | Win rate: 0.500 | time: 109.6 seconds\n",
            "Epoch: 048/49 | Loss: 0.6250 | Episodes: 47 | Win count: 12 | Win rate: 0.583 | time: 112.2 seconds\n",
            "Epoch: 049/49 | Loss: 0.4703 | Episodes: 101 | Win count: 12 | Win rate: 0.583 | time: 117.7 seconds\n",
            "files: model.h5, model.json\n",
            "n_epoch: 49, max_mem: 128, data: 32, time: 117.7 seconds\n"
          ],
          "name": "stdout"
        },
        {
          "output_type": "execute_result",
          "data": {
            "text/plain": [
              "117.690402"
            ]
          },
          "metadata": {
            "tags": []
          },
          "execution_count": 34
        },
        {
          "output_type": "display_data",
          "data": {
            "image/png": "[encoded data removed]",
            "text/plain": [
              "<Figure size 432x288 with 1 Axes>"
            ]
          },
          "metadata": {
            "tags": [],
            "needs_background": "light"
          }
        }
      ]
    },
    {
      "cell_type": "code",
      "metadata": {
        "id": "SjB1W0WVg-YO",
        "colab": {
          "base_uri": "https://localhost:8080/",
          "height": 1000
        },
        "outputId": "0c84943e-7dfd-425c-ea36-36e564ed046a"
      },
      "source": [
        "test6_1 = np.array([\n",
        "    [ 1.,  1.,  1., 1. , 1. , 0.],\n",
        "    [ 1.,  0.,  0., 0. ,  1. , 0.],\n",
        "    [ 1.,  1., 1. ,  1.,  1. , 1.],\n",
        "    [ 1., 1. ,  3.,  1., 0.,   1.] , \n",
        "    [1. ,0. , 1. , 1. , 1. ,1.] , \n",
        "    [1. , 1. ,1. ,0. ,0., 0. ]\n",
        "])\n",
        "\n",
        "print(test6_1.shape)\n",
        "start_loc = rat_loc(test6_1)\n",
        "qmaze = Qmaze(test6_1, start_loc)\n",
        "show(qmaze)\n",
        "model = build_model(test6_1)\n",
        "qtrain(model, test6_1,start_loc, epochs=1000, max_memory=8*maze.size, data_size=32)"
      ],
      "execution_count": null,
      "outputs": [
        {
          "output_type": "stream",
          "text": [
            "(6, 6)\n",
            "Epoch: 000/49 | Loss: 0.0031 | Episodes: 145 | Win count: 0 | Win rate: 0.000 | time: 7.9 seconds\n",
            "Epoch: 001/49 | Loss: 0.0187 | Episodes: 31 | Win count: 0 | Win rate: 0.000 | time: 9.5 seconds\n",
            "Epoch: 002/49 | Loss: 0.6000 | Episodes: 145 | Win count: 0 | Win rate: 0.000 | time: 17.4 seconds\n",
            "Epoch: 003/49 | Loss: 0.0092 | Episodes: 42 | Win count: 0 | Win rate: 0.000 | time: 19.7 seconds\n",
            "Epoch: 004/49 | Loss: 0.0097 | Episodes: 20 | Win count: 0 | Win rate: 0.000 | time: 20.8 seconds\n",
            "Epoch: 005/49 | Loss: 0.0227 | Episodes: 19 | Win count: 0 | Win rate: 0.000 | time: 21.9 seconds\n",
            "Epoch: 006/49 | Loss: 0.1443 | Episodes: 33 | Win count: 1 | Win rate: 0.000 | time: 23.7 seconds\n",
            "Epoch: 007/49 | Loss: 6.6901 | Episodes: 8 | Win count: 1 | Win rate: 0.000 | time: 24.1 seconds\n",
            "Epoch: 008/49 | Loss: 3.9485 | Episodes: 24 | Win count: 1 | Win rate: 0.000 | time: 25.4 seconds\n",
            "Epoch: 009/49 | Loss: 6.7268 | Episodes: 12 | Win count: 1 | Win rate: 0.000 | time: 26.1 seconds\n",
            "Epoch: 010/49 | Loss: 2.7250 | Episodes: 41 | Win count: 1 | Win rate: 0.000 | time: 28.3 seconds\n",
            "Epoch: 011/49 | Loss: 0.0370 | Episodes: 145 | Win count: 1 | Win rate: 0.000 | time: 36.2 seconds\n",
            "Epoch: 012/49 | Loss: 0.5027 | Episodes: 17 | Win count: 1 | Win rate: 0.000 | time: 37.1 seconds\n",
            "Epoch: 013/49 | Loss: 0.0218 | Episodes: 145 | Win count: 1 | Win rate: 0.000 | time: 45.0 seconds\n",
            "Epoch: 014/49 | Loss: 0.0197 | Episodes: 17 | Win count: 1 | Win rate: 0.000 | time: 45.9 seconds\n",
            "Epoch: 015/49 | Loss: 0.2554 | Episodes: 145 | Win count: 1 | Win rate: 0.000 | time: 53.8 seconds\n",
            "Epoch: 016/49 | Loss: 0.0879 | Episodes: 28 | Win count: 1 | Win rate: 0.000 | time: 55.3 seconds\n",
            "Epoch: 017/49 | Loss: 0.1813 | Episodes: 41 | Win count: 2 | Win rate: 0.000 | time: 57.6 seconds\n",
            "Epoch: 018/49 | Loss: 1.1820 | Episodes: 39 | Win count: 2 | Win rate: 0.000 | time: 59.7 seconds\n",
            "Epoch: 019/49 | Loss: 4.7250 | Episodes: 22 | Win count: 2 | Win rate: 0.000 | time: 61.0 seconds\n",
            "Epoch: 020/49 | Loss: 1.6150 | Episodes: 51 | Win count: 2 | Win rate: 0.000 | time: 63.8 seconds\n",
            "Epoch: 021/49 | Loss: 1.5107 | Episodes: 22 | Win count: 2 | Win rate: 0.000 | time: 65.0 seconds\n",
            "Epoch: 022/49 | Loss: 3.1812 | Episodes: 10 | Win count: 2 | Win rate: 0.000 | time: 65.5 seconds\n",
            "Epoch: 023/49 | Loss: 1.6715 | Episodes: 31 | Win count: 2 | Win rate: 0.000 | time: 67.2 seconds\n",
            "Epoch: 024/49 | Loss: 0.0919 | Episodes: 145 | Win count: 2 | Win rate: 0.000 | time: 75.1 seconds\n",
            "Epoch: 025/49 | Loss: 0.1843 | Episodes: 31 | Win count: 2 | Win rate: 0.000 | time: 76.8 seconds\n",
            "Epoch: 026/49 | Loss: 0.0201 | Episodes: 145 | Win count: 2 | Win rate: 0.000 | time: 84.8 seconds\n",
            "Epoch: 027/49 | Loss: 0.4891 | Episodes: 35 | Win count: 2 | Win rate: 0.000 | time: 86.7 seconds\n",
            "Epoch: 028/49 | Loss: 0.0275 | Episodes: 13 | Win count: 2 | Win rate: 0.000 | time: 87.4 seconds\n",
            "Epoch: 029/49 | Loss: 1.3153 | Episodes: 18 | Win count: 2 | Win rate: 0.000 | time: 88.4 seconds\n",
            "Epoch: 030/49 | Loss: 0.1216 | Episodes: 145 | Win count: 2 | Win rate: 0.000 | time: 96.4 seconds\n",
            "Epoch: 031/49 | Loss: 1.0058 | Episodes: 145 | Win count: 2 | Win rate: 0.000 | time: 104.3 seconds\n",
            "Epoch: 032/49 | Loss: 0.0281 | Episodes: 35 | Win count: 2 | Win rate: 0.000 | time: 106.2 seconds\n",
            "Epoch: 033/49 | Loss: 75.6551 | Episodes: 105 | Win count: 3 | Win rate: 0.000 | time: 111.9 seconds\n",
            "Epoch: 034/49 | Loss: 0.0129 | Episodes: 145 | Win count: 3 | Win rate: 0.000 | time: 120.1 seconds\n",
            "Epoch: 035/49 | Loss: 1.0237 | Episodes: 41 | Win count: 4 | Win rate: 0.000 | time: 122.6 seconds\n",
            "Epoch: 036/49 | Loss: 0.7636 | Episodes: 29 | Win count: 4 | Win rate: 0.000 | time: 124.4 seconds\n",
            "Epoch: 037/49 | Loss: 0.8239 | Episodes: 29 | Win count: 4 | Win rate: 0.000 | time: 126.1 seconds\n",
            "Epoch: 038/49 | Loss: 0.1140 | Episodes: 145 | Win count: 4 | Win rate: 0.000 | time: 134.2 seconds\n",
            "Epoch: 039/49 | Loss: 2.2071 | Episodes: 26 | Win count: 5 | Win rate: 0.000 | time: 135.6 seconds\n",
            "Epoch: 040/49 | Loss: 0.1187 | Episodes: 6 | Win count: 5 | Win rate: 0.000 | time: 135.9 seconds\n",
            "Epoch: 041/49 | Loss: 1.7942 | Episodes: 19 | Win count: 5 | Win rate: 0.000 | time: 137.0 seconds\n",
            "Epoch: 042/49 | Loss: 0.0625 | Episodes: 145 | Win count: 5 | Win rate: 0.000 | time: 144.9 seconds\n",
            "Epoch: 043/49 | Loss: 0.0719 | Episodes: 145 | Win count: 5 | Win rate: 0.000 | time: 153.4 seconds\n",
            "Epoch: 044/49 | Loss: 0.5285 | Episodes: 18 | Win count: 5 | Win rate: 0.000 | time: 154.4 seconds\n",
            "Epoch: 045/49 | Loss: 0.0591 | Episodes: 145 | Win count: 5 | Win rate: 0.278 | time: 162.3 seconds\n",
            "Epoch: 046/49 | Loss: 0.0011 | Episodes: 145 | Win count: 5 | Win rate: 0.278 | time: 170.2 seconds\n",
            "Epoch: 047/49 | Loss: 0.0000 | Episodes: 145 | Win count: 5 | Win rate: 0.222 | time: 178.1 seconds\n",
            "Epoch: 048/49 | Loss: 1.9128 | Episodes: 39 | Win count: 5 | Win rate: 0.222 | time: 180.2 seconds\n",
            "Epoch: 049/49 | Loss: 0.8848 | Episodes: 45 | Win count: 5 | Win rate: 0.222 | time: 182.7 seconds\n",
            "files: model.h5, model.json\n",
            "n_epoch: 49, max_mem: 128, data: 32, time: 182.7 seconds\n"
          ],
          "name": "stdout"
        },
        {
          "output_type": "execute_result",
          "data": {
            "text/plain": [
              "182.708981"
            ]
          },
          "metadata": {
            "tags": []
          },
          "execution_count": 35
        },
        {
          "output_type": "display_data",
          "data": {
            "image/png": "[encoded data removed]",
            "text/plain": [
              "<Figure size 432x288 with 1 Axes>"
            ]
          },
          "metadata": {
            "tags": [],
            "needs_background": "light"
          }
        }
      ]
    },
    {
      "cell_type": "code",
      "metadata": {
        "id": "mLpWEubNheBX",
        "colab": {
          "base_uri": "https://localhost:8080/",
          "height": 1000
        },
        "outputId": "fad58fdf-0bf6-421c-9f39-cc04560586d0"
      },
      "source": [
        "test6_2 = np.array([\n",
        "    [ 1.,  3.,  0., 0. , 0. , 0.],\n",
        "    [ 1.,  1.,  1., 1. ,  0. , 0.],\n",
        "    [ 0.,  1., 1. ,  1.,  0. , 0.],\n",
        "    [ 1., 1. ,  1.,  0., 0.,   0.] , \n",
        "    [1. ,0. , 1. , 0. , 0. ,0.] , \n",
        "    [1. , 1. ,1. ,0. ,0., 0. ]\n",
        "])\n",
        "\n",
        "print(test6_2.shape)\n",
        "start_loc = rat_loc(test6_2)\n",
        "qmaze = Qmaze(test6_2, start_loc)\n",
        "show(qmaze)\n",
        "model = build_model(test6_2)\n",
        "qtrain(model, test6_2,start_loc, epochs=1000, max_memory=8*maze.size, data_size=32)"
      ],
      "execution_count": null,
      "outputs": [
        {
          "output_type": "stream",
          "text": [
            "(6, 6)\n",
            "Epoch: 000/49 | Loss: 0.0261 | Episodes: 28 | Win count: 0 | Win rate: 0.000 | time: 1.5 seconds\n",
            "Epoch: 001/49 | Loss: 0.0178 | Episodes: 6 | Win count: 0 | Win rate: 0.000 | time: 1.9 seconds\n",
            "Epoch: 002/49 | Loss: 0.0089 | Episodes: 10 | Win count: 0 | Win rate: 0.000 | time: 2.4 seconds\n",
            "Epoch: 003/49 | Loss: 0.0110 | Episodes: 24 | Win count: 0 | Win rate: 0.000 | time: 3.8 seconds\n",
            "Epoch: 004/49 | Loss: 0.0053 | Episodes: 19 | Win count: 0 | Win rate: 0.000 | time: 4.8 seconds\n",
            "Epoch: 005/49 | Loss: 0.0138 | Episodes: 25 | Win count: 0 | Win rate: 0.000 | time: 6.2 seconds\n",
            "Epoch: 006/49 | Loss: 0.0122 | Episodes: 9 | Win count: 0 | Win rate: 0.000 | time: 6.8 seconds\n",
            "Epoch: 007/49 | Loss: 0.0095 | Episodes: 8 | Win count: 0 | Win rate: 0.000 | time: 7.2 seconds\n",
            "Epoch: 008/49 | Loss: 0.0148 | Episodes: 14 | Win count: 0 | Win rate: 0.000 | time: 8.0 seconds\n",
            "Epoch: 009/49 | Loss: 0.0133 | Episodes: 17 | Win count: 0 | Win rate: 0.000 | time: 9.0 seconds\n",
            "Epoch: 010/49 | Loss: 0.0506 | Episodes: 28 | Win count: 0 | Win rate: 0.000 | time: 10.5 seconds\n",
            "Epoch: 011/49 | Loss: 0.0381 | Episodes: 5 | Win count: 0 | Win rate: 0.000 | time: 10.8 seconds\n",
            "Epoch: 012/49 | Loss: 0.0131 | Episodes: 13 | Win count: 0 | Win rate: 0.000 | time: 11.5 seconds\n",
            "Epoch: 013/49 | Loss: 0.0089 | Episodes: 20 | Win count: 0 | Win rate: 0.000 | time: 12.7 seconds\n",
            "Epoch: 014/49 | Loss: 0.0098 | Episodes: 23 | Win count: 0 | Win rate: 0.000 | time: 14.0 seconds\n",
            "Epoch: 015/49 | Loss: 0.0210 | Episodes: 12 | Win count: 0 | Win rate: 0.000 | time: 14.6 seconds\n",
            "Epoch: 016/49 | Loss: 0.0055 | Episodes: 145 | Win count: 0 | Win rate: 0.000 | time: 22.9 seconds\n",
            "Epoch: 017/49 | Loss: 0.8349 | Episodes: 9 | Win count: 0 | Win rate: 0.000 | time: 23.4 seconds\n",
            "Epoch: 018/49 | Loss: 0.0064 | Episodes: 13 | Win count: 0 | Win rate: 0.000 | time: 24.1 seconds\n",
            "Epoch: 019/49 | Loss: 0.0047 | Episodes: 29 | Win count: 0 | Win rate: 0.000 | time: 25.7 seconds\n",
            "Epoch: 020/49 | Loss: 0.0290 | Episodes: 20 | Win count: 0 | Win rate: 0.000 | time: 26.8 seconds\n",
            "Epoch: 021/49 | Loss: 0.3848 | Episodes: 22 | Win count: 0 | Win rate: 0.000 | time: 28.1 seconds\n",
            "Epoch: 022/49 | Loss: 0.0155 | Episodes: 21 | Win count: 0 | Win rate: 0.000 | time: 29.3 seconds\n",
            "Epoch: 023/49 | Loss: 0.0177 | Episodes: 15 | Win count: 0 | Win rate: 0.000 | time: 30.1 seconds\n",
            "Epoch: 024/49 | Loss: 0.0187 | Episodes: 19 | Win count: 0 | Win rate: 0.000 | time: 31.2 seconds\n",
            "Epoch: 025/49 | Loss: 0.0255 | Episodes: 20 | Win count: 0 | Win rate: 0.000 | time: 32.3 seconds\n",
            "Epoch: 026/49 | Loss: 0.0873 | Episodes: 11 | Win count: 0 | Win rate: 0.000 | time: 32.9 seconds\n",
            "Epoch: 027/49 | Loss: 0.0076 | Episodes: 25 | Win count: 0 | Win rate: 0.000 | time: 34.3 seconds\n",
            "Epoch: 028/49 | Loss: 0.0103 | Episodes: 10 | Win count: 0 | Win rate: 0.000 | time: 34.9 seconds\n",
            "Epoch: 029/49 | Loss: 0.0310 | Episodes: 31 | Win count: 0 | Win rate: 0.000 | time: 36.6 seconds\n",
            "Epoch: 030/49 | Loss: 0.0221 | Episodes: 7 | Win count: 0 | Win rate: 0.000 | time: 37.0 seconds\n",
            "Epoch: 031/49 | Loss: 0.0182 | Episodes: 5 | Win count: 0 | Win rate: 0.000 | time: 37.3 seconds\n",
            "Epoch: 032/49 | Loss: 0.0171 | Episodes: 35 | Win count: 0 | Win rate: 0.000 | time: 39.3 seconds\n",
            "Epoch: 033/49 | Loss: 0.0005 | Episodes: 145 | Win count: 0 | Win rate: 0.000 | time: 47.3 seconds\n",
            "Epoch: 034/49 | Loss: 0.0084 | Episodes: 16 | Win count: 0 | Win rate: 0.000 | time: 48.2 seconds\n",
            "Epoch: 035/49 | Loss: 0.0009 | Episodes: 145 | Win count: 0 | Win rate: 0.000 | time: 56.4 seconds\n",
            "Epoch: 036/49 | Loss: 0.0135 | Episodes: 48 | Win count: 0 | Win rate: 0.000 | time: 59.0 seconds\n",
            "Epoch: 037/49 | Loss: 0.1500 | Episodes: 25 | Win count: 0 | Win rate: 0.000 | time: 60.4 seconds\n",
            "Epoch: 038/49 | Loss: 0.0447 | Episodes: 79 | Win count: 0 | Win rate: 0.000 | time: 64.9 seconds\n",
            "Epoch: 039/49 | Loss: 0.1244 | Episodes: 24 | Win count: 0 | Win rate: 0.000 | time: 66.2 seconds\n",
            "Epoch: 040/49 | Loss: 0.2055 | Episodes: 39 | Win count: 0 | Win rate: 0.000 | time: 68.4 seconds\n",
            "Epoch: 041/49 | Loss: 0.0493 | Episodes: 15 | Win count: 0 | Win rate: 0.000 | time: 69.3 seconds\n",
            "Epoch: 042/49 | Loss: 0.0275 | Episodes: 5 | Win count: 0 | Win rate: 0.000 | time: 69.6 seconds\n",
            "Epoch: 043/49 | Loss: 0.0274 | Episodes: 7 | Win count: 0 | Win rate: 0.000 | time: 70.0 seconds\n",
            "Epoch: 044/49 | Loss: 0.0132 | Episodes: 17 | Win count: 0 | Win rate: 0.000 | time: 70.9 seconds\n",
            "Epoch: 045/49 | Loss: 0.0299 | Episodes: 10 | Win count: 0 | Win rate: 0.000 | time: 71.5 seconds\n",
            "Epoch: 046/49 | Loss: 0.0219 | Episodes: 30 | Win count: 1 | Win rate: 0.000 | time: 73.2 seconds\n",
            "Epoch: 047/49 | Loss: 0.0166 | Episodes: 145 | Win count: 1 | Win rate: 0.000 | time: 81.4 seconds\n",
            "Epoch: 048/49 | Loss: 0.3082 | Episodes: 11 | Win count: 1 | Win rate: 0.000 | time: 82.0 seconds\n",
            "Epoch: 049/49 | Loss: 0.0117 | Episodes: 5 | Win count: 1 | Win rate: 0.000 | time: 82.3 seconds\n",
            "files: model.h5, model.json\n",
            "n_epoch: 49, max_mem: 128, data: 32, time: 82.3 seconds\n"
          ],
          "name": "stdout"
        },
        {
          "output_type": "execute_result",
          "data": {
            "text/plain": [
              "82.31282"
            ]
          },
          "metadata": {
            "tags": []
          },
          "execution_count": 36
        },
        {
          "output_type": "display_data",
          "data": {
            "image/png": "[encoded data removed]",
            "text/plain": [
              "<Figure size 432x288 with 1 Axes>"
            ]
          },
          "metadata": {
            "tags": [],
            "needs_background": "light"
          }
        }
      ]
    },
    {
      "cell_type": "code",
      "metadata": {
        "id": "kbXcPYf2iRRR",
        "colab": {
          "base_uri": "https://localhost:8080/",
          "height": 1000
        },
        "outputId": "79e7d968-513c-4500-b055-27c4a0ce9d94"
      },
      "source": [
        "test6_3 = np.array([\n",
        "    [ 3.,  1.,  0., 0. , 0. , 0.],\n",
        "    [ 0.,  1.,  1., 1. ,  0. , 0.],\n",
        "    [ 0.,  1., 1. , 1.,  1. , 1.],\n",
        "    [ 1.,  1. ,1.,  1., 1.,  1.] , \n",
        "    [1.,   0. , 1. , 1. , 1. ,0.] , \n",
        "    [1. , 1. ,1. ,0. ,0., 0. ]\n",
        "])\n",
        "\n",
        "print(test6_3.shape)\n",
        "start_loc = rat_loc(test6_3)\n",
        "qmaze = Qmaze(test6_3, start_loc)\n",
        "show(qmaze)\n",
        "model = build_model(test6_3)\n",
        "qtrain(model, test6_3,start_loc, epochs=1000, max_memory=8*maze.size, data_size=32)"
      ],
      "execution_count": null,
      "outputs": [
        {
          "output_type": "stream",
          "text": [
            "(6, 6)\n",
            "Epoch: 000/49 | Loss: 1.0662 | Episodes: 145 | Win count: 0 | Win rate: 0.000 | time: 8.2 seconds\n",
            "Epoch: 001/49 | Loss: 0.7909 | Episodes: 18 | Win count: 0 | Win rate: 0.000 | time: 9.2 seconds\n",
            "Epoch: 002/49 | Loss: 0.9730 | Episodes: 145 | Win count: 0 | Win rate: 0.000 | time: 17.4 seconds\n",
            "Epoch: 003/49 | Loss: 0.9203 | Episodes: 7 | Win count: 0 | Win rate: 0.000 | time: 17.8 seconds\n",
            "Epoch: 004/49 | Loss: 0.8832 | Episodes: 5 | Win count: 0 | Win rate: 0.000 | time: 18.0 seconds\n",
            "Epoch: 005/49 | Loss: 0.0044 | Episodes: 145 | Win count: 0 | Win rate: 0.000 | time: 26.2 seconds\n",
            "Epoch: 006/49 | Loss: 0.8756 | Episodes: 11 | Win count: 0 | Win rate: 0.000 | time: 26.8 seconds\n",
            "Epoch: 007/49 | Loss: 0.0010 | Episodes: 145 | Win count: 0 | Win rate: 0.000 | time: 34.9 seconds\n",
            "Epoch: 008/49 | Loss: 0.0037 | Episodes: 13 | Win count: 0 | Win rate: 0.000 | time: 35.6 seconds\n",
            "Epoch: 009/49 | Loss: 0.0068 | Episodes: 19 | Win count: 0 | Win rate: 0.000 | time: 36.7 seconds\n",
            "Epoch: 010/49 | Loss: 0.7224 | Episodes: 16 | Win count: 0 | Win rate: 0.000 | time: 37.6 seconds\n",
            "Epoch: 011/49 | Loss: 0.0109 | Episodes: 15 | Win count: 0 | Win rate: 0.000 | time: 38.5 seconds\n",
            "Epoch: 012/49 | Loss: 0.0271 | Episodes: 27 | Win count: 0 | Win rate: 0.000 | time: 40.0 seconds\n",
            "Epoch: 013/49 | Loss: 0.0024 | Episodes: 145 | Win count: 0 | Win rate: 0.000 | time: 48.1 seconds\n",
            "Epoch: 014/49 | Loss: 0.0095 | Episodes: 21 | Win count: 0 | Win rate: 0.000 | time: 49.3 seconds\n",
            "Epoch: 015/49 | Loss: 0.0475 | Episodes: 17 | Win count: 0 | Win rate: 0.000 | time: 50.2 seconds\n",
            "Epoch: 016/49 | Loss: 0.0250 | Episodes: 20 | Win count: 0 | Win rate: 0.000 | time: 51.3 seconds\n",
            "Epoch: 017/49 | Loss: 0.0246 | Episodes: 11 | Win count: 0 | Win rate: 0.000 | time: 52.0 seconds\n",
            "Epoch: 018/49 | Loss: 0.0121 | Episodes: 13 | Win count: 0 | Win rate: 0.000 | time: 52.7 seconds\n",
            "Epoch: 019/49 | Loss: 0.0221 | Episodes: 35 | Win count: 0 | Win rate: 0.000 | time: 54.7 seconds\n",
            "Epoch: 020/49 | Loss: 0.0577 | Episodes: 11 | Win count: 0 | Win rate: 0.000 | time: 55.3 seconds\n",
            "Epoch: 021/49 | Loss: 1.0398 | Episodes: 145 | Win count: 0 | Win rate: 0.000 | time: 63.4 seconds\n",
            "Epoch: 022/49 | Loss: 0.0114 | Episodes: 28 | Win count: 0 | Win rate: 0.000 | time: 65.0 seconds\n",
            "Epoch: 023/49 | Loss: 0.0812 | Episodes: 16 | Win count: 0 | Win rate: 0.000 | time: 65.9 seconds\n",
            "Epoch: 024/49 | Loss: 0.0341 | Episodes: 16 | Win count: 0 | Win rate: 0.000 | time: 66.8 seconds\n",
            "Epoch: 025/49 | Loss: 0.0183 | Episodes: 28 | Win count: 0 | Win rate: 0.000 | time: 68.4 seconds\n",
            "Epoch: 026/49 | Loss: 0.0104 | Episodes: 18 | Win count: 0 | Win rate: 0.000 | time: 69.4 seconds\n",
            "Epoch: 027/49 | Loss: 0.0011 | Episodes: 145 | Win count: 0 | Win rate: 0.000 | time: 78.2 seconds\n",
            "Epoch: 028/49 | Loss: 0.0533 | Episodes: 29 | Win count: 0 | Win rate: 0.000 | time: 80.0 seconds\n",
            "Epoch: 029/49 | Loss: 0.0223 | Episodes: 17 | Win count: 0 | Win rate: 0.000 | time: 81.1 seconds\n",
            "Epoch: 030/49 | Loss: 0.0251 | Episodes: 18 | Win count: 0 | Win rate: 0.000 | time: 82.1 seconds\n",
            "Epoch: 031/49 | Loss: 0.0469 | Episodes: 27 | Win count: 0 | Win rate: 0.000 | time: 83.6 seconds\n",
            "Epoch: 032/49 | Loss: 0.0208 | Episodes: 10 | Win count: 0 | Win rate: 0.000 | time: 84.2 seconds\n",
            "Epoch: 033/49 | Loss: 0.0243 | Episodes: 3 | Win count: 0 | Win rate: 0.000 | time: 84.3 seconds\n",
            "Epoch: 034/49 | Loss: 0.0126 | Episodes: 39 | Win count: 0 | Win rate: 0.000 | time: 86.5 seconds\n",
            "Epoch: 035/49 | Loss: 0.0100 | Episodes: 33 | Win count: 0 | Win rate: 0.000 | time: 88.4 seconds\n",
            "Epoch: 036/49 | Loss: 0.0142 | Episodes: 11 | Win count: 0 | Win rate: 0.000 | time: 89.0 seconds\n",
            "Epoch: 037/49 | Loss: 0.0153 | Episodes: 20 | Win count: 0 | Win rate: 0.000 | time: 90.1 seconds\n",
            "Epoch: 038/49 | Loss: 0.0114 | Episodes: 41 | Win count: 0 | Win rate: 0.000 | time: 92.4 seconds\n",
            "Epoch: 039/49 | Loss: 0.0068 | Episodes: 22 | Win count: 0 | Win rate: 0.000 | time: 93.6 seconds\n",
            "Epoch: 040/49 | Loss: 0.0054 | Episodes: 13 | Win count: 0 | Win rate: 0.000 | time: 94.4 seconds\n",
            "Epoch: 041/49 | Loss: 1.0086 | Episodes: 145 | Win count: 0 | Win rate: 0.000 | time: 102.8 seconds\n",
            "Epoch: 042/49 | Loss: 0.0144 | Episodes: 13 | Win count: 0 | Win rate: 0.000 | time: 103.6 seconds\n",
            "Epoch: 043/49 | Loss: 1.1513 | Episodes: 145 | Win count: 0 | Win rate: 0.000 | time: 111.6 seconds\n",
            "Epoch: 044/49 | Loss: 0.0026 | Episodes: 21 | Win count: 0 | Win rate: 0.000 | time: 112.8 seconds\n",
            "Epoch: 045/49 | Loss: 0.0752 | Episodes: 24 | Win count: 0 | Win rate: 0.000 | time: 114.1 seconds\n",
            "Epoch: 046/49 | Loss: 0.1303 | Episodes: 36 | Win count: 0 | Win rate: 0.000 | time: 116.2 seconds\n",
            "Epoch: 047/49 | Loss: 0.2635 | Episodes: 15 | Win count: 0 | Win rate: 0.000 | time: 117.0 seconds\n",
            "Epoch: 048/49 | Loss: 0.3029 | Episodes: 30 | Win count: 0 | Win rate: 0.000 | time: 118.7 seconds\n",
            "Epoch: 049/49 | Loss: 0.1463 | Episodes: 12 | Win count: 0 | Win rate: 0.000 | time: 119.4 seconds\n",
            "files: model.h5, model.json\n",
            "n_epoch: 49, max_mem: 128, data: 32, time: 119.4 seconds\n"
          ],
          "name": "stdout"
        },
        {
          "output_type": "execute_result",
          "data": {
            "text/plain": [
              "119.399485"
            ]
          },
          "metadata": {
            "tags": []
          },
          "execution_count": 37
        },
        {
          "output_type": "display_data",
          "data": {
            "image/png": "[encoded data removed]",
            "text/plain": [
              "<Figure size 432x288 with 1 Axes>"
            ]
          },
          "metadata": {
            "tags": [],
            "needs_background": "light"
          }
        }
      ]
    },
    {
      "cell_type": "code",
      "metadata": {
        "id": "sq8pD-O_iqbN",
        "colab": {
          "base_uri": "https://localhost:8080/",
          "height": 1000
        },
        "outputId": "b93ca57e-3358-4c04-f1ce-dcbfaecbea09"
      },
      "source": [
        "test6_4 = np.array([\n",
        "    [ 1.,  0.,  0., 0. , 1. , 1.],\n",
        "    [ 1.,  0.,  1., 1. ,  1. , 1.],\n",
        "    [ 1.,  0., 1. ,  1.,  0. , 1.],\n",
        "    [ 1., 0. ,  0.,  1., 1.,   1.] , \n",
        "    [1. ,0. , 0. , 0. , 1. ,1.] , \n",
        "    [1. , 1. ,1. ,1. ,1., 3. ]\n",
        "])\n",
        "\n",
        "print(test6_4.shape)\n",
        "start_loc = rat_loc(test6_4)\n",
        "qmaze = Qmaze(test6_4, start_loc)\n",
        "show(qmaze)\n",
        "model = build_model(test6_4)\n",
        "qtrain(model, test6_4,start_loc, epochs=1000, max_memory=8*maze.size, data_size=32)"
      ],
      "execution_count": null,
      "outputs": [
        {
          "output_type": "stream",
          "text": [
            "(6, 6)\n",
            "Epoch: 000/49 | Loss: 0.0270 | Episodes: 18 | Win count: 0 | Win rate: 0.000 | time: 1.0 seconds\n",
            "Epoch: 001/49 | Loss: 0.0208 | Episodes: 9 | Win count: 0 | Win rate: 0.000 | time: 1.5 seconds\n",
            "Epoch: 002/49 | Loss: 0.0165 | Episodes: 1 | Win count: 0 | Win rate: 0.000 | time: 1.5 seconds\n",
            "Epoch: 003/49 | Loss: 0.0102 | Episodes: 35 | Win count: 0 | Win rate: 0.000 | time: 3.4 seconds\n",
            "Epoch: 004/49 | Loss: 0.0894 | Episodes: 30 | Win count: 0 | Win rate: 0.000 | time: 5.1 seconds\n",
            "Epoch: 005/49 | Loss: 0.0368 | Episodes: 5 | Win count: 0 | Win rate: 0.000 | time: 5.4 seconds\n",
            "Epoch: 006/49 | Loss: 0.0616 | Episodes: 41 | Win count: 0 | Win rate: 0.000 | time: 7.7 seconds\n",
            "Epoch: 007/49 | Loss: 0.0440 | Episodes: 2 | Win count: 0 | Win rate: 0.000 | time: 7.8 seconds\n",
            "Epoch: 008/49 | Loss: 0.0367 | Episodes: 18 | Win count: 0 | Win rate: 0.000 | time: 8.8 seconds\n",
            "Epoch: 009/49 | Loss: 0.0520 | Episodes: 23 | Win count: 0 | Win rate: 0.000 | time: 10.1 seconds\n",
            "Epoch: 010/49 | Loss: 0.0993 | Episodes: 5 | Win count: 0 | Win rate: 0.000 | time: 10.4 seconds\n",
            "Epoch: 011/49 | Loss: 0.0180 | Episodes: 51 | Win count: 0 | Win rate: 0.000 | time: 13.2 seconds\n",
            "Epoch: 012/49 | Loss: 0.1558 | Episodes: 8 | Win count: 0 | Win rate: 0.000 | time: 13.7 seconds\n",
            "Epoch: 013/49 | Loss: 0.1130 | Episodes: 10 | Win count: 0 | Win rate: 0.000 | time: 14.2 seconds\n",
            "Epoch: 014/49 | Loss: 0.1804 | Episodes: 20 | Win count: 0 | Win rate: 0.000 | time: 15.3 seconds\n",
            "Epoch: 015/49 | Loss: 0.0731 | Episodes: 29 | Win count: 0 | Win rate: 0.000 | time: 17.0 seconds\n",
            "Epoch: 016/49 | Loss: 0.0651 | Episodes: 3 | Win count: 0 | Win rate: 0.000 | time: 17.2 seconds\n",
            "Epoch: 017/49 | Loss: 0.0082 | Episodes: 145 | Win count: 0 | Win rate: 0.000 | time: 25.2 seconds\n",
            "Epoch: 018/49 | Loss: 0.0068 | Episodes: 145 | Win count: 0 | Win rate: 0.000 | time: 33.2 seconds\n",
            "Epoch: 019/49 | Loss: 0.0017 | Episodes: 145 | Win count: 0 | Win rate: 0.000 | time: 41.3 seconds\n",
            "Epoch: 020/49 | Loss: 0.0146 | Episodes: 55 | Win count: 1 | Win rate: 0.000 | time: 44.4 seconds\n",
            "Epoch: 021/49 | Loss: 0.6124 | Episodes: 1 | Win count: 1 | Win rate: 0.000 | time: 44.4 seconds\n",
            "Epoch: 022/49 | Loss: 31.3492 | Episodes: 12 | Win count: 1 | Win rate: 0.000 | time: 45.1 seconds\n",
            "Epoch: 023/49 | Loss: 5.5501 | Episodes: 25 | Win count: 1 | Win rate: 0.000 | time: 46.5 seconds\n",
            "Epoch: 024/49 | Loss: 4.0095 | Episodes: 3 | Win count: 1 | Win rate: 0.000 | time: 46.6 seconds\n",
            "Epoch: 025/49 | Loss: 2.1533 | Episodes: 28 | Win count: 1 | Win rate: 0.000 | time: 48.2 seconds\n",
            "Epoch: 026/49 | Loss: 0.8917 | Episodes: 70 | Win count: 1 | Win rate: 0.000 | time: 52.1 seconds\n",
            "Epoch: 027/49 | Loss: 1.4156 | Episodes: 16 | Win count: 1 | Win rate: 0.000 | time: 53.0 seconds\n",
            "Epoch: 028/49 | Loss: 0.6034 | Episodes: 145 | Win count: 1 | Win rate: 0.000 | time: 61.1 seconds\n",
            "Epoch: 029/49 | Loss: 0.0064 | Episodes: 1 | Win count: 1 | Win rate: 0.000 | time: 61.1 seconds\n",
            "Epoch: 030/49 | Loss: 0.2247 | Episodes: 3 | Win count: 1 | Win rate: 0.000 | time: 61.3 seconds\n",
            "Epoch: 031/49 | Loss: 0.7869 | Episodes: 4 | Win count: 1 | Win rate: 0.000 | time: 61.5 seconds\n",
            "Epoch: 032/49 | Loss: 0.4910 | Episodes: 37 | Win count: 1 | Win rate: 0.000 | time: 63.6 seconds\n",
            "Epoch: 033/49 | Loss: 0.0178 | Episodes: 145 | Win count: 1 | Win rate: 0.000 | time: 71.6 seconds\n",
            "Epoch: 034/49 | Loss: 0.5364 | Episodes: 37 | Win count: 2 | Win rate: 0.000 | time: 73.6 seconds\n",
            "Epoch: 035/49 | Loss: 2.0735 | Episodes: 7 | Win count: 2 | Win rate: 0.000 | time: 74.0 seconds\n",
            "Epoch: 036/49 | Loss: 1.5606 | Episodes: 25 | Win count: 3 | Win rate: 0.000 | time: 75.4 seconds\n",
            "Epoch: 037/49 | Loss: 2.5255 | Episodes: 11 | Win count: 3 | Win rate: 0.000 | time: 76.1 seconds\n",
            "Epoch: 038/49 | Loss: 0.6846 | Episodes: 62 | Win count: 3 | Win rate: 0.000 | time: 79.5 seconds\n",
            "Epoch: 039/49 | Loss: 0.7568 | Episodes: 44 | Win count: 3 | Win rate: 0.000 | time: 82.0 seconds\n",
            "Epoch: 040/49 | Loss: 1.3043 | Episodes: 32 | Win count: 3 | Win rate: 0.000 | time: 83.8 seconds\n",
            "Epoch: 041/49 | Loss: 0.4187 | Episodes: 9 | Win count: 3 | Win rate: 0.000 | time: 84.3 seconds\n",
            "Epoch: 042/49 | Loss: 0.0994 | Episodes: 145 | Win count: 3 | Win rate: 0.000 | time: 92.3 seconds\n",
            "Epoch: 043/49 | Loss: 0.3541 | Episodes: 50 | Win count: 3 | Win rate: 0.000 | time: 95.1 seconds\n",
            "Epoch: 044/49 | Loss: 0.6368 | Episodes: 43 | Win count: 3 | Win rate: 0.000 | time: 97.5 seconds\n",
            "Epoch: 045/49 | Loss: 0.1097 | Episodes: 8 | Win count: 3 | Win rate: 0.000 | time: 98.0 seconds\n",
            "Epoch: 046/49 | Loss: 0.4069 | Episodes: 18 | Win count: 3 | Win rate: 0.000 | time: 99.0 seconds\n",
            "Epoch: 047/49 | Loss: 0.9995 | Episodes: 6 | Win count: 3 | Win rate: 0.000 | time: 99.3 seconds\n",
            "Epoch: 048/49 | Loss: 0.0848 | Episodes: 57 | Win count: 3 | Win rate: 0.000 | time: 102.5 seconds\n",
            "Epoch: 049/49 | Loss: 0.3486 | Episodes: 31 | Win count: 3 | Win rate: 0.000 | time: 104.3 seconds\n",
            "files: model.h5, model.json\n",
            "n_epoch: 49, max_mem: 128, data: 32, time: 104.3 seconds\n"
          ],
          "name": "stdout"
        },
        {
          "output_type": "execute_result",
          "data": {
            "text/plain": [
              "104.282689"
            ]
          },
          "metadata": {
            "tags": []
          },
          "execution_count": 38
        },
        {
          "output_type": "display_data",
          "data": {
            "image/png": "[encoded data removed]",
            "text/plain": [
              "<Figure size 432x288 with 1 Axes>"
            ]
          },
          "metadata": {
            "tags": [],
            "needs_background": "light"
          }
        }
      ]
    },
    {
      "cell_type": "code",
      "metadata": {
        "id": "-F3L78F2juiZ",
        "colab": {
          "base_uri": "https://localhost:8080/",
          "height": 1000
        },
        "outputId": "654e1df4-116b-469e-bee3-ba9d28a7eb1f"
      },
      "source": [
        "test6_5 = np.array([\n",
        "    [ 3.,  1.,  1., 1. , 1. , 1.],\n",
        "    [ 0.,  1.,  1., 1. ,  1. , 1.],\n",
        "    [ 0.,  1., 0.,0.,  0. , 0.],\n",
        "    [ 1., 1., 1., 1., 1., 0.] , \n",
        "    [1. ,0. , 1. , 1. , 1. ,0.] , \n",
        "    [1. , 1. ,1. ,0. ,0., 0. ]\n",
        "])\n",
        "\n",
        "print(test6_5.shape)\n",
        "start_loc = rat_loc(test6_5)\n",
        "qmaze = Qmaze(test6_5, start_loc)\n",
        "show(qmaze)\n",
        "model = build_model(test6_5)\n",
        "qtrain(model, test6_5,start_loc, epochs=1000, max_memory=8*maze.size, data_size=32)"
      ],
      "execution_count": null,
      "outputs": [
        {
          "output_type": "stream",
          "text": [
            "(6, 6)\n",
            "Epoch: 000/49 | Loss: 0.0343 | Episodes: 31 | Win count: 0 | Win rate: 0.000 | time: 1.7 seconds\n",
            "Epoch: 001/49 | Loss: 0.0264 | Episodes: 11 | Win count: 0 | Win rate: 0.000 | time: 2.3 seconds\n",
            "Epoch: 002/49 | Loss: 0.0080 | Episodes: 145 | Win count: 0 | Win rate: 0.000 | time: 10.4 seconds\n",
            "Epoch: 003/49 | Loss: 1.1306 | Episodes: 145 | Win count: 0 | Win rate: 0.000 | time: 18.5 seconds\n",
            "Epoch: 004/49 | Loss: 0.0123 | Episodes: 145 | Win count: 0 | Win rate: 0.000 | time: 26.6 seconds\n",
            "Epoch: 005/49 | Loss: 0.0041 | Episodes: 17 | Win count: 0 | Win rate: 0.000 | time: 27.6 seconds\n",
            "Epoch: 006/49 | Loss: 0.8701 | Episodes: 1 | Win count: 0 | Win rate: 0.000 | time: 27.6 seconds\n",
            "Epoch: 007/49 | Loss: 0.0002 | Episodes: 145 | Win count: 0 | Win rate: 0.000 | time: 35.7 seconds\n",
            "Epoch: 008/49 | Loss: 0.0047 | Episodes: 145 | Win count: 0 | Win rate: 0.000 | time: 43.8 seconds\n",
            "Epoch: 009/49 | Loss: 0.7500 | Episodes: 29 | Win count: 0 | Win rate: 0.000 | time: 45.4 seconds\n",
            "Epoch: 010/49 | Loss: 0.6128 | Episodes: 45 | Win count: 0 | Win rate: 0.000 | time: 47.9 seconds\n",
            "Epoch: 011/49 | Loss: 0.3243 | Episodes: 2 | Win count: 0 | Win rate: 0.000 | time: 48.1 seconds\n",
            "Epoch: 012/49 | Loss: 0.1846 | Episodes: 14 | Win count: 0 | Win rate: 0.000 | time: 48.8 seconds\n",
            "Epoch: 013/49 | Loss: 0.5281 | Episodes: 145 | Win count: 0 | Win rate: 0.000 | time: 56.9 seconds\n",
            "Epoch: 014/49 | Loss: 0.0772 | Episodes: 17 | Win count: 0 | Win rate: 0.000 | time: 57.9 seconds\n",
            "Epoch: 015/49 | Loss: 0.0017 | Episodes: 145 | Win count: 0 | Win rate: 0.000 | time: 66.0 seconds\n",
            "Epoch: 016/49 | Loss: 0.0010 | Episodes: 145 | Win count: 0 | Win rate: 0.000 | time: 74.2 seconds\n",
            "Epoch: 017/49 | Loss: 0.5425 | Episodes: 59 | Win count: 0 | Win rate: 0.000 | time: 77.5 seconds\n",
            "Epoch: 018/49 | Loss: 0.0289 | Episodes: 16 | Win count: 0 | Win rate: 0.000 | time: 78.4 seconds\n",
            "Epoch: 019/49 | Loss: 0.0043 | Episodes: 145 | Win count: 0 | Win rate: 0.000 | time: 86.5 seconds\n",
            "Epoch: 020/49 | Loss: 0.0011 | Episodes: 145 | Win count: 0 | Win rate: 0.000 | time: 94.6 seconds\n",
            "Epoch: 021/49 | Loss: 0.8866 | Episodes: 23 | Win count: 0 | Win rate: 0.000 | time: 95.9 seconds\n",
            "Epoch: 022/49 | Loss: 0.0294 | Episodes: 36 | Win count: 0 | Win rate: 0.000 | time: 97.9 seconds\n",
            "Epoch: 023/49 | Loss: 1.0396 | Episodes: 145 | Win count: 0 | Win rate: 0.000 | time: 106.0 seconds\n",
            "Epoch: 024/49 | Loss: 0.8255 | Episodes: 9 | Win count: 0 | Win rate: 0.000 | time: 106.5 seconds\n",
            "Epoch: 025/49 | Loss: 0.0111 | Episodes: 145 | Win count: 0 | Win rate: 0.000 | time: 114.6 seconds\n",
            "Epoch: 026/49 | Loss: 0.0008 | Episodes: 145 | Win count: 0 | Win rate: 0.000 | time: 122.7 seconds\n",
            "Epoch: 027/49 | Loss: 0.0274 | Episodes: 2 | Win count: 0 | Win rate: 0.000 | time: 122.8 seconds\n",
            "Epoch: 028/49 | Loss: 0.8905 | Episodes: 9 | Win count: 0 | Win rate: 0.000 | time: 123.3 seconds\n",
            "Epoch: 029/49 | Loss: 0.0113 | Episodes: 11 | Win count: 0 | Win rate: 0.000 | time: 124.0 seconds\n",
            "Epoch: 030/49 | Loss: 0.0677 | Episodes: 34 | Win count: 0 | Win rate: 0.000 | time: 125.9 seconds\n",
            "Epoch: 031/49 | Loss: 0.0096 | Episodes: 145 | Win count: 0 | Win rate: 0.000 | time: 134.0 seconds\n",
            "Epoch: 032/49 | Loss: 0.0000 | Episodes: 145 | Win count: 0 | Win rate: 0.000 | time: 142.1 seconds\n",
            "Epoch: 033/49 | Loss: 1.8860 | Episodes: 1 | Win count: 0 | Win rate: 0.000 | time: 142.1 seconds\n",
            "Epoch: 034/49 | Loss: 0.7485 | Episodes: 145 | Win count: 0 | Win rate: 0.000 | time: 150.2 seconds\n",
            "Epoch: 035/49 | Loss: 0.0015 | Episodes: 145 | Win count: 0 | Win rate: 0.000 | time: 158.3 seconds\n",
            "Epoch: 036/49 | Loss: 0.0025 | Episodes: 145 | Win count: 0 | Win rate: 0.000 | time: 166.5 seconds\n",
            "Epoch: 037/49 | Loss: 0.4082 | Episodes: 12 | Win count: 0 | Win rate: 0.000 | time: 167.2 seconds\n",
            "Epoch: 038/49 | Loss: 0.0034 | Episodes: 12 | Win count: 0 | Win rate: 0.000 | time: 167.8 seconds\n",
            "Epoch: 039/49 | Loss: 0.0921 | Episodes: 22 | Win count: 0 | Win rate: 0.000 | time: 169.1 seconds\n",
            "Epoch: 040/49 | Loss: 0.0991 | Episodes: 10 | Win count: 0 | Win rate: 0.000 | time: 169.7 seconds\n",
            "Epoch: 041/49 | Loss: 0.1651 | Episodes: 53 | Win count: 0 | Win rate: 0.000 | time: 172.7 seconds\n",
            "Epoch: 042/49 | Loss: 0.0159 | Episodes: 145 | Win count: 0 | Win rate: 0.000 | time: 180.7 seconds\n",
            "Epoch: 043/49 | Loss: 0.0019 | Episodes: 145 | Win count: 0 | Win rate: 0.000 | time: 188.8 seconds\n",
            "Epoch: 044/49 | Loss: 0.1105 | Episodes: 145 | Win count: 0 | Win rate: 0.000 | time: 196.9 seconds\n",
            "Epoch: 045/49 | Loss: 0.8718 | Episodes: 145 | Win count: 0 | Win rate: 0.000 | time: 205.0 seconds\n",
            "Epoch: 046/49 | Loss: 0.0017 | Episodes: 145 | Win count: 0 | Win rate: 0.000 | time: 213.1 seconds\n",
            "Epoch: 047/49 | Loss: 0.0040 | Episodes: 145 | Win count: 0 | Win rate: 0.000 | time: 221.3 seconds\n",
            "Epoch: 048/49 | Loss: 1.0549 | Episodes: 145 | Win count: 0 | Win rate: 0.000 | time: 229.3 seconds\n",
            "Epoch: 049/49 | Loss: 0.7383 | Episodes: 32 | Win count: 0 | Win rate: 0.000 | time: 231.1 seconds\n",
            "files: model.h5, model.json\n",
            "n_epoch: 49, max_mem: 128, data: 32, time: 231.1 seconds\n"
          ],
          "name": "stdout"
        },
        {
          "output_type": "execute_result",
          "data": {
            "text/plain": [
              "231.141655"
            ]
          },
          "metadata": {
            "tags": []
          },
          "execution_count": 39
        },
        {
          "output_type": "display_data",
          "data": {
            "image/png": "[encoded data removed]",
            "text/plain": [
              "<Figure size 432x288 with 1 Axes>"
            ]
          },
          "metadata": {
            "tags": [],
            "needs_background": "light"
          }
        }
      ]
    },
    {
      "cell_type": "code",
      "metadata": {
        "id": "r_aFj62brnl5",
        "colab": {
          "base_uri": "https://localhost:8080/",
          "height": 1000
        },
        "outputId": "82ff4d49-34f6-46cc-d435-1c790803958d"
      },
      "source": [
        "#wrong\n",
        "test6_6 = np.array([\n",
        "    [ 0.,  1.,  1., 1. , 1. , 0.],\n",
        "    [ 0.,  1.,  0., 0. ,  1. , 0.],\n",
        "    [ 0.,  1., 1. ,  1.,  0. , 0.],\n",
        "    [ 0., 0. ,  1.,  1., 0.,   0.] , \n",
        "    [0. ,0. , 1. , 1. , 1. ,0.] , \n",
        "    [0. , 0. ,0. ,3. ,1., 0. ]\n",
        "])\n",
        "print(test6_6.shape)\n",
        "start_loc = rat_loc(test6_6)\n",
        "qmaze = Qmaze(test6_6, start_loc)\n",
        "show(qmaze)\n",
        "model = build_model(test6_6)\n",
        "qtrain(model, test6_6,start_loc, epochs=1000, max_memory=8*maze.size, data_size=32)"
      ],
      "execution_count": null,
      "outputs": [
        {
          "output_type": "stream",
          "text": [
            "(6, 6)\n",
            "Epoch: 000/49 | Loss: 0.0325 | Episodes: 3 | Win count: 0 | Win rate: 0.000 | time: 0.7 seconds\n",
            "Epoch: 001/49 | Loss: 0.0366 | Episodes: 7 | Win count: 0 | Win rate: 0.000 | time: 0.8 seconds\n",
            "Epoch: 002/49 | Loss: 0.0283 | Episodes: 18 | Win count: 0 | Win rate: 0.000 | time: 1.5 seconds\n",
            "Epoch: 003/49 | Loss: 0.0266 | Episodes: 13 | Win count: 0 | Win rate: 0.000 | time: 2.2 seconds\n",
            "Epoch: 004/49 | Loss: 0.0189 | Episodes: 13 | Win count: 0 | Win rate: 0.000 | time: 3.0 seconds\n",
            "Epoch: 005/49 | Loss: 0.0026 | Episodes: 145 | Win count: 0 | Win rate: 0.000 | time: 10.9 seconds\n",
            "Epoch: 006/49 | Loss: 0.0056 | Episodes: 5 | Win count: 0 | Win rate: 0.000 | time: 11.2 seconds\n",
            "Epoch: 007/49 | Loss: 0.0035 | Episodes: 27 | Win count: 0 | Win rate: 0.000 | time: 12.6 seconds\n",
            "Epoch: 008/49 | Loss: 0.0330 | Episodes: 55 | Win count: 0 | Win rate: 0.000 | time: 15.6 seconds\n",
            "Epoch: 009/49 | Loss: 0.1082 | Episodes: 36 | Win count: 0 | Win rate: 0.000 | time: 17.6 seconds\n",
            "Epoch: 010/49 | Loss: 0.0523 | Episodes: 3 | Win count: 0 | Win rate: 0.000 | time: 17.8 seconds\n",
            "Epoch: 011/49 | Loss: 0.0370 | Episodes: 22 | Win count: 0 | Win rate: 0.000 | time: 19.0 seconds\n",
            "Epoch: 012/49 | Loss: 0.0203 | Episodes: 20 | Win count: 0 | Win rate: 0.000 | time: 20.0 seconds\n",
            "Epoch: 013/49 | Loss: 0.0307 | Episodes: 14 | Win count: 0 | Win rate: 0.000 | time: 20.8 seconds\n",
            "Epoch: 014/49 | Loss: 0.1436 | Episodes: 17 | Win count: 0 | Win rate: 0.000 | time: 21.7 seconds\n",
            "Epoch: 015/49 | Loss: 0.1586 | Episodes: 2 | Win count: 0 | Win rate: 0.000 | time: 21.9 seconds\n",
            "Epoch: 016/49 | Loss: 0.0811 | Episodes: 2 | Win count: 0 | Win rate: 0.000 | time: 22.0 seconds\n",
            "Epoch: 017/49 | Loss: 0.0319 | Episodes: 15 | Win count: 0 | Win rate: 0.000 | time: 22.8 seconds\n",
            "Epoch: 018/49 | Loss: 0.0735 | Episodes: 13 | Win count: 0 | Win rate: 0.000 | time: 23.5 seconds\n",
            "Epoch: 019/49 | Loss: 0.0446 | Episodes: 16 | Win count: 0 | Win rate: 0.000 | time: 24.4 seconds\n",
            "Epoch: 020/49 | Loss: 0.0317 | Episodes: 20 | Win count: 0 | Win rate: 0.000 | time: 25.5 seconds\n",
            "Epoch: 021/49 | Loss: 0.0415 | Episodes: 16 | Win count: 0 | Win rate: 0.000 | time: 26.4 seconds\n",
            "Epoch: 022/49 | Loss: 0.0684 | Episodes: 18 | Win count: 0 | Win rate: 0.000 | time: 27.4 seconds\n",
            "Epoch: 023/49 | Loss: 0.0067 | Episodes: 2 | Win count: 0 | Win rate: 0.000 | time: 27.5 seconds\n",
            "Epoch: 024/49 | Loss: 0.1021 | Episodes: 10 | Win count: 0 | Win rate: 0.000 | time: 28.0 seconds\n",
            "Epoch: 025/49 | Loss: 0.1950 | Episodes: 10 | Win count: 0 | Win rate: 0.000 | time: 28.6 seconds\n",
            "Epoch: 026/49 | Loss: 0.0004 | Episodes: 145 | Win count: 0 | Win rate: 0.000 | time: 36.5 seconds\n",
            "Epoch: 027/49 | Loss: 0.1217 | Episodes: 10 | Win count: 0 | Win rate: 0.000 | time: 37.1 seconds\n",
            "Epoch: 028/49 | Loss: 0.0317 | Episodes: 6 | Win count: 0 | Win rate: 0.000 | time: 37.4 seconds\n",
            "Epoch: 029/49 | Loss: 0.0061 | Episodes: 30 | Win count: 0 | Win rate: 0.000 | time: 39.2 seconds\n",
            "Epoch: 030/49 | Loss: 0.0252 | Episodes: 12 | Win count: 0 | Win rate: 0.000 | time: 39.8 seconds\n",
            "Epoch: 031/49 | Loss: 0.0445 | Episodes: 25 | Win count: 0 | Win rate: 0.000 | time: 41.2 seconds\n",
            "Epoch: 032/49 | Loss: 0.0394 | Episodes: 9 | Win count: 0 | Win rate: 0.000 | time: 41.7 seconds\n",
            "Epoch: 033/49 | Loss: 0.0990 | Episodes: 4 | Win count: 0 | Win rate: 0.000 | time: 41.9 seconds\n",
            "Epoch: 034/49 | Loss: 0.2646 | Episodes: 15 | Win count: 0 | Win rate: 0.000 | time: 42.8 seconds\n",
            "Epoch: 035/49 | Loss: 0.1023 | Episodes: 24 | Win count: 0 | Win rate: 0.000 | time: 44.1 seconds\n",
            "Epoch: 036/49 | Loss: 0.0337 | Episodes: 7 | Win count: 0 | Win rate: 0.000 | time: 44.5 seconds\n",
            "Epoch: 037/49 | Loss: 0.0248 | Episodes: 7 | Win count: 0 | Win rate: 0.000 | time: 44.8 seconds\n",
            "Epoch: 038/49 | Loss: 0.0307 | Episodes: 39 | Win count: 0 | Win rate: 0.000 | time: 47.0 seconds\n",
            "Epoch: 039/49 | Loss: 0.0019 | Episodes: 145 | Win count: 0 | Win rate: 0.000 | time: 54.9 seconds\n",
            "Epoch: 040/49 | Loss: 0.0946 | Episodes: 16 | Win count: 0 | Win rate: 0.000 | time: 55.8 seconds\n",
            "Epoch: 041/49 | Loss: 0.5821 | Episodes: 26 | Win count: 0 | Win rate: 0.000 | time: 57.4 seconds\n",
            "Epoch: 042/49 | Loss: 0.0545 | Episodes: 19 | Win count: 0 | Win rate: 0.000 | time: 58.6 seconds\n",
            "Epoch: 043/49 | Loss: 0.0209 | Episodes: 23 | Win count: 0 | Win rate: 0.000 | time: 60.0 seconds\n",
            "Epoch: 044/49 | Loss: 0.0203 | Episodes: 6 | Win count: 0 | Win rate: 0.000 | time: 60.4 seconds\n",
            "Epoch: 045/49 | Loss: 0.0428 | Episodes: 31 | Win count: 0 | Win rate: 0.000 | time: 62.2 seconds\n",
            "Epoch: 046/49 | Loss: 0.0194 | Episodes: 17 | Win count: 0 | Win rate: 0.000 | time: 63.1 seconds\n",
            "Epoch: 047/49 | Loss: 0.0015 | Episodes: 145 | Win count: 0 | Win rate: 0.000 | time: 71.4 seconds\n",
            "Epoch: 048/49 | Loss: 1.0274 | Episodes: 15 | Win count: 0 | Win rate: 0.000 | time: 72.4 seconds\n",
            "Epoch: 049/49 | Loss: 0.9514 | Episodes: 12 | Win count: 0 | Win rate: 0.000 | time: 73.1 seconds\n",
            "files: model.h5, model.json\n",
            "n_epoch: 49, max_mem: 128, data: 32, time: 73.1 seconds\n"
          ],
          "name": "stdout"
        },
        {
          "output_type": "execute_result",
          "data": {
            "text/plain": [
              "73.121783"
            ]
          },
          "metadata": {
            "tags": []
          },
          "execution_count": 42
        },
        {
          "output_type": "display_data",
          "data": {
            "image/png": "[encoded data removed]",
            "text/plain": [
              "<Figure size 432x288 with 1 Axes>"
            ]
          },
          "metadata": {
            "tags": [],
            "needs_background": "light"
          }
        }
      ]
    },
    {
      "cell_type": "code",
      "metadata": {
        "id": "yaR2H4YXsRUV",
        "colab": {
          "base_uri": "https://localhost:8080/",
          "height": 1000
        },
        "outputId": "9d9823c9-8b4b-4a5b-8afa-3f400f0852cf"
      },
      "source": [
        "test6_7 = np.array([\n",
        "    [ 1.,  0.,  1., 1. , 1. , 0.],\n",
        "    [ 1.,  1.,  1., 0. ,  1. , 0.],\n",
        "    [ 1.,  1., 0. ,  0.,  1. , 0.],\n",
        "    [ 1., 1. ,  0.,  0., 1.,   1.] , \n",
        "    [1. ,1. , 0. , 0. , 0. ,1.] , \n",
        "    [1. , 1. ,0. ,0. ,3., 1. ]\n",
        "])\n",
        "print(test6_7.shape)\n",
        "start_loc = rat_loc(test6_7)\n",
        "qmaze = Qmaze(test6_7, start_loc)\n",
        "show(qmaze)\n",
        "model = build_model(test6_7)\n",
        "qtrain(model, test6_7,start_loc, epochs=1000, max_memory=8*maze.size, data_size=32)"
      ],
      "execution_count": null,
      "outputs": [
        {
          "output_type": "stream",
          "text": [
            "(6, 6)\n",
            "Epoch: 000/49 | Loss: 0.0411 | Episodes: 3 | Win count: 0 | Win rate: 0.000 | time: 1.0 seconds\n",
            "Epoch: 001/49 | Loss: 0.0330 | Episodes: 9 | Win count: 0 | Win rate: 0.000 | time: 1.6 seconds\n",
            "Epoch: 002/49 | Loss: 0.0308 | Episodes: 1 | Win count: 0 | Win rate: 0.000 | time: 1.6 seconds\n",
            "Epoch: 003/49 | Loss: 0.0270 | Episodes: 16 | Win count: 0 | Win rate: 0.000 | time: 2.5 seconds\n",
            "Epoch: 004/49 | Loss: 0.0138 | Episodes: 26 | Win count: 0 | Win rate: 0.000 | time: 4.4 seconds\n",
            "Epoch: 005/49 | Loss: 0.0151 | Episodes: 1 | Win count: 0 | Win rate: 0.000 | time: 4.4 seconds\n",
            "Epoch: 006/49 | Loss: 0.0220 | Episodes: 28 | Win count: 0 | Win rate: 0.000 | time: 6.0 seconds\n",
            "Epoch: 007/49 | Loss: 0.0185 | Episodes: 9 | Win count: 0 | Win rate: 0.000 | time: 6.5 seconds\n",
            "Epoch: 008/49 | Loss: 0.0259 | Episodes: 25 | Win count: 1 | Win rate: 0.000 | time: 7.9 seconds\n",
            "Epoch: 009/49 | Loss: 0.2865 | Episodes: 14 | Win count: 1 | Win rate: 0.000 | time: 8.7 seconds\n",
            "Epoch: 010/49 | Loss: 1.8222 | Episodes: 17 | Win count: 1 | Win rate: 0.000 | time: 9.6 seconds\n",
            "Epoch: 011/49 | Loss: 7.0585 | Episodes: 33 | Win count: 1 | Win rate: 0.000 | time: 11.5 seconds\n",
            "Epoch: 012/49 | Loss: 0.0968 | Episodes: 145 | Win count: 1 | Win rate: 0.000 | time: 19.5 seconds\n",
            "Epoch: 013/49 | Loss: 4.5755 | Episodes: 20 | Win count: 1 | Win rate: 0.000 | time: 20.7 seconds\n",
            "Epoch: 014/49 | Loss: 0.1569 | Episodes: 145 | Win count: 1 | Win rate: 0.000 | time: 28.8 seconds\n",
            "Epoch: 015/49 | Loss: 0.1601 | Episodes: 4 | Win count: 1 | Win rate: 0.000 | time: 29.0 seconds\n",
            "Epoch: 016/49 | Loss: 0.1680 | Episodes: 47 | Win count: 1 | Win rate: 0.000 | time: 31.6 seconds\n",
            "Epoch: 017/49 | Loss: 0.2163 | Episodes: 11 | Win count: 1 | Win rate: 0.000 | time: 32.3 seconds\n",
            "Epoch: 018/49 | Loss: 2.0887 | Episodes: 14 | Win count: 2 | Win rate: 0.000 | time: 33.0 seconds\n",
            "Epoch: 019/49 | Loss: 2.4863 | Episodes: 41 | Win count: 2 | Win rate: 0.000 | time: 35.3 seconds\n",
            "Epoch: 020/49 | Loss: 17.0467 | Episodes: 22 | Win count: 2 | Win rate: 0.000 | time: 36.6 seconds\n",
            "Epoch: 021/49 | Loss: 6.4211 | Episodes: 22 | Win count: 3 | Win rate: 0.000 | time: 37.8 seconds\n",
            "Epoch: 022/49 | Loss: 5.8246 | Episodes: 8 | Win count: 3 | Win rate: 0.000 | time: 38.3 seconds\n",
            "Epoch: 023/49 | Loss: 2.5627 | Episodes: 38 | Win count: 3 | Win rate: 0.000 | time: 40.4 seconds\n",
            "Epoch: 024/49 | Loss: 0.9304 | Episodes: 35 | Win count: 3 | Win rate: 0.000 | time: 42.3 seconds\n",
            "Epoch: 025/49 | Loss: 0.1156 | Episodes: 145 | Win count: 3 | Win rate: 0.000 | time: 50.5 seconds\n",
            "Epoch: 026/49 | Loss: 0.0774 | Episodes: 9 | Win count: 3 | Win rate: 0.000 | time: 51.0 seconds\n",
            "Epoch: 027/49 | Loss: 0.3701 | Episodes: 16 | Win count: 3 | Win rate: 0.000 | time: 51.9 seconds\n",
            "Epoch: 028/49 | Loss: 0.1448 | Episodes: 17 | Win count: 3 | Win rate: 0.000 | time: 52.8 seconds\n",
            "Epoch: 029/49 | Loss: 1.7070 | Episodes: 21 | Win count: 3 | Win rate: 0.000 | time: 54.0 seconds\n",
            "Epoch: 030/49 | Loss: 4.0012 | Episodes: 12 | Win count: 3 | Win rate: 0.000 | time: 54.7 seconds\n",
            "Epoch: 031/49 | Loss: 1.6473 | Episodes: 21 | Win count: 3 | Win rate: 0.000 | time: 55.9 seconds\n",
            "Epoch: 032/49 | Loss: 2.1439 | Episodes: 1 | Win count: 3 | Win rate: 0.000 | time: 56.0 seconds\n",
            "Epoch: 033/49 | Loss: 0.4299 | Episodes: 5 | Win count: 3 | Win rate: 0.000 | time: 56.2 seconds\n",
            "Epoch: 034/49 | Loss: 0.0064 | Episodes: 145 | Win count: 3 | Win rate: 0.000 | time: 64.3 seconds\n",
            "Epoch: 035/49 | Loss: 0.8081 | Episodes: 3 | Win count: 3 | Win rate: 0.000 | time: 64.5 seconds\n",
            "Epoch: 036/49 | Loss: 0.0066 | Episodes: 1 | Win count: 3 | Win rate: 0.000 | time: 64.6 seconds\n",
            "Epoch: 037/49 | Loss: 0.1001 | Episodes: 29 | Win count: 3 | Win rate: 0.000 | time: 66.2 seconds\n",
            "Epoch: 038/49 | Loss: 0.3816 | Episodes: 23 | Win count: 3 | Win rate: 0.000 | time: 67.5 seconds\n",
            "Epoch: 039/49 | Loss: 0.8822 | Episodes: 13 | Win count: 3 | Win rate: 0.000 | time: 68.3 seconds\n",
            "Epoch: 040/49 | Loss: 0.2849 | Episodes: 12 | Win count: 3 | Win rate: 0.000 | time: 69.0 seconds\n",
            "Epoch: 041/49 | Loss: 0.0003 | Episodes: 145 | Win count: 3 | Win rate: 0.000 | time: 77.1 seconds\n",
            "Epoch: 042/49 | Loss: 0.9199 | Episodes: 27 | Win count: 3 | Win rate: 0.000 | time: 78.6 seconds\n",
            "Epoch: 043/49 | Loss: 11.6210 | Episodes: 42 | Win count: 4 | Win rate: 0.000 | time: 80.9 seconds\n",
            "Epoch: 044/49 | Loss: 12.3410 | Episodes: 19 | Win count: 4 | Win rate: 0.000 | time: 82.0 seconds\n",
            "Epoch: 045/49 | Loss: 21.8429 | Episodes: 4 | Win count: 4 | Win rate: 0.000 | time: 82.3 seconds\n",
            "Epoch: 046/49 | Loss: 5.9629 | Episodes: 40 | Win count: 4 | Win rate: 0.000 | time: 84.5 seconds\n",
            "Epoch: 047/49 | Loss: 2.4549 | Episodes: 10 | Win count: 4 | Win rate: 0.000 | time: 85.1 seconds\n",
            "Epoch: 048/49 | Loss: 1.8385 | Episodes: 12 | Win count: 4 | Win rate: 0.000 | time: 85.7 seconds\n",
            "Epoch: 049/49 | Loss: 2.2554 | Episodes: 40 | Win count: 4 | Win rate: 0.000 | time: 88.0 seconds\n",
            "files: model.h5, model.json\n",
            "n_epoch: 49, max_mem: 128, data: 32, time: 88.0 seconds\n"
          ],
          "name": "stdout"
        },
        {
          "output_type": "execute_result",
          "data": {
            "text/plain": [
              "88.00124"
            ]
          },
          "metadata": {
            "tags": []
          },
          "execution_count": 43
        },
        {
          "output_type": "display_data",
          "data": {
            "image/png": "[encoded data removed]",
            "text/plain": [
              "<Figure size 432x288 with 1 Axes>"
            ]
          },
          "metadata": {
            "tags": [],
            "needs_background": "light"
          }
        }
      ]
    },
    {
      "cell_type": "code",
      "metadata": {
        "id": "0V70qjds5ab2",
        "colab": {
          "base_uri": "https://localhost:8080/",
          "height": 1000
        },
        "outputId": "a29e9bbb-7d8b-40b6-ceb8-5e60820847a6"
      },
      "source": [
        "test6_8 = np.array([\n",
        "    [ 0.,  0.,  0., 0. , 0. , 0.],\n",
        "    [ 1.,  1.,  1., 1. ,  1. , 1.],\n",
        "    [ 1.,  3., 0. ,  0.,  0. , 1.],\n",
        "    [ 0., 0. ,  1.,  1., 1.,   1.] , \n",
        "    [0. ,0. , 1. , 1. , 1. ,0.] , \n",
        "    [0. , 0. ,1. ,1. ,1., 0. ]\n",
        "])\n",
        "print(test6_8.shape)\n",
        "start_loc = rat_loc(test6_8)\n",
        "qmaze = Qmaze(test6_8, start_loc)\n",
        "show(qmaze)\n",
        "model = build_model(test6_8)\n",
        "qtrain(model, test6_8,start_loc, epochs=1000, max_memory=8*maze.size, data_size=32)"
      ],
      "execution_count": null,
      "outputs": [
        {
          "output_type": "stream",
          "text": [
            "(6, 6)\n",
            "Epoch: 000/49 | Loss: 0.9456 | Episodes: 145 | Win count: 0 | Win rate: 0.000 | time: 8.1 seconds\n",
            "Epoch: 001/49 | Loss: 0.6046 | Episodes: 25 | Win count: 0 | Win rate: 0.000 | time: 9.4 seconds\n",
            "Epoch: 002/49 | Loss: 0.0122 | Episodes: 13 | Win count: 0 | Win rate: 0.000 | time: 10.2 seconds\n",
            "Epoch: 003/49 | Loss: 0.3869 | Episodes: 7 | Win count: 0 | Win rate: 0.000 | time: 10.6 seconds\n",
            "Epoch: 004/49 | Loss: 0.3286 | Episodes: 24 | Win count: 0 | Win rate: 0.000 | time: 11.9 seconds\n",
            "Epoch: 005/49 | Loss: 0.0091 | Episodes: 6 | Win count: 0 | Win rate: 0.000 | time: 12.2 seconds\n",
            "Epoch: 006/49 | Loss: 0.0134 | Episodes: 14 | Win count: 0 | Win rate: 0.000 | time: 13.0 seconds\n",
            "Epoch: 007/49 | Loss: 0.0214 | Episodes: 33 | Win count: 0 | Win rate: 0.000 | time: 14.8 seconds\n",
            "Epoch: 008/49 | Loss: 0.0251 | Episodes: 31 | Win count: 0 | Win rate: 0.000 | time: 16.5 seconds\n",
            "Epoch: 009/49 | Loss: 0.0263 | Episodes: 16 | Win count: 0 | Win rate: 0.000 | time: 17.4 seconds\n",
            "Epoch: 010/49 | Loss: 0.0206 | Episodes: 9 | Win count: 0 | Win rate: 0.000 | time: 18.0 seconds\n",
            "Epoch: 011/49 | Loss: 0.0139 | Episodes: 8 | Win count: 0 | Win rate: 0.000 | time: 18.4 seconds\n",
            "Epoch: 012/49 | Loss: 0.0057 | Episodes: 23 | Win count: 0 | Win rate: 0.000 | time: 19.7 seconds\n",
            "Epoch: 013/49 | Loss: 0.0059 | Episodes: 3 | Win count: 0 | Win rate: 0.000 | time: 19.9 seconds\n",
            "Epoch: 014/49 | Loss: 1.0574 | Episodes: 145 | Win count: 0 | Win rate: 0.000 | time: 27.8 seconds\n",
            "Epoch: 015/49 | Loss: 0.0096 | Episodes: 32 | Win count: 0 | Win rate: 0.000 | time: 29.6 seconds\n",
            "Epoch: 016/49 | Loss: 0.0064 | Episodes: 14 | Win count: 0 | Win rate: 0.000 | time: 30.4 seconds\n",
            "Epoch: 017/49 | Loss: 0.0056 | Episodes: 15 | Win count: 0 | Win rate: 0.000 | time: 31.2 seconds\n",
            "Epoch: 018/49 | Loss: 0.0472 | Episodes: 5 | Win count: 0 | Win rate: 0.000 | time: 31.5 seconds\n",
            "Epoch: 019/49 | Loss: 0.3452 | Episodes: 16 | Win count: 0 | Win rate: 0.000 | time: 32.4 seconds\n",
            "Epoch: 020/49 | Loss: 0.0085 | Episodes: 5 | Win count: 0 | Win rate: 0.000 | time: 32.6 seconds\n",
            "Epoch: 021/49 | Loss: 0.2891 | Episodes: 4 | Win count: 0 | Win rate: 0.000 | time: 32.9 seconds\n",
            "Epoch: 022/49 | Loss: 0.0483 | Episodes: 7 | Win count: 0 | Win rate: 0.000 | time: 33.3 seconds\n",
            "Epoch: 023/49 | Loss: 0.0306 | Episodes: 26 | Win count: 0 | Win rate: 0.000 | time: 34.7 seconds\n",
            "Epoch: 024/49 | Loss: 0.0445 | Episodes: 60 | Win count: 0 | Win rate: 0.000 | time: 38.0 seconds\n",
            "Epoch: 025/49 | Loss: 0.0262 | Episodes: 10 | Win count: 0 | Win rate: 0.000 | time: 38.6 seconds\n",
            "Epoch: 026/49 | Loss: 0.0045 | Episodes: 9 | Win count: 0 | Win rate: 0.000 | time: 39.1 seconds\n",
            "Epoch: 027/49 | Loss: 0.0213 | Episodes: 38 | Win count: 0 | Win rate: 0.000 | time: 41.2 seconds\n",
            "Epoch: 028/49 | Loss: 0.0234 | Episodes: 5 | Win count: 0 | Win rate: 0.000 | time: 41.5 seconds\n",
            "Epoch: 029/49 | Loss: 0.0159 | Episodes: 22 | Win count: 0 | Win rate: 0.000 | time: 42.7 seconds\n",
            "Epoch: 030/49 | Loss: 0.0191 | Episodes: 13 | Win count: 0 | Win rate: 0.000 | time: 43.4 seconds\n",
            "Epoch: 031/49 | Loss: 0.0179 | Episodes: 5 | Win count: 0 | Win rate: 0.000 | time: 43.7 seconds\n",
            "Epoch: 032/49 | Loss: 0.0101 | Episodes: 7 | Win count: 0 | Win rate: 0.000 | time: 44.1 seconds\n",
            "Epoch: 033/49 | Loss: 0.0063 | Episodes: 23 | Win count: 0 | Win rate: 0.000 | time: 45.4 seconds\n",
            "Epoch: 034/49 | Loss: 0.0065 | Episodes: 24 | Win count: 0 | Win rate: 0.000 | time: 46.7 seconds\n",
            "Epoch: 035/49 | Loss: 0.0134 | Episodes: 3 | Win count: 0 | Win rate: 0.000 | time: 46.9 seconds\n",
            "Epoch: 036/49 | Loss: 0.0044 | Episodes: 145 | Win count: 0 | Win rate: 0.000 | time: 54.8 seconds\n",
            "Epoch: 037/49 | Loss: 0.0327 | Episodes: 19 | Win count: 0 | Win rate: 0.000 | time: 55.9 seconds\n",
            "Epoch: 038/49 | Loss: 0.0042 | Episodes: 29 | Win count: 0 | Win rate: 0.000 | time: 57.5 seconds\n",
            "Epoch: 039/49 | Loss: 0.0078 | Episodes: 19 | Win count: 0 | Win rate: 0.000 | time: 58.5 seconds\n",
            "Epoch: 040/49 | Loss: 0.0141 | Episodes: 19 | Win count: 0 | Win rate: 0.000 | time: 59.6 seconds\n",
            "Epoch: 041/49 | Loss: 0.0216 | Episodes: 16 | Win count: 0 | Win rate: 0.000 | time: 60.4 seconds\n",
            "Epoch: 042/49 | Loss: 0.0193 | Episodes: 13 | Win count: 0 | Win rate: 0.000 | time: 61.2 seconds\n",
            "Epoch: 043/49 | Loss: 0.0332 | Episodes: 33 | Win count: 0 | Win rate: 0.000 | time: 63.0 seconds\n",
            "Epoch: 044/49 | Loss: 0.0656 | Episodes: 39 | Win count: 0 | Win rate: 0.000 | time: 65.1 seconds\n",
            "Epoch: 045/49 | Loss: 0.0181 | Episodes: 12 | Win count: 0 | Win rate: 0.000 | time: 65.8 seconds\n",
            "Epoch: 046/49 | Loss: 0.0158 | Episodes: 7 | Win count: 0 | Win rate: 0.000 | time: 66.2 seconds\n",
            "Epoch: 047/49 | Loss: 0.0187 | Episodes: 4 | Win count: 0 | Win rate: 0.000 | time: 66.4 seconds\n",
            "Epoch: 048/49 | Loss: 0.0024 | Episodes: 145 | Win count: 0 | Win rate: 0.000 | time: 74.3 seconds\n",
            "Epoch: 049/49 | Loss: 0.0060 | Episodes: 16 | Win count: 0 | Win rate: 0.000 | time: 75.2 seconds\n",
            "files: model.h5, model.json\n",
            "n_epoch: 49, max_mem: 128, data: 32, time: 75.2 seconds\n"
          ],
          "name": "stdout"
        },
        {
          "output_type": "execute_result",
          "data": {
            "text/plain": [
              "75.211118"
            ]
          },
          "metadata": {
            "tags": []
          },
          "execution_count": 44
        },
        {
          "output_type": "display_data",
          "data": {
            "image/png": "[encoded data removed]",
            "text/plain": [
              "<Figure size 432x288 with 1 Axes>"
            ]
          },
          "metadata": {
            "tags": [],
            "needs_background": "light"
          }
        }
      ]
    }
  ]
}